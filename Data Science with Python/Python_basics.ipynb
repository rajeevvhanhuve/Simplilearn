{
  "cells": [
    {
      "cell_type": "markdown",
      "metadata": {
        "id": "R2Uzyo2M3cuP"
      },
      "source": [
        "# Introduction To Python   "
      ]
    },
    {
      "cell_type": "markdown",
      "metadata": {
        "id": "cdzbXGhP3cuW"
      },
      "source": [
        "## Why python? \n",
        "\n",
        "* Written by Guido van Rossum in 1990.\n",
        "\n",
        "* Was named after BBC Show **Monty Python's Flying Circus**\n",
        "\n",
        "* Practical uses of python."
      ]
    },
    {
      "cell_type": "markdown",
      "metadata": {
        "id": "dW-aqsEq3cuX"
      },
      "source": [
        "![image.png](attachment:image.png)"
      ]
    },
    {
      "cell_type": "markdown",
      "metadata": {
        "id": "_SWpeWEg3cuX"
      },
      "source": [
        "## Advantages of Python\n",
        "\n",
        "* **The Code looks similar to how Humans think.****\n",
        "\n",
        "\n",
        "* **Python is free and open-source** - open source means that's it's source code is available to public . we can download it , change it ,use it and distribute it. This feature is called FLOSS (Free and open source software.)\n",
        "\n",
        "\n",
        "* **Portable** - we does not need to change the code that's written in windows operating system to run it on mac or any other operating system.\n",
        "\n",
        "\n",
        "* **It is well supoorted and has numerous online content.**\n",
        "\n",
        "\n",
        "* **It is Dynamically typed**  - meand the type of value is decided at runtime , this is why de don't need to specify the data type while decalaring it.\n",
        "\n",
        "\n",
        "* **It has many powerfull libraries for data manipulation and analysis , data visulatization.**\n",
        "\n",
        "\n",
        "* **Python has Machine Learning.**\n"
      ]
    },
    {
      "cell_type": "markdown",
      "metadata": {
        "id": "zr4IvOE43cuY"
      },
      "source": [
        "## Downloading and Installing\n",
        "\n",
        "* It can be downloaded from Python official website download section. - **https://www.python.org/downloads**\n",
        "\n",
        "* A executable file (.exe) will be download and upon running it python will be installed in machine.\n",
        "\n",
        "## File Extension  - \n",
        "   **.py**"
      ]
    },
    {
      "cell_type": "markdown",
      "metadata": {
        "id": "7Jd4NMrp3cuZ"
      },
      "source": [
        "### IDE (Integrated Development Environment) - Is a the Text Editior for writing the Program ( Code )."
      ]
    },
    {
      "cell_type": "markdown",
      "metadata": {
        "id": "x9kil1D13cuZ"
      },
      "source": [
        "## Python Distributions\n",
        "\n",
        "- Python software foundation does regular releases of python on its offical webstie . we call them standard distribution.\n",
        "\n",
        "- Other python distribution are downloaded as per person's convenience , they also have many 3^rd party libraries pre installed.\n",
        "\n",
        "Examples of python distribution - \n",
        "\n",
        "* Anaconda from continuum analytics\n",
        "* Pocket python\n",
        "* Portable Python - run python from USB device.\n",
        "* Active python from active state."
      ]
    },
    {
      "cell_type": "markdown",
      "metadata": {
        "id": "2bojtWRY3cuc"
      },
      "source": [
        "## Anaconda Python Distribution\n",
        "\n",
        "- We can download it from  - https://www.anaconda.com/distribution/  , use graphical installer\n",
        "- A .exe file will be downloaded ,run it and Anaconda will be installed. \n",
        "- Run anaconda distribution.\n",
        "\n",
        "### Lets have a brief introduction to Anaconda navigator and Jupyter notebook."
      ]
    },
    {
      "cell_type": "markdown",
      "metadata": {
        "id": "88oTnWas3cuc"
      },
      "source": [
        "### PRINT Command"
      ]
    },
    {
      "cell_type": "code",
      "execution_count": null,
      "metadata": {
        "id": "3lrI0JSy3cud",
        "outputId": "8a0263a3-3221-4bae-aa8d-9faf3e03ac5b"
      },
      "outputs": [
        {
          "name": "stdout",
          "output_type": "stream",
          "text": [
            "Hello World\n"
          ]
        }
      ],
      "source": [
        "print(\"Hello World\") # It is a function"
      ]
    },
    {
      "cell_type": "code",
      "execution_count": null,
      "metadata": {
        "id": "gBoey7773cug",
        "outputId": "7948c81a-293a-4877-ef73-b1cf8ffb4746"
      },
      "outputs": [
        {
          "name": "stdout",
          "output_type": "stream",
          "text": [
            "Hello World How r you I am fine\n"
          ]
        }
      ],
      "source": [
        "print(\"Hello World\",\"How r you\",\"I am fine\")  # 'shift + tab' after bracket to get info about all parameters"
      ]
    },
    {
      "cell_type": "code",
      "execution_count": null,
      "metadata": {
        "id": "hlJqmlhd3cug",
        "outputId": "8f911e5d-4efa-4acb-edfc-d40c7296da9c"
      },
      "outputs": [
        {
          "name": "stdout",
          "output_type": "stream",
          "text": [
            "Hello World How r you I am fine\n",
            "This is the second line\n"
          ]
        }
      ],
      "source": [
        "print(\"Hello World\",\"How r you\",\"I am fine\")\n",
        "print(\"This is the second line\")"
      ]
    },
    {
      "cell_type": "code",
      "execution_count": null,
      "metadata": {
        "id": "fgK9r-Yx3cuh",
        "outputId": "50056841-c102-4144-f3f8-05ad26721b87"
      },
      "outputs": [
        {
          "name": "stdout",
          "output_type": "stream",
          "text": [
            "Hi\tHow\n",
            "r you\n"
          ]
        }
      ],
      "source": [
        "# Special Character are: - \"\\\" it is known as escape character\n",
        "# 1) \"\\n\" - It stands for new line\n",
        "# 2) \"\\t\" - It stands for a tab space\n",
        "\n",
        "print(\"Hi\",\"\\t\",\"How\",\"\\n\",\"r you\",sep=\"\")"
      ]
    },
    {
      "cell_type": "code",
      "execution_count": null,
      "metadata": {
        "id": "NflYVJv_3cui",
        "outputId": "eb5375da-2bcb-4cbc-c406-0524b8fd8b38"
      },
      "outputs": [
        {
          "name": "stdout",
          "output_type": "stream",
          "text": [
            "Hello World How r you I am fine\n",
            "This is the second line\n"
          ]
        }
      ],
      "source": [
        "# sep stands for seprator - it tells how to split or display all the values in a single print command\n",
        "# end - it tells where the next print command output will come.\n",
        "\n",
        "print(\"Hello World\",\"How r you\",\"I am fine\",sep=\" \",end=\"\\n\")\n",
        "print(\"This is the second line\")"
      ]
    },
    {
      "cell_type": "code",
      "execution_count": null,
      "metadata": {
        "id": "Kq-D2tOt3cui",
        "outputId": "4151989b-3c88-4540-ca50-21d261cebac1"
      },
      "outputs": [
        {
          "name": "stdout",
          "output_type": "stream",
          "text": [
            "Hello World***How r you***I am fine\n",
            "This is the second line\n"
          ]
        }
      ],
      "source": [
        "print(\"Hello World\",\"How r you\",\"I am fine\",sep=\"***\",end=\"\\n\")\n",
        "print(\"This is the second line\")"
      ]
    },
    {
      "cell_type": "code",
      "execution_count": null,
      "metadata": {
        "id": "JfJbU5dp3cui",
        "outputId": "bf3eaf60-2340-4744-9a44-1885e7e61cd6"
      },
      "outputs": [
        {
          "name": "stdout",
          "output_type": "stream",
          "text": [
            "Hello World***How r you***I am fine-----This is the second line\n"
          ]
        }
      ],
      "source": [
        "print(\"Hello World\",\"How r you\",\"I am fine\",sep=\"***\",end=\"-----\")\n",
        "print(\"This is the second line\")"
      ]
    },
    {
      "cell_type": "code",
      "execution_count": null,
      "metadata": {
        "id": "BrPlSqGZ3cuj",
        "outputId": "415bb5a7-84e3-4502-f2be-dcf3bc5cabc1"
      },
      "outputs": [
        {
          "name": "stdout",
          "output_type": "stream",
          "text": [
            "Adding 2 no's\n",
            "12\n",
            "Adding 3 no's\n",
            "12\n"
          ]
        }
      ],
      "source": [
        "print(\"Adding 2 no's\",5+7,\"Adding 3 no's\",3+4+5,sep='\\n')"
      ]
    },
    {
      "cell_type": "code",
      "execution_count": null,
      "metadata": {
        "id": "GAX83L6R3cuj",
        "outputId": "eec4c744-9bdd-4bc9-eca6-a8b4663bbba8"
      },
      "outputs": [
        {
          "ename": "SyntaxError",
          "evalue": "EOL while scanning string literal (<ipython-input-25-0e1413d89b0b>, line 1)",
          "output_type": "error",
          "traceback": [
            "\u001b[1;36m  File \u001b[1;32m\"<ipython-input-25-0e1413d89b0b>\"\u001b[1;36m, line \u001b[1;32m1\u001b[0m\n\u001b[1;33m    print(\"hi how are you\u001b[0m\n\u001b[1;37m                           ^\u001b[0m\n\u001b[1;31mSyntaxError\u001b[0m\u001b[1;31m:\u001b[0m EOL while scanning string literal\n"
          ]
        }
      ],
      "source": [
        "print(\"hi how are you  \n",
        "      ok i am fine \")"
      ]
    },
    {
      "cell_type": "code",
      "execution_count": null,
      "metadata": {
        "id": "i_G0f3AZ3cuk",
        "outputId": "f6292328-657f-4e76-f435-08fe71f02ea8"
      },
      "outputs": [
        {
          "name": "stdout",
          "output_type": "stream",
          "text": [
            "hi how are you ok i am fine \n"
          ]
        }
      ],
      "source": [
        "print(\"hi how are you \\\n",
        "ok i am fine \")   # \\ is known as escape character in python"
      ]
    },
    {
      "cell_type": "code",
      "execution_count": null,
      "metadata": {
        "id": "AUHFSsgT3cul",
        "outputId": "2a5c8407-c13b-4f36-c2e5-557f2b6c3af6"
      },
      "outputs": [
        {
          "name": "stdout",
          "output_type": "stream",
          "text": [
            "how r u, whats up\n",
            "how r u, what's up\n"
          ]
        }
      ],
      "source": [
        "print('how r u, whats up')\n",
        "print(\"how r u, what's up\")"
      ]
    },
    {
      "cell_type": "markdown",
      "metadata": {
        "id": "3qQpW3Jy3cul"
      },
      "source": [
        "## Comments in Python"
      ]
    },
    {
      "cell_type": "markdown",
      "metadata": {
        "id": "A0H3pfh-3cul"
      },
      "source": [
        "### Comments\n",
        "They are used for giving a information about anything . They come in action when # i put before a line code\n",
        "\n",
        "when the program runs seeing the # character the program skips that line."
      ]
    },
    {
      "cell_type": "code",
      "execution_count": null,
      "metadata": {
        "id": "ORyGGBDm3cum",
        "outputId": "db1dcf12-d9cd-46f1-e3e7-6b96d74c6d30"
      },
      "outputs": [
        {
          "name": "stdout",
          "output_type": "stream",
          "text": [
            "hello world1\n",
            "hello world1\n",
            "hello world1\n"
          ]
        }
      ],
      "source": [
        "# Shortcut for Commenting & uncommenting a code is - ctrl + / (this key is Left side of shift key in keyoard along ? mark)\n",
        "# select all code - ctrl + a\n",
        "\n",
        "# print('hello world1')  #This is the print command\n",
        "# print('hello world1')\n",
        "# print('hello world1')\n",
        "# print('hello world1')\n",
        "# print('hello world1')\n",
        "# print('hello world1')\n",
        "# print('hello world1')\n",
        "print('hello world1')\n",
        "print('hello world1')\n",
        "print('hello world1')"
      ]
    },
    {
      "cell_type": "markdown",
      "metadata": {
        "id": "Ht2Kkg2K3cum"
      },
      "source": [
        "## Usage of Triple Quotes\n",
        "\n",
        "1) Multi-Line comment\n",
        "\n",
        "2) Multi-Line print"
      ]
    },
    {
      "cell_type": "code",
      "execution_count": null,
      "metadata": {
        "id": "2rYWuyE93cum",
        "outputId": "f0bbf516-b2fe-4242-fb04-18c189ee9055"
      },
      "outputs": [
        {
          "name": "stdout",
          "output_type": "stream",
          "text": [
            "hi\n"
          ]
        }
      ],
      "source": [
        "# 1) Multi-Line comment\n",
        "\n",
        "'''\n",
        "print('hello world1')  #This is the print command\n",
        "print('hello world1')\n",
        "print('hello world1')\n",
        "print('hello world1')\n",
        "print('hello world1')\n",
        "print('hello world1')\n",
        "print('hello world1')\n",
        "print('hello world1')\n",
        "print('hello world1')\n",
        "print('hello world1')\n",
        "'''\n",
        "print(\"hi\")"
      ]
    },
    {
      "cell_type": "code",
      "execution_count": null,
      "metadata": {
        "id": "4AwsTTi-3cun",
        "outputId": "a9109a12-3292-4784-d780-649f0370e00a"
      },
      "outputs": [
        {
          "name": "stdout",
          "output_type": "stream",
          "text": [
            "hi how\"s are you\n",
            "ok i am fine\n",
            "and will meet u tomoorow\n"
          ]
        }
      ],
      "source": [
        "# 2) Multi-Line print\n",
        "\n",
        "print('''hi how\"s are you\n",
        "ok i am fine\n",
        "and will meet u tomoorow''')"
      ]
    },
    {
      "cell_type": "markdown",
      "metadata": {
        "id": "JG98JuAU3cun"
      },
      "source": [
        "## Data Types"
      ]
    },
    {
      "cell_type": "markdown",
      "metadata": {
        "id": "hu-zq_JA3cun"
      },
      "source": [
        "1) **Integer** e.g -- 1,2,3,4,5\n",
        "\n",
        "2) **float** - These are decimal values   e.g -- 1.1,2.5,3.6\n",
        "\n",
        "3) **String**  e.g -- 'Hello World'\n",
        "\n",
        "4) **Boolean** e.g -- True, False"
      ]
    },
    {
      "cell_type": "markdown",
      "metadata": {
        "id": "PuJG2-Mz3cun"
      },
      "source": [
        "## In-built Functions\n",
        "\n",
        "1) Type : Tells the data Type or Data Structure of the object.\n",
        "\n",
        "2) Len : Tells the length of the object."
      ]
    },
    {
      "cell_type": "code",
      "execution_count": null,
      "metadata": {
        "ExecuteTime": {
          "end_time": "2021-02-28T04:56:37.090301Z",
          "start_time": "2021-02-28T04:56:37.083320Z"
        },
        "id": "YqK5Cwpl3cun",
        "outputId": "c5f843a9-c4fc-4673-a465-2083cf0e3bcd"
      },
      "outputs": [
        {
          "data": {
            "text/plain": [
              "int"
            ]
          },
          "execution_count": 54,
          "metadata": {},
          "output_type": "execute_result"
        }
      ],
      "source": [
        "type(4444) #  int stands for integer"
      ]
    },
    {
      "cell_type": "code",
      "execution_count": null,
      "metadata": {
        "id": "pywtuRk93cuo",
        "outputId": "c7a42f08-3081-45ac-b3b6-0afeb6a6a395"
      },
      "outputs": [
        {
          "data": {
            "text/plain": [
              "float"
            ]
          },
          "execution_count": 55,
          "metadata": {},
          "output_type": "execute_result"
        }
      ],
      "source": [
        "type(1.25)"
      ]
    },
    {
      "cell_type": "code",
      "execution_count": null,
      "metadata": {
        "id": "Z8Rpcwzy3cuo",
        "outputId": "3c343f3d-8140-45c8-d408-c78126689a48"
      },
      "outputs": [
        {
          "data": {
            "text/plain": [
              "str"
            ]
          },
          "execution_count": 56,
          "metadata": {},
          "output_type": "execute_result"
        }
      ],
      "source": [
        "type('9999')"
      ]
    },
    {
      "cell_type": "code",
      "execution_count": null,
      "metadata": {
        "id": "NFh2LeWh3cuo",
        "outputId": "d433577b-4fcb-49a1-a414-46271aadec5c"
      },
      "outputs": [
        {
          "data": {
            "text/plain": [
              "str"
            ]
          },
          "execution_count": 57,
          "metadata": {},
          "output_type": "execute_result"
        }
      ],
      "source": [
        "type('abcde')"
      ]
    },
    {
      "cell_type": "code",
      "execution_count": null,
      "metadata": {
        "id": "8uUV1_LE3cuo",
        "outputId": "d1b3a891-e102-4f70-9f7c-d14aaa8b3388"
      },
      "outputs": [
        {
          "data": {
            "text/plain": [
              "bool"
            ]
          },
          "execution_count": 58,
          "metadata": {},
          "output_type": "execute_result"
        }
      ],
      "source": [
        "type(True) ## BOOLEAN"
      ]
    },
    {
      "cell_type": "code",
      "execution_count": null,
      "metadata": {
        "id": "SkqtbP5C3cup",
        "outputId": "05d24789-fe27-4b3e-bc2a-ba4e725fbb82"
      },
      "outputs": [
        {
          "data": {
            "text/plain": [
              "bool"
            ]
          },
          "execution_count": 59,
          "metadata": {},
          "output_type": "execute_result"
        }
      ],
      "source": [
        "type(False)"
      ]
    },
    {
      "cell_type": "code",
      "execution_count": null,
      "metadata": {
        "id": "V_CHoGuA3cup",
        "outputId": "9a66fb20-9e90-4d86-aa64-9e1fc3b59568"
      },
      "outputs": [
        {
          "name": "stdout",
          "output_type": "stream",
          "text": [
            "<class 'int'>\n"
          ]
        },
        {
          "data": {
            "text/plain": [
              "bool"
            ]
          },
          "execution_count": 62,
          "metadata": {},
          "output_type": "execute_result"
        }
      ],
      "source": [
        "type('abcde')\n",
        "print(type(9999))\n",
        "type(False)"
      ]
    },
    {
      "cell_type": "markdown",
      "metadata": {
        "id": "av7n7cWh3cup"
      },
      "source": [
        "## len Function"
      ]
    },
    {
      "cell_type": "code",
      "execution_count": null,
      "metadata": {
        "id": "xZFZJvU73cup",
        "outputId": "c29c2df2-e758-403a-9060-049ed244fed0"
      },
      "outputs": [
        {
          "name": "stdout",
          "output_type": "stream",
          "text": [
            "2\n"
          ]
        },
        {
          "data": {
            "text/plain": [
              "7"
            ]
          },
          "execution_count": 63,
          "metadata": {},
          "output_type": "execute_result"
        }
      ],
      "source": [
        "print(len('ab'))\n",
        "\n",
        "len('ab c de') # space will also get counted"
      ]
    },
    {
      "cell_type": "code",
      "execution_count": null,
      "metadata": {
        "id": "YJ35kU_V3cuq",
        "outputId": "08f540ae-bb13-4d6d-eca5-aecce835684d"
      },
      "outputs": [
        {
          "data": {
            "text/plain": [
              "4"
            ]
          },
          "execution_count": 64,
          "metadata": {},
          "output_type": "execute_result"
        }
      ],
      "source": [
        "len('9999')"
      ]
    },
    {
      "cell_type": "code",
      "execution_count": null,
      "metadata": {
        "id": "PtUogk5F3cuq",
        "outputId": "5849195d-f8c6-4e8b-8ec2-6b4a7c9118e8"
      },
      "outputs": [
        {
          "ename": "TypeError",
          "evalue": "object of type 'int' has no len()",
          "output_type": "error",
          "traceback": [
            "\u001b[1;31m---------------------------------------------------------------------------\u001b[0m",
            "\u001b[1;31mTypeError\u001b[0m                                 Traceback (most recent call last)",
            "\u001b[1;32m<ipython-input-66-27d7354f9f67>\u001b[0m in \u001b[0;36m<module>\u001b[1;34m\u001b[0m\n\u001b[1;32m----> 1\u001b[1;33m \u001b[0mlen\u001b[0m\u001b[1;33m(\u001b[0m\u001b[1;36m9999\u001b[0m\u001b[1;33m)\u001b[0m\u001b[1;33m\u001b[0m\u001b[1;33m\u001b[0m\u001b[0m\n\u001b[0m",
            "\u001b[1;31mTypeError\u001b[0m: object of type 'int' has no len()"
          ]
        }
      ],
      "source": [
        "len(9999)"
      ]
    },
    {
      "cell_type": "code",
      "execution_count": null,
      "metadata": {
        "id": "QlunhRgk3cuq",
        "outputId": "b12577c2-74b6-4f27-d408-3048c5a86cac"
      },
      "outputs": [
        {
          "ename": "TypeError",
          "evalue": "object of type 'bool' has no len()",
          "output_type": "error",
          "traceback": [
            "\u001b[1;31m---------------------------------------------------------------------------\u001b[0m",
            "\u001b[1;31mTypeError\u001b[0m                                 Traceback (most recent call last)",
            "\u001b[1;32m<ipython-input-67-8c3be77e04f4>\u001b[0m in \u001b[0;36m<module>\u001b[1;34m\u001b[0m\n\u001b[1;32m----> 1\u001b[1;33m \u001b[0mlen\u001b[0m\u001b[1;33m(\u001b[0m\u001b[1;32mTrue\u001b[0m\u001b[1;33m)\u001b[0m\u001b[1;33m\u001b[0m\u001b[1;33m\u001b[0m\u001b[0m\n\u001b[0m",
            "\u001b[1;31mTypeError\u001b[0m: object of type 'bool' has no len()"
          ]
        }
      ],
      "source": [
        "len(True)"
      ]
    },
    {
      "cell_type": "markdown",
      "metadata": {
        "id": "foUtT3uV3cuq"
      },
      "source": [
        "### Initializing a Variables / Variable Assignment"
      ]
    },
    {
      "cell_type": "code",
      "execution_count": null,
      "metadata": {
        "id": "Q8rvNQyj3cuq",
        "outputId": "6c39f52e-1c8e-4daf-8a93-3fe3e35630d9"
      },
      "outputs": [
        {
          "data": {
            "text/plain": [
              "13"
            ]
          },
          "execution_count": 69,
          "metadata": {},
          "output_type": "execute_result"
        }
      ],
      "source": [
        "# we are not storing these values anywhere\n",
        "\n",
        "5+2+6"
      ]
    },
    {
      "cell_type": "code",
      "execution_count": null,
      "metadata": {
        "id": "sH3Z1NUe3cur",
        "outputId": "22ec5dd2-cdf0-4862-f6d1-52127fd34c89"
      },
      "outputs": [
        {
          "name": "stdout",
          "output_type": "stream",
          "text": [
            "13\n"
          ]
        }
      ],
      "source": [
        "# num is a variable\n",
        "'''\n",
        "Variable Definition: \n",
        "In programming, a variable is a value that can change,depending on conditions or on information passed to the program. \n",
        "A variable refers to a memory location in your system\n",
        "'''\n",
        "\n",
        "num=5+2+6\n",
        "print(num)"
      ]
    },
    {
      "cell_type": "code",
      "execution_count": null,
      "metadata": {
        "id": "DMOqUMd83cur",
        "outputId": "d8e04442-7573-4607-ceda-8e69ad5b3d4c"
      },
      "outputs": [
        {
          "name": "stdout",
          "output_type": "stream",
          "text": [
            "65\n"
          ]
        }
      ],
      "source": [
        "# Rules for Variable naming\n",
        "\n",
        "# 1) Can not start with number or special characters eg- 5num, 10num, @num\n",
        "# 2) The variable assignent is always from Right Hand Side (R.H.S) to Left Hand Side(L.H.S) \n",
        "# 3) The Variable names should not be reserved keywords such as print, len etc else it will alter the functioning of \n",
        "#  the reserved keyword and u need to restart the kernel to restore the origional functioning\n",
        "\n",
        "#  L.H.S    =  R.H.S\n",
        "\n",
        "name_of_var_5 = 5+10+50\n",
        "print(name_of_var_5)"
      ]
    },
    {
      "cell_type": "code",
      "execution_count": null,
      "metadata": {
        "ExecuteTime": {
          "end_time": "2021-02-28T05:11:41.039982Z",
          "start_time": "2021-02-28T05:11:41.033996Z"
        },
        "id": "FgOB-bY53cur",
        "outputId": "8d05816c-bef5-4505-fb6b-b8014e9393a9"
      },
      "outputs": [
        {
          "name": "stdout",
          "output_type": "stream",
          "text": [
            "2 5 3\n"
          ]
        }
      ],
      "source": [
        "x = 2\n",
        "X = 5\n",
        "y = 3\n",
        "print(x,X,y)"
      ]
    },
    {
      "cell_type": "code",
      "execution_count": null,
      "metadata": {
        "id": "tOnSwZDX3cur"
      },
      "outputs": [],
      "source": [
        "# x=2,3,3,4  # here x is not a data type it is a data structure called tuple\n",
        "# print(x,type(x))"
      ]
    },
    {
      "cell_type": "code",
      "execution_count": null,
      "metadata": {
        "ExecuteTime": {
          "end_time": "2021-02-28T05:11:41.895693Z",
          "start_time": "2021-02-28T05:11:41.885763Z"
        },
        "id": "koGo9UIh3cus",
        "outputId": "108eeef0-ecb1-4b2b-fe58-d07a673d7003"
      },
      "outputs": [
        {
          "name": "stdout",
          "output_type": "stream",
          "text": [
            "3 2\n"
          ]
        }
      ],
      "source": [
        "# Multi VARIABLE Assignment\n",
        "\n",
        "x,y = 2,3  # there should be equal no. on both sides also called unpacking\n",
        "\n",
        "print(y,x)"
      ]
    },
    {
      "cell_type": "code",
      "execution_count": null,
      "metadata": {
        "id": "T_Eo_KGV3cus",
        "outputId": "0ada072d-c8bd-41c5-83bd-b08622ab25af"
      },
      "outputs": [
        {
          "name": "stdout",
          "output_type": "stream",
          "text": [
            "2 5 6\n"
          ]
        }
      ],
      "source": [
        "x,y,a = 2,5,6  # there should be equal no.variables and values on both sides, it is called unpacking\n",
        "\n",
        "print(x,y,a)"
      ]
    },
    {
      "cell_type": "code",
      "execution_count": null,
      "metadata": {
        "id": "EK22HGxe3cus",
        "outputId": "0141e3cf-2940-41d1-e525-e67468b39ff1"
      },
      "outputs": [
        {
          "data": {
            "text/plain": [
              "2"
            ]
          },
          "metadata": {},
          "output_type": "display_data"
        },
        {
          "data": {
            "text/plain": [
              "5"
            ]
          },
          "metadata": {},
          "output_type": "display_data"
        },
        {
          "data": {
            "text/plain": [
              "6"
            ]
          },
          "metadata": {},
          "output_type": "display_data"
        }
      ],
      "source": [
        "# display is functionality specific to jupyter notebook, and it displays the output with good spacing & readbility\n",
        "\n",
        "display(x,y,a)"
      ]
    },
    {
      "cell_type": "code",
      "execution_count": null,
      "metadata": {
        "id": "i2u-3huk3cus",
        "outputId": "4bbd7082-40e1-4c3d-95f2-d0357901e041"
      },
      "outputs": [
        {
          "data": {
            "text/plain": [
              "int"
            ]
          },
          "execution_count": 40,
          "metadata": {},
          "output_type": "execute_result"
        }
      ],
      "source": [
        "type(x)"
      ]
    },
    {
      "cell_type": "code",
      "execution_count": null,
      "metadata": {
        "ExecuteTime": {
          "end_time": "2021-02-28T05:11:42.341570Z",
          "start_time": "2021-02-28T05:11:42.335586Z"
        },
        "id": "mxybl4n_3cus"
      },
      "outputs": [],
      "source": [
        "#z= 2 + 5\n",
        "\n",
        "z = x + y"
      ]
    },
    {
      "cell_type": "code",
      "execution_count": null,
      "metadata": {
        "ExecuteTime": {
          "end_time": "2021-02-28T05:11:42.911531Z",
          "start_time": "2021-02-28T05:11:42.902531Z"
        },
        "id": "NoW1nKKG3cut",
        "outputId": "e79bc6a0-6b40-449d-cb2c-62ecd70ddd6a"
      },
      "outputs": [
        {
          "data": {
            "text/plain": [
              "7"
            ]
          },
          "execution_count": 45,
          "metadata": {},
          "output_type": "execute_result"
        }
      ],
      "source": [
        "z"
      ]
    },
    {
      "cell_type": "code",
      "execution_count": null,
      "metadata": {
        "id": "5eGQh65O3cut",
        "outputId": "1074dbee-617a-42f7-f0dd-e5d36135fa3f"
      },
      "outputs": [
        {
          "data": {
            "text/plain": [
              "2"
            ]
          },
          "execution_count": 46,
          "metadata": {},
          "output_type": "execute_result"
        }
      ],
      "source": [
        "x"
      ]
    },
    {
      "cell_type": "code",
      "execution_count": null,
      "metadata": {
        "id": "qpwAvRma3cut",
        "outputId": "29157332-c606-4d1a-94a4-4e5cbdfd3a9a"
      },
      "outputs": [
        {
          "data": {
            "text/plain": [
              "int"
            ]
          },
          "execution_count": 58,
          "metadata": {},
          "output_type": "execute_result"
        }
      ],
      "source": [
        "# variable reassigned\n",
        "x = 10\n",
        "type(x)"
      ]
    },
    {
      "cell_type": "code",
      "execution_count": null,
      "metadata": {
        "id": "5aFDjWOe3cut",
        "outputId": "7c06d40e-2aa4-462a-8fdc-2510de79c629"
      },
      "outputs": [
        {
          "data": {
            "text/plain": [
              "160"
            ]
          },
          "execution_count": 55,
          "metadata": {},
          "output_type": "execute_result"
        }
      ],
      "source": [
        "#x= 10+ 10\n",
        "x = x + x\n",
        "x"
      ]
    },
    {
      "cell_type": "code",
      "execution_count": null,
      "metadata": {
        "id": "9y1Qi_WW3cuu",
        "outputId": "ea919619-cfce-4a5e-db2d-4e3c61ba04ad"
      },
      "outputs": [
        {
          "data": {
            "text/plain": [
              "100.0"
            ]
          },
          "execution_count": 49,
          "metadata": {},
          "output_type": "execute_result"
        }
      ],
      "source": [
        "x=00100.00\n",
        "x"
      ]
    },
    {
      "cell_type": "code",
      "execution_count": null,
      "metadata": {
        "id": "RIE1N_Dt3cuu",
        "outputId": "5d72d294-2da7-483a-b7e4-1d659cecb6e8"
      },
      "outputs": [
        {
          "ename": "SyntaxError",
          "evalue": "leading zeros in decimal integer literals are not permitted; use an 0o prefix for octal integers (<ipython-input-50-86eb4dbaf198>, line 1)",
          "output_type": "error",
          "traceback": [
            "\u001b[1;36m  File \u001b[1;32m\"<ipython-input-50-86eb4dbaf198>\"\u001b[1;36m, line \u001b[1;32m1\u001b[0m\n\u001b[1;33m    x=00100\u001b[0m\n\u001b[1;37m          ^\u001b[0m\n\u001b[1;31mSyntaxError\u001b[0m\u001b[1;31m:\u001b[0m leading zeros in decimal integer literals are not permitted; use an 0o prefix for octal integers\n"
          ]
        }
      ],
      "source": [
        "x=00100\n",
        "x"
      ]
    },
    {
      "cell_type": "markdown",
      "metadata": {
        "id": "96wL2wEY3cuv"
      },
      "source": [
        "## Python Delete Command \n",
        "\n",
        "**del** keyword is used to delete something"
      ]
    },
    {
      "cell_type": "code",
      "execution_count": null,
      "metadata": {
        "id": "sWOgpSUo3cuv",
        "outputId": "a01373e3-1b65-424f-a156-2d0ebc8b4a72"
      },
      "outputs": [
        {
          "data": {
            "text/plain": [
              "10"
            ]
          },
          "execution_count": 59,
          "metadata": {},
          "output_type": "execute_result"
        }
      ],
      "source": [
        "x,y,z"
      ]
    },
    {
      "cell_type": "code",
      "execution_count": null,
      "metadata": {
        "id": "rlQWOXF03cuv"
      },
      "outputs": [],
      "source": [
        "# del \"variable name\"\n",
        "\n",
        "del x,y,z"
      ]
    },
    {
      "cell_type": "code",
      "execution_count": null,
      "metadata": {
        "id": "QgW5791M3cuv",
        "outputId": "b9ded541-8a9c-4941-f365-afaa08ef3f07"
      },
      "outputs": [
        {
          "ename": "NameError",
          "evalue": "name 'y' is not defined",
          "output_type": "error",
          "traceback": [
            "\u001b[1;31m---------------------------------------------------------------------------\u001b[0m",
            "\u001b[1;31mNameError\u001b[0m                                 Traceback (most recent call last)",
            "\u001b[1;32m<ipython-input-64-9063a9f0e032>\u001b[0m in \u001b[0;36m<module>\u001b[1;34m\u001b[0m\n\u001b[1;32m----> 1\u001b[1;33m \u001b[0my\u001b[0m\u001b[1;33m\u001b[0m\u001b[1;33m\u001b[0m\u001b[0m\n\u001b[0m",
            "\u001b[1;31mNameError\u001b[0m: name 'y' is not defined"
          ]
        }
      ],
      "source": [
        "x,y,z"
      ]
    },
    {
      "cell_type": "markdown",
      "metadata": {
        "id": "l8V06GmY3cuw"
      },
      "source": [
        "### Inter-converting string , float and int"
      ]
    },
    {
      "cell_type": "markdown",
      "metadata": {
        "id": "zPMlwOcA3cuw"
      },
      "source": [
        "**Converting to int**\n",
        "\n",
        "only the values which are number can be converted to int"
      ]
    },
    {
      "cell_type": "code",
      "execution_count": null,
      "metadata": {
        "ExecuteTime": {
          "end_time": "2021-02-28T05:21:38.764942Z",
          "start_time": "2021-02-28T05:21:38.759955Z"
        },
        "id": "_RcKsOLM3cuw",
        "outputId": "c017986c-421a-42ce-f8eb-edf5a65be6b4"
      },
      "outputs": [
        {
          "data": {
            "text/plain": [
              "str"
            ]
          },
          "metadata": {},
          "output_type": "display_data"
        },
        {
          "data": {
            "text/plain": [
              "str"
            ]
          },
          "metadata": {},
          "output_type": "display_data"
        },
        {
          "data": {
            "text/plain": [
              "int"
            ]
          },
          "metadata": {},
          "output_type": "display_data"
        },
        {
          "data": {
            "text/plain": [
              "float"
            ]
          },
          "metadata": {},
          "output_type": "display_data"
        }
      ],
      "source": [
        "val= 'a'\n",
        "s = '10'\n",
        "x=  100\n",
        "f = 10.0\n",
        "\n",
        "display(type(val),type(s),type(x),type(f))"
      ]
    },
    {
      "cell_type": "code",
      "execution_count": null,
      "metadata": {
        "id": "2EHv3Maq3cuw"
      },
      "outputs": [],
      "source": [
        "int(val)"
      ]
    },
    {
      "cell_type": "code",
      "execution_count": null,
      "metadata": {
        "id": "f4kKnxJq3cux",
        "outputId": "f511b3ec-df38-42b8-c89e-5b9d1e0c3a97"
      },
      "outputs": [
        {
          "data": {
            "text/plain": [
              "(10, int)"
            ]
          },
          "execution_count": 67,
          "metadata": {},
          "output_type": "execute_result"
        }
      ],
      "source": [
        "int(s), type(int(s))"
      ]
    },
    {
      "cell_type": "code",
      "execution_count": null,
      "metadata": {
        "id": "qyCBXVig3cux",
        "outputId": "ccb675e4-d7ee-4108-b51c-dc3c34cb2b6c"
      },
      "outputs": [
        {
          "data": {
            "text/plain": [
              "'100'"
            ]
          },
          "metadata": {},
          "output_type": "display_data"
        },
        {
          "data": {
            "text/plain": [
              "'10.0'"
            ]
          },
          "metadata": {},
          "output_type": "display_data"
        }
      ],
      "source": [
        "display(str(x), str(f))"
      ]
    },
    {
      "cell_type": "code",
      "execution_count": null,
      "metadata": {
        "id": "8O2ZHMz-3cux",
        "outputId": "87c89f4a-1681-4187-971a-ad288746c496"
      },
      "outputs": [
        {
          "data": {
            "text/plain": [
              "'100'"
            ]
          },
          "execution_count": 73,
          "metadata": {},
          "output_type": "execute_result"
        }
      ],
      "source": [
        "x=str(x)\n",
        "x"
      ]
    },
    {
      "cell_type": "code",
      "execution_count": null,
      "metadata": {
        "id": "PeUzy5YB3cuy",
        "outputId": "57cb2839-c4d5-43f9-92ca-4794b58a07d7"
      },
      "outputs": [
        {
          "data": {
            "text/plain": [
              "100.0"
            ]
          },
          "metadata": {},
          "output_type": "display_data"
        },
        {
          "data": {
            "text/plain": [
              "10"
            ]
          },
          "metadata": {},
          "output_type": "display_data"
        }
      ],
      "source": [
        "display(float(x) , int(f))"
      ]
    },
    {
      "cell_type": "markdown",
      "metadata": {
        "id": "abdAcjUI3cuy"
      },
      "source": [
        "### Getting variables details"
      ]
    },
    {
      "cell_type": "code",
      "execution_count": null,
      "metadata": {
        "id": "LWQEEvSi3cuy",
        "outputId": "05d4bbf1-eab0-4d5c-b999-2b82f8dc9d7f"
      },
      "outputs": [
        {
          "name": "stdout",
          "output_type": "stream",
          "text": [
            "Variable        Type     Data/Info\n",
            "----------------------------------\n",
            "X               int      5\n",
            "Y               int      4\n",
            "a               int      6\n",
            "f               float    10.0\n",
            "name_of_var_5   int      65\n",
            "num             int      18\n",
            "s               str      10\n",
            "val             str      a\n",
            "x               str      100\n"
          ]
        }
      ],
      "source": [
        "%whos"
      ]
    },
    {
      "cell_type": "markdown",
      "metadata": {
        "id": "0hnElIe93cuy"
      },
      "source": [
        "# Types of Operators \n",
        "\n",
        "1) **Arithmetic Operators**\n",
        "\n",
        "2) **Assignment  Operators**\n",
        "\n",
        "3) **Comparsion Operators**\n",
        "\n",
        "4) **Logical  Operators**\n",
        "\n",
        "5) **Identity Operators**\n",
        "\n",
        "6) **Membership Operators**\n"
      ]
    },
    {
      "cell_type": "markdown",
      "metadata": {
        "id": "VC3Ds8Z63cu3"
      },
      "source": [
        "## 1) Arithmetic Operators\n",
        "\n",
        "- **+**  : addition\n",
        "\n",
        "- **-**  : subtraction\n",
        "\n",
        "- [ * ] : multiplication\n",
        "\n",
        "- **/**  : float division\n",
        "\n",
        "- **//** : integer division - gives quoitent\n",
        "\n",
        "- **%**  : modulus  - gives remainder\n",
        "\n",
        "-   **   : Exponentiation\n",
        "\n"
      ]
    },
    {
      "cell_type": "code",
      "execution_count": null,
      "metadata": {
        "id": "nGLDbwXS3cu3",
        "outputId": "73ec0539-cf0b-4081-d202-087cc3f806c9"
      },
      "outputs": [
        {
          "data": {
            "text/plain": [
              "2"
            ]
          },
          "execution_count": 76,
          "metadata": {},
          "output_type": "execute_result"
        }
      ],
      "source": [
        "1+1"
      ]
    },
    {
      "cell_type": "code",
      "execution_count": null,
      "metadata": {
        "id": "lC4h_GxY3cu3",
        "outputId": "739bee06-4ee0-41b7-b8d4-fd51c68db0b4"
      },
      "outputs": [
        {
          "data": {
            "text/plain": [
              "36"
            ]
          },
          "execution_count": 78,
          "metadata": {},
          "output_type": "execute_result"
        }
      ],
      "source": [
        "12 * 3"
      ]
    },
    {
      "cell_type": "code",
      "execution_count": null,
      "metadata": {
        "id": "WYxLVKSp3cu3",
        "outputId": "7d5d4214-9995-40e4-e5f0-709c744d5eee"
      },
      "outputs": [
        {
          "data": {
            "text/plain": [
              "7.666666666666667"
            ]
          },
          "execution_count": 79,
          "metadata": {},
          "output_type": "execute_result"
        }
      ],
      "source": [
        "23 / 3 #-- float division"
      ]
    },
    {
      "cell_type": "code",
      "execution_count": null,
      "metadata": {
        "ExecuteTime": {
          "end_time": "2021-02-28T04:55:01.290154Z",
          "start_time": "2021-02-28T04:55:01.284180Z"
        },
        "id": "j3lEyZdr3cu4",
        "outputId": "839da9df-b215-4004-f4c0-d543fd3d1258"
      },
      "outputs": [
        {
          "data": {
            "text/plain": [
              "7"
            ]
          },
          "execution_count": 80,
          "metadata": {},
          "output_type": "execute_result"
        }
      ],
      "source": [
        "23 // 3  #--- integer division"
      ]
    },
    {
      "cell_type": "code",
      "execution_count": null,
      "metadata": {
        "ExecuteTime": {
          "end_time": "2021-02-28T04:51:18.738010Z",
          "start_time": "2021-02-28T04:51:18.730519Z"
        },
        "id": "0p9H35Hs3cu4",
        "outputId": "fd2314b5-b1f8-45ec-ba58-83ea70c3a7ba"
      },
      "outputs": [
        {
          "data": {
            "text/plain": [
              "27"
            ]
          },
          "execution_count": 81,
          "metadata": {},
          "output_type": "execute_result"
        }
      ],
      "source": [
        "3 ** 3     # 3*3*3"
      ]
    },
    {
      "cell_type": "code",
      "execution_count": null,
      "metadata": {
        "ExecuteTime": {
          "end_time": "2021-02-28T04:51:27.868050Z",
          "start_time": "2021-02-28T04:51:27.860071Z"
        },
        "id": "yaujJuYr3cu4",
        "outputId": "7bef5af1-b210-4258-9a7d-59b6cca7b050"
      },
      "outputs": [
        {
          "data": {
            "text/plain": [
              "1"
            ]
          },
          "execution_count": 84,
          "metadata": {},
          "output_type": "execute_result"
        }
      ],
      "source": [
        "17 % 4 ## modulus -- it provides you with the remainder value"
      ]
    },
    {
      "cell_type": "code",
      "execution_count": null,
      "metadata": {
        "ExecuteTime": {
          "end_time": "2021-02-28T04:55:02.265253Z",
          "start_time": "2021-02-28T04:55:02.258898Z"
        },
        "id": "91Y6j2vx3cu4",
        "outputId": "62bb1081-3794-40bd-bf85-caf92ca26040"
      },
      "outputs": [
        {
          "data": {
            "text/plain": [
              "50"
            ]
          },
          "execution_count": 85,
          "metadata": {},
          "output_type": "execute_result"
        }
      ],
      "source": [
        "# BODMAS RULE FOLLOWED\n",
        "\n",
        "(2 + 3) * (5 + 5)\n",
        "\n",
        "# 5 * 10"
      ]
    },
    {
      "cell_type": "markdown",
      "metadata": {
        "id": "P7bSKu7u3cu5"
      },
      "source": [
        "## Assignment Operators\n",
        "**=**  : assigns a value to a variable\n",
        "\n",
        "**+=**  : c += a   is equivalent to c = c + a\n",
        "\n",
        "**- =**  : c -= a   is equivalent to c = c - a\n",
        "\n",
        "**(*=)**  : c *= a   is equivalent to c = c * a\n",
        "\n",
        "**/=**  : c /= a   is equivalent to c = c / a\n",
        "\n",
        "**%=**  : c %= a   is equivalent to c = c % a\n",
        "\n",
        "**//=**  : c //= a   is equivalent to c = c // a"
      ]
    },
    {
      "cell_type": "code",
      "execution_count": null,
      "metadata": {
        "ExecuteTime": {
          "end_time": "2021-02-28T05:51:43.999119Z",
          "start_time": "2021-02-28T05:51:43.994136Z"
        },
        "id": "Bx_xppWr3cu5"
      },
      "outputs": [],
      "source": [
        "x = 1\n",
        "y = 2"
      ]
    },
    {
      "cell_type": "code",
      "execution_count": null,
      "metadata": {
        "ExecuteTime": {
          "end_time": "2021-02-28T05:51:44.618501Z",
          "start_time": "2021-02-28T05:51:44.604541Z"
        },
        "id": "MCnNm6PH3cu5",
        "outputId": "ede177cb-dae8-4060-b481-bd1b4368bb91"
      },
      "outputs": [
        {
          "data": {
            "text/plain": [
              "3"
            ]
          },
          "execution_count": 87,
          "metadata": {},
          "output_type": "execute_result"
        }
      ],
      "source": [
        "x += y  # x = x + y\n",
        "x"
      ]
    },
    {
      "cell_type": "code",
      "execution_count": null,
      "metadata": {
        "ExecuteTime": {
          "end_time": "2021-02-28T05:52:16.112622Z",
          "start_time": "2021-02-28T05:52:16.102662Z"
        },
        "id": "zy1vdJcS3cu5",
        "outputId": "37d77e87-ee3f-41b5-d6f4-7f721b1caf71"
      },
      "outputs": [
        {
          "data": {
            "text/plain": [
              "1"
            ]
          },
          "execution_count": 88,
          "metadata": {},
          "output_type": "execute_result"
        }
      ],
      "source": [
        "x -= y # x = x - y\n",
        "x"
      ]
    },
    {
      "cell_type": "code",
      "execution_count": null,
      "metadata": {
        "ExecuteTime": {
          "end_time": "2021-02-28T05:53:10.206594Z",
          "start_time": "2021-02-28T05:53:10.197622Z"
        },
        "id": "X9trN0iT3cu5",
        "outputId": "10470dd2-88f2-4637-a7cc-b546e8e0b019"
      },
      "outputs": [
        {
          "data": {
            "text/plain": [
              "0"
            ]
          },
          "execution_count": 89,
          "metadata": {},
          "output_type": "execute_result"
        }
      ],
      "source": [
        "x //= y # x = x // y\n",
        "x"
      ]
    },
    {
      "cell_type": "code",
      "execution_count": null,
      "metadata": {
        "id": "ZU-Bo0Rj3cu6",
        "outputId": "edbd3aea-ee05-49b0-827c-8c4bc2c50875"
      },
      "outputs": [
        {
          "data": {
            "text/plain": [
              "0.0"
            ]
          },
          "execution_count": 90,
          "metadata": {},
          "output_type": "execute_result"
        }
      ],
      "source": [
        "x /= y # x = x / y\n",
        "x"
      ]
    },
    {
      "cell_type": "code",
      "execution_count": null,
      "metadata": {
        "ExecuteTime": {
          "end_time": "2021-02-28T05:53:49.452770Z",
          "start_time": "2021-02-28T05:53:49.447784Z"
        },
        "id": "-m7w0boH3cu6",
        "outputId": "93eaf58c-707b-4b63-b311-b4261ac0aebb"
      },
      "outputs": [
        {
          "data": {
            "text/plain": [
              "0.0"
            ]
          },
          "execution_count": 91,
          "metadata": {},
          "output_type": "execute_result"
        }
      ],
      "source": [
        "x *= y # x = x * y \n",
        "x"
      ]
    },
    {
      "cell_type": "markdown",
      "metadata": {
        "id": "Z8t4cOfm3cu6"
      },
      "source": [
        "## Comparison Operators - \n",
        "\n",
        "They **compares** the values and returns bool if required\n",
        "\n",
        "**==** : are equal\n",
        "\n",
        "**!=** : not equal\n",
        "\n",
        "**>** : greater than\n",
        "\n",
        "**<** : samller than\n",
        "\n",
        "**>=** : greater than or equal to\n",
        "\n",
        "**<=** : smaller than or equal to\n"
      ]
    },
    {
      "cell_type": "code",
      "execution_count": null,
      "metadata": {
        "ExecuteTime": {
          "end_time": "2021-02-28T05:56:45.498512Z",
          "start_time": "2021-02-28T05:56:45.489516Z"
        },
        "id": "xK3y9Z4Y3cu6",
        "outputId": "c9495a53-7500-43dc-84db-cc3e731a864a"
      },
      "outputs": [
        {
          "data": {
            "text/plain": [
              "False"
            ]
          },
          "execution_count": 92,
          "metadata": {},
          "output_type": "execute_result"
        }
      ],
      "source": [
        "1 > 2"
      ]
    },
    {
      "cell_type": "code",
      "execution_count": null,
      "metadata": {
        "ExecuteTime": {
          "end_time": "2021-02-28T05:56:49.229257Z",
          "start_time": "2021-02-28T05:56:49.219288Z"
        },
        "id": "veWKegbi3cu6",
        "outputId": "5853fd72-0dab-405a-fb3a-b0ef755c9d7d"
      },
      "outputs": [
        {
          "data": {
            "text/plain": [
              "True"
            ]
          },
          "execution_count": 93,
          "metadata": {},
          "output_type": "execute_result"
        }
      ],
      "source": [
        "1 < 2"
      ]
    },
    {
      "cell_type": "code",
      "execution_count": null,
      "metadata": {
        "id": "9WUi_8YF3cu6",
        "outputId": "9cdb6858-cd00-4eee-af0e-530092f53977"
      },
      "outputs": [
        {
          "data": {
            "text/plain": [
              "False"
            ]
          },
          "execution_count": 94,
          "metadata": {},
          "output_type": "execute_result"
        }
      ],
      "source": [
        "1>1"
      ]
    },
    {
      "cell_type": "code",
      "execution_count": null,
      "metadata": {
        "ExecuteTime": {
          "end_time": "2021-02-28T05:56:59.088356Z",
          "start_time": "2021-02-28T05:56:59.081377Z"
        },
        "id": "fTEDNy7Y3cu7",
        "outputId": "72f0dc32-e3e5-4e06-f6ab-89b84b898e08"
      },
      "outputs": [
        {
          "data": {
            "text/plain": [
              "True"
            ]
          },
          "execution_count": 95,
          "metadata": {},
          "output_type": "execute_result"
        }
      ],
      "source": [
        "1 >= 1"
      ]
    },
    {
      "cell_type": "code",
      "execution_count": null,
      "metadata": {
        "ExecuteTime": {
          "end_time": "2021-02-28T05:57:10.828231Z",
          "start_time": "2021-02-28T05:57:10.822249Z"
        },
        "id": "5A1swtAb3cu7",
        "outputId": "8a39f016-915f-4270-addc-78b8a54ba2eb"
      },
      "outputs": [
        {
          "data": {
            "text/plain": [
              "True"
            ]
          },
          "execution_count": 96,
          "metadata": {},
          "output_type": "execute_result"
        }
      ],
      "source": [
        "1 <= 4\n"
      ]
    },
    {
      "cell_type": "code",
      "execution_count": null,
      "metadata": {
        "ExecuteTime": {
          "end_time": "2021-02-28T05:57:15.239036Z",
          "start_time": "2021-02-28T05:57:15.223077Z"
        },
        "id": "s_qWLvmv3cu7",
        "outputId": "242d470c-8cb1-480e-f15c-765922d9d804"
      },
      "outputs": [
        {
          "data": {
            "text/plain": [
              "True"
            ]
          },
          "execution_count": 97,
          "metadata": {},
          "output_type": "execute_result"
        }
      ],
      "source": [
        "a=1 # variable assignment\n",
        "\n",
        "a == 1 # comparision"
      ]
    },
    {
      "cell_type": "code",
      "execution_count": null,
      "metadata": {
        "id": "0l8L9YEZ3cu7",
        "outputId": "13fab3ea-960f-4baf-971e-b54d75fc5830"
      },
      "outputs": [
        {
          "data": {
            "text/plain": [
              "False"
            ]
          },
          "execution_count": 98,
          "metadata": {},
          "output_type": "execute_result"
        }
      ],
      "source": [
        "1!=1"
      ]
    },
    {
      "cell_type": "code",
      "execution_count": null,
      "metadata": {
        "id": "zQy7QW8w3cu7",
        "outputId": "b85b37e5-eb6c-4fe4-b447-345e8e654c98"
      },
      "outputs": [
        {
          "data": {
            "text/plain": [
              "True"
            ]
          },
          "execution_count": 99,
          "metadata": {},
          "output_type": "execute_result"
        }
      ],
      "source": [
        "1!=5"
      ]
    },
    {
      "cell_type": "code",
      "execution_count": null,
      "metadata": {
        "ExecuteTime": {
          "end_time": "2021-02-28T05:57:26.902555Z",
          "start_time": "2021-02-28T05:57:26.896307Z"
        },
        "id": "Ox2obWaz3cu8",
        "outputId": "b4648de8-4708-40bf-ae4f-7aed779ff7e0"
      },
      "outputs": [
        {
          "data": {
            "text/plain": [
              "False"
            ]
          },
          "execution_count": 100,
          "metadata": {},
          "output_type": "execute_result"
        }
      ],
      "source": [
        "'hi' == 'bye'"
      ]
    },
    {
      "cell_type": "code",
      "execution_count": null,
      "metadata": {
        "ExecuteTime": {
          "end_time": "2021-02-28T05:57:36.185846Z",
          "start_time": "2021-02-28T05:57:36.178626Z"
        },
        "id": "DMwzmEyD3cu8",
        "outputId": "686e8264-d1e4-4126-9007-f943a362cfa4"
      },
      "outputs": [
        {
          "data": {
            "text/plain": [
              "True"
            ]
          },
          "execution_count": 101,
          "metadata": {},
          "output_type": "execute_result"
        }
      ],
      "source": [
        "'hi' != 'bye'"
      ]
    },
    {
      "cell_type": "code",
      "execution_count": null,
      "metadata": {
        "ExecuteTime": {
          "end_time": "2021-02-28T05:57:44.251660Z",
          "start_time": "2021-02-28T05:57:44.238696Z"
        },
        "id": "y8btfS4j3cu8",
        "outputId": "05b145c1-ae12-4566-9482-efc41effde0f"
      },
      "outputs": [
        {
          "data": {
            "text/plain": [
              "False"
            ]
          },
          "execution_count": 102,
          "metadata": {},
          "output_type": "execute_result"
        }
      ],
      "source": [
        "'a' == 'A'"
      ]
    },
    {
      "cell_type": "code",
      "execution_count": null,
      "metadata": {
        "id": "DCfPHYeH3cu8",
        "outputId": "94a6f44d-1ac0-4053-9b86-6e21c989fc7a"
      },
      "outputs": [
        {
          "data": {
            "text/plain": [
              "True"
            ]
          },
          "execution_count": 103,
          "metadata": {},
          "output_type": "execute_result"
        }
      ],
      "source": [
        "'a' == 'a'"
      ]
    },
    {
      "cell_type": "markdown",
      "metadata": {
        "id": "4VP0ffA83cu8"
      },
      "source": [
        "## Logic Operators\n",
        "\n",
        "**and**  = requires both the statements to be true to make the condition True\n",
        "\n",
        "**or**   = requires any one of the statement to be true to make the condition True"
      ]
    },
    {
      "cell_type": "markdown",
      "metadata": {
        "id": "4GzjTmWS3cu9"
      },
      "source": [
        "![image.png](attachment:image.png)"
      ]
    },
    {
      "cell_type": "code",
      "execution_count": null,
      "metadata": {
        "id": "6sWLU5-73cu9",
        "outputId": "50f86f84-44ab-4df4-e6ed-eda1815d5ffe"
      },
      "outputs": [
        {
          "name": "stdout",
          "output_type": "stream",
          "text": [
            "True : 1 \n",
            "False : 0\n"
          ]
        }
      ],
      "source": [
        "print('True :',int(True),'\\nFalse :' ,int(False))"
      ]
    },
    {
      "cell_type": "code",
      "execution_count": null,
      "metadata": {
        "id": "-aYqCeHV3cu-",
        "outputId": "3dc9d9ed-f6ef-46f9-f344-c1f60b0897f8"
      },
      "outputs": [
        {
          "data": {
            "text/plain": [
              "True"
            ]
          },
          "execution_count": 107,
          "metadata": {},
          "output_type": "execute_result"
        }
      ],
      "source": [
        "# 1  and 1\n",
        "True and True"
      ]
    },
    {
      "cell_type": "code",
      "execution_count": null,
      "metadata": {
        "id": "7ajZ96XH3cu-",
        "outputId": "cd6fe9ee-17d4-49c7-ede0-c851816169d6"
      },
      "outputs": [
        {
          "data": {
            "text/plain": [
              "False"
            ]
          },
          "execution_count": 108,
          "metadata": {},
          "output_type": "execute_result"
        }
      ],
      "source": [
        "True and False"
      ]
    },
    {
      "cell_type": "code",
      "execution_count": null,
      "metadata": {
        "id": "sZfZIX_Z3cu-",
        "outputId": "8fee85f1-e23d-4af5-ca82-86509949f22d"
      },
      "outputs": [
        {
          "data": {
            "text/plain": [
              "True"
            ]
          },
          "execution_count": 109,
          "metadata": {},
          "output_type": "execute_result"
        }
      ],
      "source": [
        "True or False"
      ]
    },
    {
      "cell_type": "code",
      "execution_count": null,
      "metadata": {
        "id": "pylp-zpS3cu_",
        "outputId": "9bbe2873-66f4-4c9a-fa13-f873d0a5c80a"
      },
      "outputs": [
        {
          "data": {
            "text/plain": [
              "False"
            ]
          },
          "execution_count": 110,
          "metadata": {},
          "output_type": "execute_result"
        }
      ],
      "source": [
        "False or False"
      ]
    },
    {
      "cell_type": "code",
      "execution_count": null,
      "metadata": {
        "ExecuteTime": {
          "end_time": "2021-02-28T06:00:22.300554Z",
          "start_time": "2021-02-28T06:00:22.293572Z"
        },
        "id": "hyZZvGoE3cu_",
        "outputId": "229f879c-874a-4f7d-c005-e0afc270072d"
      },
      "outputs": [
        {
          "data": {
            "text/plain": [
              "True"
            ]
          },
          "execution_count": 111,
          "metadata": {},
          "output_type": "execute_result"
        }
      ],
      "source": [
        "(1 < 2) and (2 < 3)\n",
        "# TRUE  and  TRUE"
      ]
    },
    {
      "cell_type": "code",
      "execution_count": null,
      "metadata": {
        "id": "HwQKbHW93cu_",
        "outputId": "4aaa8c8d-bafa-46a3-9c08-18e6728fa63e"
      },
      "outputs": [
        {
          "data": {
            "text/plain": [
              "False"
            ]
          },
          "execution_count": 112,
          "metadata": {},
          "output_type": "execute_result"
        }
      ],
      "source": [
        "(1 > 2) and (2 < 3)"
      ]
    },
    {
      "cell_type": "code",
      "execution_count": null,
      "metadata": {
        "ExecuteTime": {
          "end_time": "2021-02-28T06:02:55.530961Z",
          "start_time": "2021-02-28T06:02:55.515012Z"
        },
        "id": "BF6gkskR3cu_",
        "outputId": "f235e847-a439-4dba-daf4-bb9c0ae2cb9a"
      },
      "outputs": [
        {
          "data": {
            "text/plain": [
              "False"
            ]
          },
          "execution_count": 113,
          "metadata": {},
          "output_type": "execute_result"
        }
      ],
      "source": [
        "(1 > 2) and (2 < 3) and (10 < 8) and (67 == 67)"
      ]
    },
    {
      "cell_type": "code",
      "execution_count": null,
      "metadata": {
        "id": "9Q_5FyX93cu_",
        "outputId": "110adfbc-b5b3-4b27-f318-5a9c9a0eb34e"
      },
      "outputs": [
        {
          "data": {
            "text/plain": [
              "True"
            ]
          },
          "execution_count": 114,
          "metadata": {},
          "output_type": "execute_result"
        }
      ],
      "source": [
        "((1 < 2) and (2 < 3) and (67 == 67)) or (10 < 8) ## True or False"
      ]
    },
    {
      "cell_type": "code",
      "execution_count": null,
      "metadata": {
        "id": "5VzmRIau3cvA",
        "outputId": "bfa97bf3-0feb-459f-f4f8-96276635868c"
      },
      "outputs": [
        {
          "data": {
            "text/plain": [
              "True"
            ]
          },
          "execution_count": 115,
          "metadata": {},
          "output_type": "execute_result"
        }
      ],
      "source": [
        "'a' > 'A'  # ASCII VALUES OF THESE CHARACTERS ARE CONSIDERED 'a'=97,  'A'=65"
      ]
    },
    {
      "cell_type": "code",
      "execution_count": null,
      "metadata": {
        "id": "_Tm8zH9x3cvA",
        "outputId": "6d535104-b792-4c19-a325-d45de9d0a951"
      },
      "outputs": [
        {
          "data": {
            "text/plain": [
              "True"
            ]
          },
          "execution_count": 116,
          "metadata": {},
          "output_type": "execute_result"
        }
      ],
      "source": [
        "(1 > 2) or ('a' < 'A') or (10 == 10) # F or F or T"
      ]
    },
    {
      "cell_type": "code",
      "execution_count": null,
      "metadata": {
        "id": "EQvgNmaa3cvA",
        "outputId": "e7f6803c-8a1b-4ee8-b0e1-6f800394c2fe"
      },
      "outputs": [
        {
          "data": {
            "text/plain": [
              "False"
            ]
          },
          "execution_count": 117,
          "metadata": {},
          "output_type": "execute_result"
        }
      ],
      "source": [
        "(1 == 2) or (2 == 3) # False or False"
      ]
    },
    {
      "cell_type": "markdown",
      "metadata": {
        "id": "D3B1Jfho3cvB"
      },
      "source": [
        "## Getting ASCII Values & Vice Versa"
      ]
    },
    {
      "cell_type": "code",
      "execution_count": null,
      "metadata": {
        "id": "8pDWC1am3cvB",
        "outputId": "ecb0a79a-7be1-4a02-dba7-29aa76ef118b"
      },
      "outputs": [
        {
          "data": {
            "text/plain": [
              "97"
            ]
          },
          "metadata": {},
          "output_type": "display_data"
        },
        {
          "data": {
            "text/plain": [
              "'a'"
            ]
          },
          "metadata": {},
          "output_type": "display_data"
        }
      ],
      "source": [
        "'''\n",
        "The function ord() gets the int(ASCII) value of the character, e.g ord('a')\n",
        "The function chr() gets the character value of the int(ASCII), e.g chr(97)\n",
        "'''\n",
        "\n",
        "display( ord('a') , chr(97))\n"
      ]
    },
    {
      "cell_type": "markdown",
      "metadata": {
        "id": "poBHEVw43cvB"
      },
      "source": [
        "# Data Structures \n",
        "\n",
        "* Lists - []\n",
        "\n",
        "* Dictionaries - {key:value}\n",
        "\n",
        "* Tuples - ()\n",
        "\n",
        "* Sets - {}"
      ]
    },
    {
      "cell_type": "markdown",
      "metadata": {
        "id": "PshJujqy3cvC"
      },
      "source": [
        "## Lists\n",
        "Data Structure that stores any kind of data.\n",
        "\n",
        "Are recognized by square brackets  [    ]"
      ]
    },
    {
      "cell_type": "code",
      "execution_count": null,
      "metadata": {
        "ExecuteTime": {
          "end_time": "2021-02-28T06:11:58.628061Z",
          "start_time": "2021-02-28T06:11:58.620615Z"
        },
        "colab": {
          "base_uri": "https://localhost:8080/"
        },
        "id": "wQ0F8Emw3cvC",
        "outputId": "c9aba9fd-f6ff-45aa-a603-e4e6718b8bc6"
      },
      "outputs": [
        {
          "output_type": "execute_result",
          "data": {
            "text/plain": [
              "[1, 2, 3]"
            ]
          },
          "metadata": {},
          "execution_count": 1
        }
      ],
      "source": [
        "# List is Mutable that is it can be modified\n",
        "\n",
        "x = [1,2,3]\n",
        "x"
      ]
    },
    {
      "cell_type": "code",
      "execution_count": null,
      "metadata": {
        "ExecuteTime": {
          "end_time": "2021-02-28T06:11:58.912414Z",
          "start_time": "2021-02-28T06:11:58.905433Z"
        },
        "colab": {
          "base_uri": "https://localhost:8080/"
        },
        "id": "luyMT-nA3cvC",
        "outputId": "bc434923-aa1b-4690-92e3-a492bed0bf85"
      },
      "outputs": [
        {
          "output_type": "execute_result",
          "data": {
            "text/plain": [
              "list"
            ]
          },
          "metadata": {},
          "execution_count": 2
        }
      ],
      "source": [
        "type(x)"
      ]
    },
    {
      "cell_type": "code",
      "execution_count": null,
      "metadata": {
        "ExecuteTime": {
          "end_time": "2021-02-28T06:15:36.048958Z",
          "start_time": "2021-02-28T06:15:36.041977Z"
        },
        "colab": {
          "base_uri": "https://localhost:8080/"
        },
        "id": "fSQHuQu93cvD",
        "outputId": "06406f25-3ab4-47d4-ecf4-16626e6f034d"
      },
      "outputs": [
        {
          "output_type": "execute_result",
          "data": {
            "text/plain": [
              "[[1, 2], [45, 25, 43], 89, 'hi', 12.0]"
            ]
          },
          "metadata": {},
          "execution_count": 3
        }
      ],
      "source": [
        "# lIST is a Hetrogenous data structure because you can store different data types(int,str,float,list) in a single list\n",
        "# whereas Homogeneous Data structures stores single data types only\n",
        "\n",
        "# a is a nested list because it consist of a list within a list\n",
        "\n",
        "a = [[1,2],[45,25,43], 89 , 'hi' , 12.0]  \n",
        "a"
      ]
    },
    {
      "cell_type": "code",
      "execution_count": null,
      "metadata": {
        "colab": {
          "base_uri": "https://localhost:8080/",
          "height": 53
        },
        "id": "wf5PDU0j3cvD",
        "outputId": "13c76948-4f03-4217-d203-ba522fbb976c"
      },
      "outputs": [
        {
          "output_type": "display_data",
          "data": {
            "text/plain": [
              "5"
            ]
          },
          "metadata": {}
        },
        {
          "output_type": "display_data",
          "data": {
            "text/plain": [
              "list"
            ]
          },
          "metadata": {}
        }
      ],
      "source": [
        "display(len(a), type(a))"
      ]
    },
    {
      "cell_type": "markdown",
      "metadata": {
        "id": "aqhtS8nI3cvD"
      },
      "source": [
        "## Indexing\n",
        "\n",
        "Index is basically positional address of the values present in Data Structure.\n",
        "\n",
        "Index in python always start from 0, i.e. the positional address of the first value is 0. \n"
      ]
    },
    {
      "cell_type": "code",
      "execution_count": null,
      "metadata": {
        "ExecuteTime": {
          "end_time": "2021-02-28T06:26:50.579418Z",
          "start_time": "2021-02-28T06:26:50.570443Z"
        },
        "id": "CoCiyRYO3cvD"
      },
      "outputs": [],
      "source": [
        "s = 'abcde'"
      ]
    },
    {
      "cell_type": "code",
      "execution_count": null,
      "metadata": {
        "ExecuteTime": {
          "end_time": "2021-02-28T06:27:58.125199Z",
          "start_time": "2021-02-28T06:27:58.119215Z"
        },
        "colab": {
          "base_uri": "https://localhost:8080/"
        },
        "id": "OFXxJJjI3cvE",
        "outputId": "0f995007-ff19-4a9a-be3e-558ac483c7c0"
      },
      "outputs": [
        {
          "output_type": "stream",
          "name": "stdout",
          "text": [
            "s[0]: a  \n",
            "s[3]: d\n"
          ]
        }
      ],
      "source": [
        "print(\"s[0]:\",s[0],\" \\ns[3]:\",s[3])"
      ]
    },
    {
      "cell_type": "code",
      "execution_count": null,
      "metadata": {
        "id": "0oMeqh-E3cvE"
      },
      "outputs": [],
      "source": [
        "l = [34,28,35,43,'hi']"
      ]
    },
    {
      "cell_type": "code",
      "execution_count": null,
      "metadata": {
        "colab": {
          "base_uri": "https://localhost:8080/"
        },
        "id": "hgxylDLq3cvE",
        "outputId": "9bc2abbe-69ce-42bf-f441-7b760acb79ce"
      },
      "outputs": [
        {
          "output_type": "stream",
          "name": "stdout",
          "text": [
            "34\n"
          ]
        }
      ],
      "source": [
        "print(l[0])"
      ]
    },
    {
      "cell_type": "code",
      "execution_count": null,
      "metadata": {
        "ExecuteTime": {
          "end_time": "2021-02-28T06:28:41.337909Z",
          "start_time": "2021-02-28T06:28:41.331926Z"
        },
        "colab": {
          "base_uri": "https://localhost:8080/"
        },
        "id": "349FGZEV3cvE",
        "outputId": "ebd054b0-770e-4b17-a51a-3b666bbffc40"
      },
      "outputs": [
        {
          "output_type": "stream",
          "name": "stdout",
          "text": [
            "43\n"
          ]
        }
      ],
      "source": [
        "print(l[3])"
      ]
    },
    {
      "cell_type": "code",
      "execution_count": null,
      "metadata": {
        "colab": {
          "base_uri": "https://localhost:8080/"
        },
        "id": "kbtSvGwE3cvF",
        "outputId": "15ee42b7-4163-4a4c-f942-a2308668d9b3"
      },
      "outputs": [
        {
          "output_type": "execute_result",
          "data": {
            "text/plain": [
              "5"
            ]
          },
          "metadata": {},
          "execution_count": 10
        }
      ],
      "source": [
        "len(l) "
      ]
    },
    {
      "cell_type": "code",
      "execution_count": null,
      "metadata": {
        "colab": {
          "base_uri": "https://localhost:8080/",
          "height": 36
        },
        "id": "O_xB0KMy3cvF",
        "outputId": "01a33125-6ec0-49e6-9f32-17edafcd0127"
      },
      "outputs": [
        {
          "output_type": "execute_result",
          "data": {
            "text/plain": [
              "'hi'"
            ],
            "application/vnd.google.colaboratory.intrinsic+json": {
              "type": "string"
            }
          },
          "metadata": {},
          "execution_count": 11
        }
      ],
      "source": [
        "l[4]  # max index val : len(list)-1"
      ]
    },
    {
      "cell_type": "markdown",
      "metadata": {
        "id": "oS4e-t0X3cvF"
      },
      "source": [
        "### Indexing with nested list "
      ]
    },
    {
      "cell_type": "code",
      "execution_count": null,
      "metadata": {
        "ExecuteTime": {
          "end_time": "2021-02-28T06:32:51.149797Z",
          "start_time": "2021-02-28T06:32:51.144813Z"
        },
        "id": "nFSF-r6Z3cvG"
      },
      "outputs": [],
      "source": [
        "li = [[122,240],[45,25,43],[70,30,100],89,'ko']  # NESTED LIST -- BCZ LIST WITHIN LIST PRESENT"
      ]
    },
    {
      "cell_type": "code",
      "execution_count": null,
      "metadata": {
        "colab": {
          "base_uri": "https://localhost:8080/"
        },
        "id": "t9xPv26S3cvG",
        "outputId": "5805f08f-05bb-4494-b4c9-4d3dc58b0c90"
      },
      "outputs": [
        {
          "output_type": "stream",
          "name": "stdout",
          "text": [
            "[122, 240] 89\n"
          ]
        }
      ],
      "source": [
        "print(li[0], li[3])"
      ]
    },
    {
      "cell_type": "code",
      "execution_count": null,
      "metadata": {
        "colab": {
          "base_uri": "https://localhost:8080/"
        },
        "id": "KEcKarLp3cvG",
        "outputId": "cb2f3b7e-c588-4a2d-c4c4-219501fe0dca"
      },
      "outputs": [
        {
          "output_type": "execute_result",
          "data": {
            "text/plain": [
              "(list, int)"
            ]
          },
          "metadata": {},
          "execution_count": 56
        }
      ],
      "source": [
        "type(li[0]), type(li[3])"
      ]
    },
    {
      "cell_type": "code",
      "execution_count": null,
      "metadata": {
        "colab": {
          "base_uri": "https://localhost:8080/"
        },
        "id": "7fubfDwQ3cvG",
        "outputId": "56d401f1-5124-4de9-a224-9afad65f5287"
      },
      "outputs": [
        {
          "output_type": "execute_result",
          "data": {
            "text/plain": [
              "240"
            ]
          },
          "metadata": {},
          "execution_count": 58
        }
      ],
      "source": [
        "li[0][1]     # li[0] -- main list index, [1] -- sub list index of [122,240]"
      ]
    },
    {
      "cell_type": "code",
      "execution_count": null,
      "metadata": {
        "colab": {
          "base_uri": "https://localhost:8080/"
        },
        "id": "j_nsahq23cvG",
        "outputId": "9adeef6d-190b-4801-cedb-dee5c2e2e289"
      },
      "outputs": [
        {
          "output_type": "execute_result",
          "data": {
            "text/plain": [
              "100"
            ]
          },
          "metadata": {},
          "execution_count": 16
        }
      ],
      "source": [
        "li[2][2]"
      ]
    },
    {
      "cell_type": "code",
      "execution_count": null,
      "metadata": {
        "colab": {
          "base_uri": "https://localhost:8080/"
        },
        "id": "hfyWRXPI3cvG",
        "outputId": "64053c9f-a343-45cd-baa3-9bd6d0c47e7b"
      },
      "outputs": [
        {
          "output_type": "execute_result",
          "data": {
            "text/plain": [
              "25"
            ]
          },
          "metadata": {},
          "execution_count": 59
        }
      ],
      "source": [
        "li[1][1]"
      ]
    },
    {
      "cell_type": "code",
      "execution_count": null,
      "metadata": {
        "colab": {
          "base_uri": "https://localhost:8080/"
        },
        "id": "ISdu4JlZ3cvH",
        "outputId": "af82494c-c1da-4247-ef26-c61ed6da8b68"
      },
      "outputs": [
        {
          "output_type": "execute_result",
          "data": {
            "text/plain": [
              "[23, 45, 89, 90]"
            ]
          },
          "metadata": {},
          "execution_count": 60
        }
      ],
      "source": [
        "\n",
        "list_1=[23,45,89,90]\n",
        "\n",
        "# indexing from front / left to right\n",
        "\n",
        "# 0, 1, 2, 3\n",
        "[23,45,89,90]\n",
        "\n",
        "#indexing from backward direction / right to left\n",
        "\n",
        "#-4,-3,-2,-1\n",
        "[23,45,89,90]\n",
        "\n",
        "# My Value 90 is having 2 Indexes -> 3 and -1"
      ]
    },
    {
      "cell_type": "code",
      "execution_count": null,
      "metadata": {
        "colab": {
          "base_uri": "https://localhost:8080/"
        },
        "id": "e-hWPp1l3cvH",
        "outputId": "7496e0f8-fcef-4a61-a05f-dc33f8f44c1a"
      },
      "outputs": [
        {
          "output_type": "execute_result",
          "data": {
            "text/plain": [
              "[[122, 240], [45, 25, 43], [70, 30, 100], 89, 'ko']"
            ]
          },
          "metadata": {},
          "execution_count": 19
        }
      ],
      "source": [
        "li"
      ]
    },
    {
      "cell_type": "code",
      "execution_count": null,
      "metadata": {
        "colab": {
          "base_uri": "https://localhost:8080/"
        },
        "id": "giTjb4Ek3cvH",
        "outputId": "96826e7f-e94a-414e-f12f-8003af45ac24"
      },
      "outputs": [
        {
          "output_type": "stream",
          "name": "stdout",
          "text": [
            "ko\n",
            "ko\n"
          ]
        }
      ],
      "source": [
        "print(li[4], li[-1],sep='\\n')"
      ]
    },
    {
      "cell_type": "code",
      "execution_count": null,
      "metadata": {
        "colab": {
          "base_uri": "https://localhost:8080/"
        },
        "id": "omBCmRV13cvH",
        "outputId": "33b00fff-70c3-4b50-f6ce-c3b623163a9f"
      },
      "outputs": [
        {
          "output_type": "execute_result",
          "data": {
            "text/plain": [
              "100"
            ]
          },
          "metadata": {},
          "execution_count": 21
        }
      ],
      "source": [
        "li[-3][-1]"
      ]
    },
    {
      "cell_type": "code",
      "execution_count": null,
      "metadata": {
        "colab": {
          "base_uri": "https://localhost:8080/"
        },
        "id": "noxEIasC3cvH",
        "outputId": "edaa3b8a-6590-45fc-bddc-179cb93d2310"
      },
      "outputs": [
        {
          "output_type": "execute_result",
          "data": {
            "text/plain": [
              "100"
            ]
          },
          "metadata": {},
          "execution_count": 22
        }
      ],
      "source": [
        "li[2][2]"
      ]
    },
    {
      "cell_type": "code",
      "execution_count": null,
      "metadata": {
        "colab": {
          "base_uri": "https://localhost:8080/"
        },
        "id": "sKs_fuXj3cvI",
        "outputId": "f388bbbc-5df8-4660-f2cb-62bcfa840a06"
      },
      "outputs": [
        {
          "output_type": "execute_result",
          "data": {
            "text/plain": [
              "100"
            ]
          },
          "metadata": {},
          "execution_count": 23
        }
      ],
      "source": [
        "li[-3][2]"
      ]
    },
    {
      "cell_type": "code",
      "execution_count": null,
      "metadata": {
        "colab": {
          "base_uri": "https://localhost:8080/"
        },
        "id": "ca5T_vYf3cvI",
        "outputId": "74e945da-f50d-435b-8950-a34ac0ce872e"
      },
      "outputs": [
        {
          "output_type": "execute_result",
          "data": {
            "text/plain": [
              "100"
            ]
          },
          "metadata": {},
          "execution_count": 24
        }
      ],
      "source": [
        "li[2][-1]"
      ]
    },
    {
      "cell_type": "markdown",
      "metadata": {
        "id": "n1H0Ha9_3cvI"
      },
      "source": [
        "### slicing \n",
        "sequence [start : end : step = 1 (optional)]"
      ]
    },
    {
      "cell_type": "code",
      "execution_count": null,
      "metadata": {
        "ExecuteTime": {
          "end_time": "2021-02-28T06:35:17.751051Z",
          "start_time": "2021-02-28T06:35:17.745068Z"
        },
        "id": "LTA2cp9N3cvI"
      },
      "outputs": [],
      "source": [
        "lis = ['a' ,'b' ,'c' ,'d' ,'e' ,'f' ,'g' ,'h' ,'i' ,'j' ,'k']"
      ]
    },
    {
      "cell_type": "code",
      "execution_count": null,
      "metadata": {
        "colab": {
          "base_uri": "https://localhost:8080/"
        },
        "id": "pqQfpSC33cvI",
        "outputId": "1e4c51f7-05cc-4fb0-b76e-62cec99dddab"
      },
      "outputs": [
        {
          "output_type": "execute_result",
          "data": {
            "text/plain": [
              "11"
            ]
          },
          "metadata": {},
          "execution_count": 62
        }
      ],
      "source": [
        "len(lis)"
      ]
    },
    {
      "cell_type": "code",
      "execution_count": null,
      "metadata": {
        "scrolled": true,
        "colab": {
          "base_uri": "https://localhost:8080/",
          "height": 36
        },
        "id": "69wZtpNg3cvI",
        "outputId": "f920a0af-7143-4d4e-d94f-98fcf2ea95ef"
      },
      "outputs": [
        {
          "output_type": "execute_result",
          "data": {
            "text/plain": [
              "'k'"
            ],
            "application/vnd.google.colaboratory.intrinsic+json": {
              "type": "string"
            }
          },
          "metadata": {},
          "execution_count": 27
        }
      ],
      "source": [
        "lis[10]"
      ]
    },
    {
      "cell_type": "code",
      "execution_count": null,
      "metadata": {
        "colab": {
          "base_uri": "https://localhost:8080/"
        },
        "id": "uJ6801-v3cvI",
        "outputId": "3b5971ff-d431-44e0-98b2-a1f19279cddb"
      },
      "outputs": [
        {
          "output_type": "stream",
          "name": "stdout",
          "text": [
            "<enumerate object at 0x7f6764102690>\n",
            "[(0, 'a'), (1, 'b'), (2, 'c'), (3, 'd'), (4, 'e'), (5, 'f'), (6, 'g'), (7, 'h'), (8, 'i'), (9, 'j'), (10, 'k')]\n"
          ]
        }
      ],
      "source": [
        "print(enumerate(lis),list(enumerate(lis)),sep='\\n')"
      ]
    },
    {
      "cell_type": "code",
      "execution_count": null,
      "metadata": {
        "id": "fmSPkWLR3cvJ"
      },
      "outputs": [],
      "source": [
        "#lis[start :end: step]\n",
        "# lis[0:    10:   1]"
      ]
    },
    {
      "cell_type": "code",
      "execution_count": null,
      "metadata": {
        "ExecuteTime": {
          "end_time": "2021-02-28T06:37:38.030800Z",
          "start_time": "2021-02-28T06:37:38.018842Z"
        },
        "colab": {
          "base_uri": "https://localhost:8080/"
        },
        "id": "sBs53bDM3cvJ",
        "outputId": "bd3fa67f-80ae-4df3-85d3-f0741cd1b52d"
      },
      "outputs": [
        {
          "output_type": "execute_result",
          "data": {
            "text/plain": [
              "['a', 'b', 'c']"
            ]
          },
          "metadata": {},
          "execution_count": 30
        }
      ],
      "source": [
        "lis[0:3]  # start from index 0 and go till index 3 but does not include value of index 3 - values of index 0,1 and 2 will be shown"
      ]
    },
    {
      "cell_type": "code",
      "execution_count": null,
      "metadata": {
        "colab": {
          "base_uri": "https://localhost:8080/"
        },
        "id": "wY0QvTyI3cvJ",
        "outputId": "935c3f3a-7e00-4b16-fb72-be667e53e957"
      },
      "outputs": [
        {
          "output_type": "execute_result",
          "data": {
            "text/plain": [
              "['g', 'h', 'i']"
            ]
          },
          "metadata": {},
          "execution_count": 66
        }
      ],
      "source": [
        "lis[6:9]  # values of index 2,3,4 will be shown"
      ]
    },
    {
      "cell_type": "code",
      "execution_count": null,
      "metadata": {
        "ExecuteTime": {
          "end_time": "2021-02-28T06:36:21.528912Z",
          "start_time": "2021-02-28T06:36:21.518939Z"
        },
        "colab": {
          "base_uri": "https://localhost:8080/"
        },
        "id": "gHPU8Lqe3cvJ",
        "outputId": "b073f065-a2ae-4b73-9375-1d58a3fe0d00"
      },
      "outputs": [
        {
          "output_type": "execute_result",
          "data": {
            "text/plain": [
              "['f', 'g', 'h']"
            ]
          },
          "metadata": {},
          "execution_count": 69
        }
      ],
      "source": [
        "lis[5:8]\n",
        "#  thing to note is that the element at 8th index is not included\n",
        "#  in simple terms the END is not included"
      ]
    },
    {
      "cell_type": "code",
      "source": [
        "lis"
      ],
      "metadata": {
        "colab": {
          "base_uri": "https://localhost:8080/"
        },
        "id": "qYC8qsUaDf6K",
        "outputId": "76e27e4d-a576-4946-ebd7-d26d0734de31"
      },
      "execution_count": null,
      "outputs": [
        {
          "output_type": "execute_result",
          "data": {
            "text/plain": [
              "['a', 'b', 'c', 'd', 'e', 'f', 'g', 'h', 'i', 'j', 'k']"
            ]
          },
          "metadata": {},
          "execution_count": 72
        }
      ]
    },
    {
      "cell_type": "code",
      "execution_count": null,
      "metadata": {
        "ExecuteTime": {
          "end_time": "2021-02-28T06:42:57.295086Z",
          "start_time": "2021-02-28T06:42:57.287109Z"
        },
        "colab": {
          "base_uri": "https://localhost:8080/"
        },
        "id": "KyaRT3Gm3cvJ",
        "outputId": "300be528-6de3-4507-ca18-bccf808249c3"
      },
      "outputs": [
        {
          "output_type": "execute_result",
          "data": {
            "text/plain": [
              "['a', 'b', 'c', 'd', 'e', 'f']"
            ]
          },
          "metadata": {},
          "execution_count": 73
        }
      ],
      "source": [
        "lis[0:6:1]      # step is 1 -- there will be no jump"
      ]
    },
    {
      "cell_type": "code",
      "execution_count": null,
      "metadata": {
        "colab": {
          "base_uri": "https://localhost:8080/"
        },
        "id": "N-baLwPu3cvK",
        "outputId": "a7433057-dd12-4101-ae07-7f607fa3efb2"
      },
      "outputs": [
        {
          "output_type": "execute_result",
          "data": {
            "text/plain": [
              "['a', 'c', 'e']"
            ]
          },
          "metadata": {},
          "execution_count": 74
        }
      ],
      "source": [
        "lis[0:6:2]      # step is 2 -- there will be a jump of 1 element or alternate element will be given"
      ]
    },
    {
      "cell_type": "code",
      "execution_count": null,
      "metadata": {
        "colab": {
          "base_uri": "https://localhost:8080/"
        },
        "id": "OtvHLll13cvK",
        "outputId": "5b29f212-0341-45dc-ca40-7f87d7a8a2b9"
      },
      "outputs": [
        {
          "output_type": "execute_result",
          "data": {
            "text/plain": [
              "['a', 'd']"
            ]
          },
          "metadata": {},
          "execution_count": 75
        }
      ],
      "source": [
        "lis[0:6:3]"
      ]
    },
    {
      "cell_type": "code",
      "source": [
        "lis"
      ],
      "metadata": {
        "colab": {
          "base_uri": "https://localhost:8080/"
        },
        "id": "7kz0FKRlFeAp",
        "outputId": "488e26e9-9a23-49d8-a493-d4c7870fe107"
      },
      "execution_count": null,
      "outputs": [
        {
          "output_type": "execute_result",
          "data": {
            "text/plain": [
              "['a', 'b', 'c', 'd', 'e', 'f', 'g', 'h', 'i', 'j', 'k']"
            ]
          },
          "metadata": {},
          "execution_count": 76
        }
      ]
    },
    {
      "cell_type": "code",
      "execution_count": null,
      "metadata": {
        "colab": {
          "base_uri": "https://localhost:8080/"
        },
        "id": "RleLDS_n3cvK",
        "outputId": "c2d4c213-0e65-484c-b9e1-994d9d4f14ee"
      },
      "outputs": [
        {
          "output_type": "execute_result",
          "data": {
            "text/plain": [
              "['a', 'b', 'c', 'd']"
            ]
          },
          "metadata": {},
          "execution_count": 78
        }
      ],
      "source": [
        "# ['start','end','step']\n",
        "# lis[:end]\n",
        "\n",
        "lis[:4] # similar to lis[0:4] # default value of start is 0 if no value for start is provided the it will take 0"
      ]
    },
    {
      "cell_type": "code",
      "execution_count": null,
      "metadata": {
        "colab": {
          "base_uri": "https://localhost:8080/"
        },
        "id": "_XriOZcl3cvK",
        "outputId": "41e8957c-7428-494c-f37a-ee55f5bdc8ad"
      },
      "outputs": [
        {
          "output_type": "execute_result",
          "data": {
            "text/plain": [
              "['a', 'c']"
            ]
          },
          "metadata": {},
          "execution_count": 39
        }
      ],
      "source": [
        "lis[:4:2] # similar to lis[0:4:2]"
      ]
    },
    {
      "cell_type": "code",
      "source": [
        "lis[:8]"
      ],
      "metadata": {
        "colab": {
          "base_uri": "https://localhost:8080/"
        },
        "id": "dZWcIfnnHPVx",
        "outputId": "7ce5a1da-1c5b-4268-f34e-8d036dbbfe5d"
      },
      "execution_count": null,
      "outputs": [
        {
          "output_type": "execute_result",
          "data": {
            "text/plain": [
              "['a', 'b', 'c', 'd', 'e', 'f', 'g', 'h']"
            ]
          },
          "metadata": {},
          "execution_count": 81
        }
      ]
    },
    {
      "cell_type": "code",
      "execution_count": null,
      "metadata": {
        "colab": {
          "base_uri": "https://localhost:8080/"
        },
        "id": "j_-bhGSs3cvL",
        "outputId": "497476fa-3e50-48d7-ebf2-dcef4ae15274"
      },
      "outputs": [
        {
          "output_type": "stream",
          "name": "stdout",
          "text": [
            "[(0, 'a'), (1, 'b'), (2, 'c'), (3, 'd'), (4, 'e'), (5, 'f'), (6, 'g'), (7, 'h'), (8, 'i'), (9, 'j'), (10, 'k')]\n"
          ]
        }
      ],
      "source": [
        "print(list(enumerate(lis)),sep='\\n')"
      ]
    },
    {
      "cell_type": "code",
      "execution_count": null,
      "metadata": {
        "colab": {
          "base_uri": "https://localhost:8080/"
        },
        "id": "3qQFrKyR3cvL",
        "outputId": "9c2808a7-093f-4371-e2c2-7cc6eaceab70"
      },
      "outputs": [
        {
          "output_type": "execute_result",
          "data": {
            "text/plain": [
              "['i', 'j', 'k']"
            ]
          },
          "metadata": {},
          "execution_count": 80
        }
      ],
      "source": [
        "# lis [start:]\n",
        "\n",
        "lis[8:] # [start:end:step] # similar too [8: Go till end including last element]"
      ]
    },
    {
      "cell_type": "code",
      "execution_count": null,
      "metadata": {
        "colab": {
          "base_uri": "https://localhost:8080/"
        },
        "id": "YToxojFd3cvL",
        "outputId": "fc0dbe22-6bce-4dd3-ae21-aa3ca8dad114"
      },
      "outputs": [
        {
          "output_type": "execute_result",
          "data": {
            "text/plain": [
              "['b', 'd', 'f', 'h', 'j']"
            ]
          },
          "metadata": {},
          "execution_count": 84
        }
      ],
      "source": [
        "lis[1::2] # [start:end:step] [start 1  : Go till last : step 2 i.e 1 element jump]"
      ]
    },
    {
      "cell_type": "code",
      "execution_count": null,
      "metadata": {
        "colab": {
          "base_uri": "https://localhost:8080/"
        },
        "id": "ZYEijE0g3cvL",
        "outputId": "5014d21c-60f6-418f-cd4c-864d36222cbc"
      },
      "outputs": [
        {
          "output_type": "execute_result",
          "data": {
            "text/plain": [
              "['a', 'c', 'e', 'g', 'i', 'k']"
            ]
          },
          "metadata": {},
          "execution_count": 85
        }
      ],
      "source": [
        "\n",
        "lis[::2] # [start:end:step] [0 : Go till end : step is 2]"
      ]
    },
    {
      "cell_type": "code",
      "execution_count": null,
      "metadata": {
        "colab": {
          "base_uri": "https://localhost:8080/"
        },
        "id": "0EBfiLiD3cvL",
        "outputId": "31648708-b912-4d43-cf14-400bbaaf52e4"
      },
      "outputs": [
        {
          "output_type": "execute_result",
          "data": {
            "text/plain": [
              "['a', 'b', 'c', 'd', 'e', 'f', 'g', 'h', 'i', 'j', 'k']"
            ]
          },
          "metadata": {},
          "execution_count": 44
        }
      ],
      "source": [
        "lis[::1]"
      ]
    },
    {
      "cell_type": "code",
      "execution_count": null,
      "metadata": {
        "colab": {
          "base_uri": "https://localhost:8080/"
        },
        "id": "5Nem5L4o3cvL",
        "outputId": "44996a63-dd40-420b-ecb2-83da427e6deb"
      },
      "outputs": [
        {
          "output_type": "execute_result",
          "data": {
            "text/plain": [
              "['k', 'j', 'i', 'h', 'g', 'f', 'e', 'd', 'c', 'b', 'a']"
            ]
          },
          "metadata": {},
          "execution_count": 45
        }
      ],
      "source": [
        "lis[::-1] #reverse slicing with step 1"
      ]
    },
    {
      "cell_type": "code",
      "execution_count": null,
      "metadata": {
        "colab": {
          "base_uri": "https://localhost:8080/"
        },
        "id": "j46ERjoE3cvM",
        "outputId": "f99ebe49-eb1a-4f83-c857-1a524ccf2cc9"
      },
      "outputs": [
        {
          "output_type": "execute_result",
          "data": {
            "text/plain": [
              "['k', 'i', 'g', 'e', 'c', 'a']"
            ]
          },
          "metadata": {},
          "execution_count": 46
        }
      ],
      "source": [
        "lis[::-2] ##reverse slicing with step 2"
      ]
    },
    {
      "cell_type": "code",
      "source": [
        "lis"
      ],
      "metadata": {
        "colab": {
          "base_uri": "https://localhost:8080/"
        },
        "id": "sIU85RFkKPJh",
        "outputId": "6b4ba0da-5fc6-4c47-c07a-6d90e16d5c71"
      },
      "execution_count": null,
      "outputs": [
        {
          "output_type": "execute_result",
          "data": {
            "text/plain": [
              "['a', 'b', 'c', 'd', 'e', 'f', 'g', 'h', 'i', 'j', 'k']"
            ]
          },
          "metadata": {},
          "execution_count": 86
        }
      ]
    },
    {
      "cell_type": "code",
      "source": [
        "lis[-3:]"
      ],
      "metadata": {
        "colab": {
          "base_uri": "https://localhost:8080/"
        },
        "id": "ErgpPC_zKTAL",
        "outputId": "ec66f588-229c-4202-adb4-77d22a80018a"
      },
      "execution_count": null,
      "outputs": [
        {
          "output_type": "execute_result",
          "data": {
            "text/plain": [
              "['i', 'j', 'k']"
            ]
          },
          "metadata": {},
          "execution_count": 87
        }
      ]
    },
    {
      "cell_type": "code",
      "source": [
        "lis[:-3]"
      ],
      "metadata": {
        "colab": {
          "base_uri": "https://localhost:8080/"
        },
        "id": "6UfES3puKdlQ",
        "outputId": "365d34d3-9162-47a1-ac6f-a375f8de1d15"
      },
      "execution_count": null,
      "outputs": [
        {
          "output_type": "execute_result",
          "data": {
            "text/plain": [
              "['a', 'b', 'c', 'd', 'e', 'f', 'g', 'h']"
            ]
          },
          "metadata": {},
          "execution_count": 88
        }
      ]
    },
    {
      "cell_type": "code",
      "source": [
        "lis"
      ],
      "metadata": {
        "colab": {
          "base_uri": "https://localhost:8080/"
        },
        "id": "RYkJfU0ELiKY",
        "outputId": "bad4c48d-0dfb-44e9-9652-67edc8dc318a"
      },
      "execution_count": null,
      "outputs": [
        {
          "output_type": "execute_result",
          "data": {
            "text/plain": [
              "['a', 'b', 'c', 'd', 'e', 'f', 'g', 'h', 'i', 'j', 'k']"
            ]
          },
          "metadata": {},
          "execution_count": 89
        }
      ]
    },
    {
      "cell_type": "markdown",
      "metadata": {
        "collapsed": true,
        "id": "Bhxj93uy3cvM"
      },
      "source": [
        "# List methods"
      ]
    },
    {
      "cell_type": "code",
      "execution_count": null,
      "metadata": {
        "ExecuteTime": {
          "end_time": "2021-02-28T07:05:31.499189Z",
          "start_time": "2021-02-28T07:05:31.493204Z"
        },
        "id": "G6k8f00l3cvM"
      },
      "outputs": [],
      "source": [
        "lis1 = [1,2,3,4,5]\n",
        "\n",
        "lis2 = [5,4,3,2,1]"
      ]
    },
    {
      "cell_type": "markdown",
      "metadata": {
        "id": "TBhe1BLK3cvM"
      },
      "source": [
        "## Append Method"
      ]
    },
    {
      "cell_type": "code",
      "execution_count": null,
      "metadata": {
        "ExecuteTime": {
          "end_time": "2021-02-28T07:05:31.773003Z",
          "start_time": "2021-02-28T07:05:31.765024Z"
        },
        "colab": {
          "base_uri": "https://localhost:8080/"
        },
        "id": "P8jLjpfO3cvN",
        "outputId": "8051d765-406b-428c-e7a9-cdc71f332c8d"
      },
      "outputs": [
        {
          "output_type": "execute_result",
          "data": {
            "text/plain": [
              "[1, 2, 3, 4, 5, 10]"
            ]
          },
          "metadata": {},
          "execution_count": 112
        }
      ],
      "source": [
        "lis1.append(10) #  adds the element at last of the list\n",
        "\n",
        "lis1"
      ]
    },
    {
      "cell_type": "code",
      "source": [
        "a=1,2,3,4,5,6\n",
        "lis1.append(a)"
      ],
      "metadata": {
        "id": "hY23BEVJVdCW"
      },
      "execution_count": null,
      "outputs": []
    },
    {
      "cell_type": "code",
      "source": [
        "lis1"
      ],
      "metadata": {
        "colab": {
          "base_uri": "https://localhost:8080/"
        },
        "id": "yFThO4UjVw1F",
        "outputId": "7847657f-8162-4898-c1b2-7152ae2587ac"
      },
      "execution_count": null,
      "outputs": [
        {
          "output_type": "execute_result",
          "data": {
            "text/plain": [
              "[1, 2, 3, 4, 5, 10, (1, 2, 3, 4, 5, 6)]"
            ]
          },
          "metadata": {},
          "execution_count": 114
        }
      ]
    },
    {
      "cell_type": "code",
      "execution_count": null,
      "metadata": {
        "colab": {
          "base_uri": "https://localhost:8080/"
        },
        "id": "vrrhQ3vh3cvN",
        "outputId": "9ed5e195-5ebc-4d81-bd31-97c49dc59c6f"
      },
      "outputs": [
        {
          "output_type": "execute_result",
          "data": {
            "text/plain": [
              "[1, 2, 3, 4, 5, 10, (1, 2, 3, 4, 5, 6), 'a']"
            ]
          },
          "metadata": {},
          "execution_count": 115
        }
      ],
      "source": [
        "lis1.append('a')\n",
        "lis1"
      ]
    },
    {
      "cell_type": "code",
      "execution_count": null,
      "metadata": {
        "colab": {
          "base_uri": "https://localhost:8080/"
        },
        "id": "g1fgwg8z3cvN",
        "outputId": "c5cec2d0-7924-49e2-9206-c5e3c58eb8e1"
      },
      "outputs": [
        {
          "output_type": "execute_result",
          "data": {
            "text/plain": [
              "[1, 2, 3, 4, 5, 10, (1, 2, 3, 4, 5, 6), 'a', [5, 4, 3, 2, 1]]"
            ]
          },
          "metadata": {},
          "execution_count": 116
        }
      ],
      "source": [
        "lis1.append(lis2)\n",
        "lis1"
      ]
    },
    {
      "cell_type": "code",
      "execution_count": null,
      "metadata": {
        "colab": {
          "base_uri": "https://localhost:8080/",
          "height": 188
        },
        "id": "RpOE9eT_3cvN",
        "outputId": "4d6a32b6-f2e9-493c-a816-8c34432e09a7"
      },
      "outputs": [
        {
          "output_type": "error",
          "ename": "TypeError",
          "evalue": "ignored",
          "traceback": [
            "\u001b[0;31m---------------------------------------------------------------------------\u001b[0m",
            "\u001b[0;31mTypeError\u001b[0m                                 Traceback (most recent call last)",
            "\u001b[0;32m<ipython-input-117-c44e56482cc3>\u001b[0m in \u001b[0;36m<module>\u001b[0;34m()\u001b[0m\n\u001b[0;32m----> 1\u001b[0;31m \u001b[0mlis1\u001b[0m\u001b[0;34m.\u001b[0m\u001b[0mappend\u001b[0m\u001b[0;34m(\u001b[0m\u001b[0;36m10\u001b[0m\u001b[0;34m,\u001b[0m\u001b[0;36m20\u001b[0m\u001b[0;34m)\u001b[0m\u001b[0;34m\u001b[0m\u001b[0;34m\u001b[0m\u001b[0m\n\u001b[0m\u001b[1;32m      2\u001b[0m \u001b[0mlis1\u001b[0m\u001b[0;34m\u001b[0m\u001b[0;34m\u001b[0m\u001b[0m\n",
            "\u001b[0;31mTypeError\u001b[0m: append() takes exactly one argument (2 given)"
          ]
        }
      ],
      "source": [
        "lis1.append(10,20)\n",
        "lis1"
      ]
    },
    {
      "cell_type": "code",
      "execution_count": null,
      "metadata": {
        "colab": {
          "base_uri": "https://localhost:8080/"
        },
        "id": "ughR6QKj3cvN",
        "outputId": "e0f0f982-626b-4440-8954-f609e689a9cf"
      },
      "outputs": [
        {
          "output_type": "execute_result",
          "data": {
            "text/plain": [
              "[1, 2, 3, 4, 5, 10, (1, 2, 3, 4, 5, 6), 'a', [5, 4, 3, 2, 1], [10, 20]]"
            ]
          },
          "metadata": {},
          "execution_count": 118
        }
      ],
      "source": [
        "lis1.append([10,20])\n",
        "lis1"
      ]
    },
    {
      "cell_type": "markdown",
      "metadata": {
        "id": "Zg3JBtKV3cvN"
      },
      "source": [
        "## Replace Method"
      ]
    },
    {
      "cell_type": "code",
      "source": [
        "lis1=[1, 2, 3, 4, 5]"
      ],
      "metadata": {
        "id": "6xyybqjrYBXF"
      },
      "execution_count": null,
      "outputs": []
    },
    {
      "cell_type": "code",
      "execution_count": null,
      "metadata": {
        "ExecuteTime": {
          "end_time": "2021-02-28T07:05:32.263511Z",
          "start_time": "2021-02-28T07:05:32.258524Z"
        },
        "colab": {
          "base_uri": "https://localhost:8080/"
        },
        "id": "ki1MLahE3cvO",
        "outputId": "d44214c7-1d0b-4f14-9f92-3659c093b72b"
      },
      "outputs": [
        {
          "output_type": "execute_result",
          "data": {
            "text/plain": [
              "[1, 2, 3, 20, 5]"
            ]
          },
          "metadata": {},
          "execution_count": 121
        }
      ],
      "source": [
        "# changing the element by index\n",
        "lis1[3] = 20\n",
        "\n",
        "lis1"
      ]
    },
    {
      "cell_type": "markdown",
      "metadata": {
        "id": "sPO2m-mD3cvO"
      },
      "source": [
        "## Insert Method"
      ]
    },
    {
      "cell_type": "code",
      "execution_count": null,
      "metadata": {
        "colab": {
          "base_uri": "https://localhost:8080/"
        },
        "id": "1DKOXkvL3cvO",
        "outputId": "3dff25d1-523f-46c5-df6c-8ee27176fe6b"
      },
      "outputs": [
        {
          "output_type": "execute_result",
          "data": {
            "text/plain": [
              "[1, 2, 3, 4, 5]"
            ]
          },
          "metadata": {},
          "execution_count": 122
        }
      ],
      "source": [
        "lis1=[1,2,3,4,5]\n",
        "lis1"
      ]
    },
    {
      "cell_type": "code",
      "execution_count": null,
      "metadata": {
        "ExecuteTime": {
          "end_time": "2021-02-28T07:05:34.307219Z",
          "start_time": "2021-02-28T07:05:34.300238Z"
        },
        "colab": {
          "base_uri": "https://localhost:8080/"
        },
        "id": "m8f0a0cr3cvO",
        "outputId": "568a5639-a5af-4c85-9a90-af23017a5051"
      },
      "outputs": [
        {
          "output_type": "execute_result",
          "data": {
            "text/plain": [
              "[1, 'a', 2, 3, 4, 5]"
            ]
          },
          "metadata": {},
          "execution_count": 123
        }
      ],
      "source": [
        "# l1.insert(index,element)\n",
        "lis1.insert(1,'a')\n",
        "lis1"
      ]
    },
    {
      "cell_type": "code",
      "execution_count": null,
      "metadata": {
        "colab": {
          "base_uri": "https://localhost:8080/"
        },
        "id": "9h6OE1vP3cvO",
        "outputId": "1d229f53-4c0b-4eb0-8839-9e0e0b974456"
      },
      "outputs": [
        {
          "output_type": "execute_result",
          "data": {
            "text/plain": [
              "[[90, 56, 34], 1, 'a', 2, 3, 4, 5]"
            ]
          },
          "metadata": {},
          "execution_count": 124
        }
      ],
      "source": [
        "# l1.insert(index,element)\n",
        "lis1.insert(0,[90,56,34])\n",
        "lis1"
      ]
    },
    {
      "cell_type": "code",
      "execution_count": null,
      "metadata": {
        "colab": {
          "base_uri": "https://localhost:8080/"
        },
        "id": "0Qiv7S7T3cvP",
        "outputId": "7fc8689b-a3c4-4a1b-9f1e-5642b5197221"
      },
      "outputs": [
        {
          "output_type": "stream",
          "name": "stdout",
          "text": [
            "[[90, 56, 100, 34], 1, 'a', 2, 3, 4, 5]\n"
          ]
        }
      ],
      "source": [
        "lis1[0].insert(2, 100)\n",
        "print(lis1)"
      ]
    },
    {
      "cell_type": "code",
      "execution_count": null,
      "metadata": {
        "colab": {
          "base_uri": "https://localhost:8080/"
        },
        "id": "JaDN3cN53cvP",
        "outputId": "cc866af3-467b-4ac2-f97a-dcd5588b9753"
      },
      "outputs": [
        {
          "output_type": "execute_result",
          "data": {
            "text/plain": [
              "[[90, 56, 100, 34], 1, 'a', 2, 3, 4, 5, 'a']"
            ]
          },
          "metadata": {},
          "execution_count": 126
        }
      ],
      "source": [
        "lis1.insert(,'a')\n",
        "lis1100"
      ]
    },
    {
      "cell_type": "markdown",
      "metadata": {
        "id": "WoftsbEJ3cvP"
      },
      "source": [
        "## Count method"
      ]
    },
    {
      "cell_type": "code",
      "source": [
        "lis1=[10,40,40,50,10,40]"
      ],
      "metadata": {
        "id": "auUK10YQaagg"
      },
      "execution_count": null,
      "outputs": []
    },
    {
      "cell_type": "code",
      "execution_count": null,
      "metadata": {
        "colab": {
          "base_uri": "https://localhost:8080/"
        },
        "id": "oh7fxaTw3cvP",
        "outputId": "1bc2ba1c-1f68-485c-f300-39b45359b282"
      },
      "outputs": [
        {
          "output_type": "execute_result",
          "data": {
            "text/plain": [
              "2"
            ]
          },
          "metadata": {},
          "execution_count": 2
        }
      ],
      "source": [
        "lis1.count(10)"
      ]
    },
    {
      "cell_type": "markdown",
      "metadata": {
        "id": "S9A6iGb73cvP"
      },
      "source": [
        "## Index Method"
      ]
    },
    {
      "cell_type": "code",
      "execution_count": null,
      "metadata": {
        "colab": {
          "base_uri": "https://localhost:8080/"
        },
        "id": "lV4Dymro3cvQ",
        "outputId": "1423d85c-83e6-4103-f9d2-1d1c840a5c1d"
      },
      "outputs": [
        {
          "output_type": "execute_result",
          "data": {
            "text/plain": [
              "[10, 40, 40, 50, 10, 40]"
            ]
          },
          "metadata": {},
          "execution_count": 132
        }
      ],
      "source": [
        "lis1"
      ]
    },
    {
      "cell_type": "code",
      "execution_count": null,
      "metadata": {
        "colab": {
          "base_uri": "https://localhost:8080/"
        },
        "id": "ofdrz7KM3cvQ",
        "outputId": "6ed0233e-2b79-4062-d691-7d4cd32665cb"
      },
      "outputs": [
        {
          "output_type": "execute_result",
          "data": {
            "text/plain": [
              "0"
            ]
          },
          "metadata": {},
          "execution_count": 133
        }
      ],
      "source": [
        "lis1.index(10) # Index method gives the index of first occurence in the list and not subsequent once"
      ]
    },
    {
      "cell_type": "code",
      "execution_count": null,
      "metadata": {
        "colab": {
          "base_uri": "https://localhost:8080/"
        },
        "id": "iji3az8h3cvQ",
        "outputId": "2bc32b0a-736d-4abf-fe7e-5e6d038e2293"
      },
      "outputs": [
        {
          "output_type": "execute_result",
          "data": {
            "text/plain": [
              "1"
            ]
          },
          "metadata": {},
          "execution_count": 134
        }
      ],
      "source": [
        "lis1.index(40)"
      ]
    },
    {
      "cell_type": "markdown",
      "metadata": {
        "id": "Kq_ldkiX3cvQ"
      },
      "source": [
        "## Remove method"
      ]
    },
    {
      "cell_type": "code",
      "execution_count": null,
      "metadata": {
        "colab": {
          "base_uri": "https://localhost:8080/"
        },
        "id": "T7yvGRlG3cvQ",
        "outputId": "55f7b47d-bf8b-4887-babd-4fb1437c118f"
      },
      "outputs": [
        {
          "output_type": "execute_result",
          "data": {
            "text/plain": [
              "[40, 40, 50, 40]"
            ]
          },
          "metadata": {},
          "execution_count": 145
        }
      ],
      "source": [
        "lis1"
      ]
    },
    {
      "cell_type": "code",
      "execution_count": null,
      "metadata": {
        "ExecuteTime": {
          "end_time": "2021-02-28T07:05:34.859764Z",
          "start_time": "2021-02-28T07:05:34.852781Z"
        },
        "colab": {
          "base_uri": "https://localhost:8080/"
        },
        "id": "HCKpE-3x3cvR",
        "outputId": "fd2ddf38-48de-4b1e-e567-a9f1d0ab4d57"
      },
      "outputs": [
        {
          "output_type": "execute_result",
          "data": {
            "text/plain": [
              "[40, 40, 50, 40]"
            ]
          },
          "metadata": {},
          "execution_count": 144
        }
      ],
      "source": [
        "#  remove(element) searches and removes the very first element not all\n",
        "lis1.remove(10)\n",
        "lis1"
      ]
    },
    {
      "cell_type": "code",
      "execution_count": null,
      "metadata": {
        "colab": {
          "base_uri": "https://localhost:8080/",
          "height": 188
        },
        "id": "-nrNhUTr3cvS",
        "outputId": "66aab7be-1dd2-45df-874e-33c7ebda53c4"
      },
      "outputs": [
        {
          "output_type": "error",
          "ename": "ValueError",
          "evalue": "ignored",
          "traceback": [
            "\u001b[0;31m---------------------------------------------------------------------------\u001b[0m",
            "\u001b[0;31mValueError\u001b[0m                                Traceback (most recent call last)",
            "\u001b[0;32m<ipython-input-146-ae2f5e5fae40>\u001b[0m in \u001b[0;36m<module>\u001b[0;34m()\u001b[0m\n\u001b[0;32m----> 1\u001b[0;31m \u001b[0mlis1\u001b[0m\u001b[0;34m.\u001b[0m\u001b[0mremove\u001b[0m\u001b[0;34m(\u001b[0m\u001b[0;36m100\u001b[0m\u001b[0;34m)\u001b[0m\u001b[0;34m\u001b[0m\u001b[0;34m\u001b[0m\u001b[0m\n\u001b[0m\u001b[1;32m      2\u001b[0m \u001b[0mlis1\u001b[0m\u001b[0;34m\u001b[0m\u001b[0;34m\u001b[0m\u001b[0m\n",
            "\u001b[0;31mValueError\u001b[0m: list.remove(x): x not in list"
          ]
        }
      ],
      "source": [
        "lis1.remove(100)\n",
        "lis1"
      ]
    },
    {
      "cell_type": "code",
      "execution_count": null,
      "metadata": {
        "id": "oRzOwWUj3cvS"
      },
      "outputs": [],
      "source": [
        "lis1[0].remove(90)\n",
        "lis1"
      ]
    },
    {
      "cell_type": "markdown",
      "metadata": {
        "id": "ezHPMuv-3cvT"
      },
      "source": [
        "## POP Method"
      ]
    },
    {
      "cell_type": "code",
      "source": [
        "lis1=[10,30,50,10,40]"
      ],
      "metadata": {
        "id": "v0CVLmSCdrcD"
      },
      "execution_count": null,
      "outputs": []
    },
    {
      "cell_type": "code",
      "execution_count": null,
      "metadata": {
        "ExecuteTime": {
          "end_time": "2021-02-28T07:05:37.417432Z",
          "start_time": "2021-02-28T07:05:37.409453Z"
        },
        "colab": {
          "base_uri": "https://localhost:8080/"
        },
        "id": "7-3SMYoR3cvT",
        "outputId": "7656e315-f3a6-4e20-fc9e-5b7f2696c1db"
      },
      "outputs": [
        {
          "output_type": "execute_result",
          "data": {
            "text/plain": [
              "40"
            ]
          },
          "metadata": {},
          "execution_count": 148
        }
      ],
      "source": [
        "# lis1.pop(index) , if no index is passed it removes element at -1 index\n",
        "lis1.pop()"
      ]
    },
    {
      "cell_type": "code",
      "execution_count": null,
      "metadata": {
        "colab": {
          "base_uri": "https://localhost:8080/"
        },
        "id": "Oa5Okvxd3cvT",
        "outputId": "4dbacdf8-d6af-4d05-f90a-f02c67be76bc"
      },
      "outputs": [
        {
          "output_type": "execute_result",
          "data": {
            "text/plain": [
              "[10, 30, 50, 10]"
            ]
          },
          "metadata": {},
          "execution_count": 149
        }
      ],
      "source": [
        "lis1"
      ]
    },
    {
      "cell_type": "code",
      "execution_count": null,
      "metadata": {
        "colab": {
          "base_uri": "https://localhost:8080/"
        },
        "id": "R_p_BSXV3cvU",
        "outputId": "cdd0c7dd-e017-4e74-b4fe-684c45781a29"
      },
      "outputs": [
        {
          "output_type": "execute_result",
          "data": {
            "text/plain": [
              "30"
            ]
          },
          "metadata": {},
          "execution_count": 150
        }
      ],
      "source": [
        "# lis1.pop(index)\n",
        "lis1.pop(1)"
      ]
    },
    {
      "cell_type": "code",
      "source": [
        "lis1"
      ],
      "metadata": {
        "colab": {
          "base_uri": "https://localhost:8080/"
        },
        "id": "y9VT-jnoeXTY",
        "outputId": "3491047e-1fab-4c39-b5a6-befb7effb459"
      },
      "execution_count": null,
      "outputs": [
        {
          "output_type": "execute_result",
          "data": {
            "text/plain": [
              "[10, 50, 10]"
            ]
          },
          "metadata": {},
          "execution_count": 151
        }
      ]
    },
    {
      "cell_type": "code",
      "execution_count": null,
      "metadata": {
        "colab": {
          "base_uri": "https://localhost:8080/"
        },
        "id": "zCPa5LEM3cvU",
        "outputId": "66b3e546-c98e-4dc5-d315-d68fd7c681aa"
      },
      "outputs": [
        {
          "output_type": "execute_result",
          "data": {
            "text/plain": [
              "50"
            ]
          },
          "metadata": {},
          "execution_count": 152
        }
      ],
      "source": [
        "lis1.pop(-2)"
      ]
    },
    {
      "cell_type": "code",
      "execution_count": null,
      "metadata": {
        "colab": {
          "base_uri": "https://localhost:8080/"
        },
        "id": "TjNxgxYZ3cvU",
        "outputId": "6a262aa0-a661-4f20-fb52-561a69220356"
      },
      "outputs": [
        {
          "output_type": "execute_result",
          "data": {
            "text/plain": [
              "[10, 10]"
            ]
          },
          "metadata": {},
          "execution_count": 153
        }
      ],
      "source": [
        "lis1"
      ]
    },
    {
      "cell_type": "code",
      "execution_count": null,
      "metadata": {
        "colab": {
          "base_uri": "https://localhost:8080/"
        },
        "id": "rEYlOhRn3cvU",
        "outputId": "ab24b03c-8d7f-4dde-b839-e9904acb3beb"
      },
      "outputs": [
        {
          "output_type": "execute_result",
          "data": {
            "text/plain": [
              "[10]"
            ]
          },
          "metadata": {},
          "execution_count": 154
        }
      ],
      "source": [
        "lis1.remove(10)\n",
        "lis1"
      ]
    },
    {
      "cell_type": "markdown",
      "metadata": {
        "id": "nUe1wEfR3cvU"
      },
      "source": [
        "## Reverse"
      ]
    },
    {
      "cell_type": "code",
      "execution_count": null,
      "metadata": {
        "id": "pSAKMjYf3cvV"
      },
      "outputs": [],
      "source": [
        "lis1=[[100, 34], 1, 3, 4, 5]"
      ]
    },
    {
      "cell_type": "code",
      "execution_count": null,
      "metadata": {
        "ExecuteTime": {
          "end_time": "2021-02-28T07:09:03.285308Z",
          "start_time": "2021-02-28T07:09:03.270352Z"
        },
        "colab": {
          "base_uri": "https://localhost:8080/"
        },
        "id": "CVKgxzp23cvV",
        "outputId": "988f9eb7-71d8-4d85-f401-f9f3c5b46f4b"
      },
      "outputs": [
        {
          "output_type": "execute_result",
          "data": {
            "text/plain": [
              "[5, 4, 3, 1, [100, 34]]"
            ]
          },
          "metadata": {},
          "execution_count": 160
        }
      ],
      "source": [
        "# reverses the list \n",
        "lis1.reverse()   # reversed is a list inbuild function specic to list\n",
        "lis1"
      ]
    },
    {
      "cell_type": "code",
      "execution_count": null,
      "metadata": {
        "colab": {
          "base_uri": "https://localhost:8080/"
        },
        "id": "YSKPJ_aw3cvV",
        "outputId": "cfe01a98-1717-4520-b61a-40ffd66f0044"
      },
      "outputs": [
        {
          "output_type": "stream",
          "name": "stdout",
          "text": [
            "<list_reverseiterator object at 0x7f675c041710>\n",
            "\n",
            "\n",
            "[[100, 34], 1, 3, 4, 5]\n"
          ]
        }
      ],
      "source": [
        "print(reversed(lis1),'\\n',list(reversed(lis1)),sep='\\n')  # reversed is a python inbuild function not specic to list"
      ]
    },
    {
      "cell_type": "markdown",
      "metadata": {
        "id": "OhaVCB053cvV"
      },
      "source": [
        "## Sort Method"
      ]
    },
    {
      "cell_type": "code",
      "execution_count": null,
      "metadata": {
        "id": "TVb-3I9x3cvV"
      },
      "outputs": [],
      "source": [
        "lis1=[1,2,3,4,5,[100,34]]"
      ]
    },
    {
      "cell_type": "code",
      "execution_count": null,
      "metadata": {
        "colab": {
          "base_uri": "https://localhost:8080/",
          "height": 188
        },
        "id": "VYr4JJYy3cvV",
        "outputId": "4e035085-e711-4ccb-d349-c33fbe431eb1"
      },
      "outputs": [
        {
          "output_type": "error",
          "ename": "TypeError",
          "evalue": "ignored",
          "traceback": [
            "\u001b[0;31m---------------------------------------------------------------------------\u001b[0m",
            "\u001b[0;31mTypeError\u001b[0m                                 Traceback (most recent call last)",
            "\u001b[0;32m<ipython-input-163-7a85214a07c3>\u001b[0m in \u001b[0;36m<module>\u001b[0;34m()\u001b[0m\n\u001b[0;32m----> 1\u001b[0;31m \u001b[0mlis1\u001b[0m\u001b[0;34m.\u001b[0m\u001b[0msort\u001b[0m\u001b[0;34m(\u001b[0m\u001b[0;34m)\u001b[0m  \u001b[0;31m# nested list donot support sort method\u001b[0m\u001b[0;34m\u001b[0m\u001b[0;34m\u001b[0m\u001b[0m\n\u001b[0m\u001b[1;32m      2\u001b[0m \u001b[0mlis1\u001b[0m\u001b[0;34m\u001b[0m\u001b[0;34m\u001b[0m\u001b[0m\n",
            "\u001b[0;31mTypeError\u001b[0m: '<' not supported between instances of 'list' and 'int'"
          ]
        }
      ],
      "source": [
        "lis1.sort()  # nested list donot support sort method\n",
        "lis1"
      ]
    },
    {
      "cell_type": "code",
      "execution_count": null,
      "metadata": {
        "colab": {
          "base_uri": "https://localhost:8080/"
        },
        "id": "ErKuxdDZ3cvW",
        "outputId": "4bc12b75-69ab-44cf-90df-0be4d144a75f"
      },
      "outputs": [
        {
          "output_type": "execute_result",
          "data": {
            "text/plain": [
              "[6, 34, 56, 98, 434]"
            ]
          },
          "metadata": {},
          "execution_count": 164
        }
      ],
      "source": [
        "lis1=[98,434,6,56,34]\n",
        "lis1.sort()                        # ascending order sort\n",
        "lis1"
      ]
    },
    {
      "cell_type": "code",
      "execution_count": null,
      "metadata": {
        "colab": {
          "base_uri": "https://localhost:8080/"
        },
        "id": "TaSccitr3cvW",
        "outputId": "37016917-c73c-4c74-9107-a8d12d74f775"
      },
      "outputs": [
        {
          "output_type": "execute_result",
          "data": {
            "text/plain": [
              "[434, 98, 56, 34, 6]"
            ]
          },
          "metadata": {},
          "execution_count": 165
        }
      ],
      "source": [
        "lis1.sort(reverse=True) ## if you want to sort in descending order\n",
        "lis1"
      ]
    },
    {
      "cell_type": "code",
      "execution_count": null,
      "metadata": {
        "colab": {
          "base_uri": "https://localhost:8080/"
        },
        "id": "prRihQ0f3cvW",
        "outputId": "47ba668f-1cb4-44b8-ef05-ba905dba9e90"
      },
      "outputs": [
        {
          "output_type": "execute_result",
          "data": {
            "text/plain": [
              "['1', '100', '3', 'A', 'F', 'a', 'e', 'z']"
            ]
          },
          "metadata": {},
          "execution_count": 166
        }
      ],
      "source": [
        "lis1=['A','a','z','e','F','100','3','1']  # sorting on basis of ASCII VALUES\n",
        "lis1.sort()\n",
        "lis1"
      ]
    },
    {
      "cell_type": "code",
      "execution_count": null,
      "metadata": {
        "colab": {
          "base_uri": "https://localhost:8080/"
        },
        "id": "iw38eNBA3cvW",
        "outputId": "f7e3f893-e7a9-47f9-fc41-fac8b1a288f0"
      },
      "outputs": [
        {
          "output_type": "execute_result",
          "data": {
            "text/plain": [
              "['1', '100', '3', 'A', 'F', 'a', 'e', 'z']"
            ]
          },
          "metadata": {},
          "execution_count": 167
        }
      ],
      "source": [
        "lis1=['A','a','z','e','F','100','3','1'] \n",
        "lis2=sorted(lis1)                                      # SORTED is inbuilt python function not specific to list\n",
        "lis2"
      ]
    },
    {
      "cell_type": "code",
      "source": [
        "lis1"
      ],
      "metadata": {
        "colab": {
          "base_uri": "https://localhost:8080/"
        },
        "id": "BHZhgGgUi2oH",
        "outputId": "3e2cc553-9775-43fd-a1e1-dd8ea4344ade"
      },
      "execution_count": null,
      "outputs": [
        {
          "output_type": "execute_result",
          "data": {
            "text/plain": [
              "['A', 'a', 'z', 'e', 'F', '100', '3', '1']"
            ]
          },
          "metadata": {},
          "execution_count": 168
        }
      ]
    },
    {
      "cell_type": "code",
      "execution_count": null,
      "metadata": {
        "colab": {
          "base_uri": "https://localhost:8080/",
          "height": 243
        },
        "id": "LGcHKLYM3cvW",
        "outputId": "c69bd9cf-a128-405b-ea14-ca6096c69a4f"
      },
      "outputs": [
        {
          "output_type": "error",
          "ename": "TypeError",
          "evalue": "ignored",
          "traceback": [
            "\u001b[0;31m---------------------------------------------------------------------------\u001b[0m",
            "\u001b[0;31mTypeError\u001b[0m                                 Traceback (most recent call last)",
            "\u001b[0;32m<ipython-input-169-26d0b655ca3e>\u001b[0m in \u001b[0;36m<module>\u001b[0;34m()\u001b[0m\n\u001b[1;32m      1\u001b[0m \u001b[0mlis1\u001b[0m\u001b[0;34m=\u001b[0m\u001b[0;34m[\u001b[0m\u001b[0;34m'A'\u001b[0m\u001b[0;34m,\u001b[0m\u001b[0;34m'a'\u001b[0m\u001b[0;34m,\u001b[0m\u001b[0;34m'z'\u001b[0m\u001b[0;34m,\u001b[0m\u001b[0;34m'e'\u001b[0m\u001b[0;34m,\u001b[0m\u001b[0;34m'F'\u001b[0m\u001b[0;34m,\u001b[0m\u001b[0;34m'100'\u001b[0m\u001b[0;34m,\u001b[0m\u001b[0;34m'3'\u001b[0m\u001b[0;34m,\u001b[0m\u001b[0;34m'1'\u001b[0m\u001b[0;34m,\u001b[0m\u001b[0;36m2\u001b[0m\u001b[0;34m,\u001b[0m\u001b[0;36m3\u001b[0m\u001b[0;34m,\u001b[0m\u001b[0;36m4\u001b[0m\u001b[0;34m]\u001b[0m\u001b[0;34m\u001b[0m\u001b[0;34m\u001b[0m\u001b[0m\n\u001b[1;32m      2\u001b[0m \u001b[0;34m\u001b[0m\u001b[0m\n\u001b[0;32m----> 3\u001b[0;31m \u001b[0mlis1\u001b[0m\u001b[0;34m.\u001b[0m\u001b[0msort\u001b[0m\u001b[0;34m(\u001b[0m\u001b[0;34m)\u001b[0m\u001b[0;34m\u001b[0m\u001b[0;34m\u001b[0m\u001b[0m\n\u001b[0m\u001b[1;32m      4\u001b[0m \u001b[0mlis1\u001b[0m\u001b[0;34m\u001b[0m\u001b[0;34m\u001b[0m\u001b[0m\n\u001b[1;32m      5\u001b[0m \u001b[0;34m\u001b[0m\u001b[0m\n",
            "\u001b[0;31mTypeError\u001b[0m: '<' not supported between instances of 'int' and 'str'"
          ]
        }
      ],
      "source": [
        "lis1=['A','a','z','e','F','100','3','1',2,3,4]\n",
        "\n",
        "lis1.sort()\n",
        "lis1\n",
        "\n",
        "# list doesnot do sorting in case of Nested list and a list having combination of Numeric & character"
      ]
    },
    {
      "cell_type": "markdown",
      "metadata": {
        "id": "PEvE_1Of3cvW"
      },
      "source": [
        "## Extend"
      ]
    },
    {
      "cell_type": "code",
      "execution_count": null,
      "metadata": {
        "id": "0Woyf1iG3cvX"
      },
      "outputs": [],
      "source": [
        "lis1=['1', '100', '3', 'A']  \n",
        "b=[6,7,10]"
      ]
    },
    {
      "cell_type": "code",
      "execution_count": null,
      "metadata": {
        "colab": {
          "base_uri": "https://localhost:8080/"
        },
        "id": "Zql1bCjV3cvX",
        "outputId": "020a8511-c562-4850-c04b-d656646eed7f"
      },
      "outputs": [
        {
          "output_type": "execute_result",
          "data": {
            "text/plain": [
              "['1', '100', '3', 'A', 6, 7, 10]"
            ]
          },
          "metadata": {},
          "execution_count": 171
        }
      ],
      "source": [
        "lis1.extend(b)       # Extend is used to merge 2 list and it is auto saving in nature\n",
        "lis1"
      ]
    },
    {
      "cell_type": "code",
      "source": [
        "lis1=['1', '100', '3', 'A']  \n",
        "b=[6,7,10]"
      ],
      "metadata": {
        "id": "J7DsmyTAjakv"
      },
      "execution_count": null,
      "outputs": []
    },
    {
      "cell_type": "code",
      "execution_count": null,
      "metadata": {
        "colab": {
          "base_uri": "https://localhost:8080/"
        },
        "id": "k4N2lHsK3cvX",
        "outputId": "bd922be5-53f8-4c42-9296-1ebc05b2dc1b"
      },
      "outputs": [
        {
          "output_type": "execute_result",
          "data": {
            "text/plain": [
              "['1', '100', '3', 'A', [6, 7, 10]]"
            ]
          },
          "metadata": {},
          "execution_count": 173
        }
      ],
      "source": [
        "lis1.append(b)\n",
        "lis1"
      ]
    },
    {
      "cell_type": "code",
      "execution_count": null,
      "metadata": {
        "colab": {
          "base_uri": "https://localhost:8080/"
        },
        "id": "aeR7Y0lB3cvX",
        "outputId": "90e97a84-2ff9-44dd-c52e-1cfd8a6e5f2e"
      },
      "outputs": [
        {
          "output_type": "execute_result",
          "data": {
            "text/plain": [
              "['1', '100', '3', 'A', 6, 7, 10]"
            ]
          },
          "metadata": {},
          "execution_count": 175
        }
      ],
      "source": [
        "lis2=lis1+b               # similar to extend \n",
        "lis2"
      ]
    },
    {
      "cell_type": "markdown",
      "metadata": {
        "id": "-HC8794B3cvX"
      },
      "source": [
        "## Auto Aliasing method"
      ]
    },
    {
      "cell_type": "code",
      "execution_count": null,
      "metadata": {
        "id": "5khlW7yZ3cvX"
      },
      "outputs": [],
      "source": [
        "lis1=['1', '100', '3', 'A', 'F', 'a', 'e', 'z']"
      ]
    },
    {
      "cell_type": "code",
      "execution_count": null,
      "metadata": {
        "colab": {
          "base_uri": "https://localhost:8080/"
        },
        "id": "nT5VTaVv3cvX",
        "outputId": "aa42157c-fb80-4f41-dfd3-431ca5ec6b18"
      },
      "outputs": [
        {
          "output_type": "execute_result",
          "data": {
            "text/plain": [
              "['1', '100', '3', 'A', 'F', 'a', 'e', 'z']"
            ]
          },
          "metadata": {},
          "execution_count": 177
        }
      ],
      "source": [
        "c=lis1    # both the variables c and lis1 will share same memory location due to which change\n",
        "         # in one varibale will reflect in another\n",
        "c"
      ]
    },
    {
      "cell_type": "code",
      "execution_count": null,
      "metadata": {
        "colab": {
          "base_uri": "https://localhost:8080/"
        },
        "id": "D5BrJhxQ3cvY",
        "outputId": "95ed1255-e28d-484a-ce3c-086cade81494"
      },
      "outputs": [
        {
          "output_type": "execute_result",
          "data": {
            "text/plain": [
              "['1', '100', '3', 'A', 'F', 'a', 'e', 'z', 12]"
            ]
          },
          "metadata": {},
          "execution_count": 178
        }
      ],
      "source": [
        "c.append(12)\n",
        "c"
      ]
    },
    {
      "cell_type": "code",
      "execution_count": null,
      "metadata": {
        "colab": {
          "base_uri": "https://localhost:8080/"
        },
        "id": "gnsIrt7_3cvY",
        "outputId": "d8b016d4-9dad-4aef-aadf-c897b828e566"
      },
      "outputs": [
        {
          "output_type": "execute_result",
          "data": {
            "text/plain": [
              "['1', '100', '3', 'A', 'F', 'a', 'e', 'z', 12]"
            ]
          },
          "metadata": {},
          "execution_count": 179
        }
      ],
      "source": [
        "lis1"
      ]
    },
    {
      "cell_type": "code",
      "execution_count": null,
      "metadata": {
        "colab": {
          "base_uri": "https://localhost:8080/"
        },
        "id": "PV-BFyRc3cvY",
        "outputId": "3644ff93-e9b9-4080-e836-090df5371af5"
      },
      "outputs": [
        {
          "output_type": "execute_result",
          "data": {
            "text/plain": [
              "['1', '100', '3', 'A', 'F', 'a', 'e', 'z', 12, 15]"
            ]
          },
          "metadata": {},
          "execution_count": 180
        }
      ],
      "source": [
        "lis1.append(15)\n",
        "lis1"
      ]
    },
    {
      "cell_type": "code",
      "execution_count": null,
      "metadata": {
        "colab": {
          "base_uri": "https://localhost:8080/"
        },
        "id": "b5yg476i3cvY",
        "outputId": "f1e77e60-a8fa-4fb8-9080-66b826ff0257"
      },
      "outputs": [
        {
          "output_type": "execute_result",
          "data": {
            "text/plain": [
              "['1', '100', '3', 'A', 'F', 'a', 'e', 'z', 12, 15]"
            ]
          },
          "metadata": {},
          "execution_count": 181
        }
      ],
      "source": [
        "c"
      ]
    },
    {
      "cell_type": "code",
      "execution_count": null,
      "metadata": {
        "ExecuteTime": {
          "end_time": "2021-02-28T07:09:42.935092Z",
          "start_time": "2021-02-28T07:09:42.929107Z"
        },
        "id": "ry0Ioj1w3cvY"
      },
      "outputs": [],
      "source": [
        "c = lis1.copy()"
      ]
    },
    {
      "cell_type": "code",
      "execution_count": null,
      "metadata": {
        "colab": {
          "base_uri": "https://localhost:8080/"
        },
        "id": "7qy3261E3cvY",
        "outputId": "e49daff0-9ba2-445e-d7f3-330432e1dd6b"
      },
      "outputs": [
        {
          "output_type": "execute_result",
          "data": {
            "text/plain": [
              "['1', '100', '3', 'A', 'F', 'a', 'e', 'z', 12, 15]"
            ]
          },
          "metadata": {},
          "execution_count": 183
        }
      ],
      "source": [
        "c"
      ]
    },
    {
      "cell_type": "code",
      "execution_count": null,
      "metadata": {
        "colab": {
          "base_uri": "https://localhost:8080/"
        },
        "id": "6C98qggH3cvY",
        "outputId": "ae39b5f7-577e-4a02-c62a-e35be01f2dca"
      },
      "outputs": [
        {
          "output_type": "execute_result",
          "data": {
            "text/plain": [
              "['1', '100', '3', 'A', 'F', 'a', 'e', 'z', 12, 15, 12]"
            ]
          },
          "metadata": {},
          "execution_count": 184
        }
      ],
      "source": [
        "c.append(12)\n",
        "c"
      ]
    },
    {
      "cell_type": "code",
      "execution_count": null,
      "metadata": {
        "colab": {
          "base_uri": "https://localhost:8080/"
        },
        "id": "XrBVPNEw3cvZ",
        "outputId": "e97c11fb-e81d-453a-d574-2da3a7280675"
      },
      "outputs": [
        {
          "output_type": "execute_result",
          "data": {
            "text/plain": [
              "['1', '100', '3', 'A', 'F', 'a', 'e', 'z', 12, 15]"
            ]
          },
          "metadata": {},
          "execution_count": 185
        }
      ],
      "source": [
        "lis1"
      ]
    },
    {
      "cell_type": "markdown",
      "metadata": {
        "id": "REfehuwl3cvZ"
      },
      "source": [
        "## Clear"
      ]
    },
    {
      "cell_type": "code",
      "execution_count": null,
      "metadata": {
        "colab": {
          "base_uri": "https://localhost:8080/"
        },
        "id": "xXqrYqIW3cvZ",
        "outputId": "d9d5af6d-2c5f-4819-f538-374693bfdce6"
      },
      "outputs": [
        {
          "output_type": "execute_result",
          "data": {
            "text/plain": [
              "['1', '100', 'e', 'z', 12, 15]"
            ]
          },
          "metadata": {},
          "execution_count": 192
        }
      ],
      "source": [
        "lis1"
      ]
    },
    {
      "cell_type": "code",
      "execution_count": null,
      "metadata": {
        "ExecuteTime": {
          "end_time": "2021-02-28T07:09:36.141956Z",
          "start_time": "2021-02-28T07:09:36.134976Z"
        },
        "colab": {
          "base_uri": "https://localhost:8080/"
        },
        "id": "pfpPcr8h3cvZ",
        "outputId": "2eed7dd8-b95e-4a43-aec5-d389e59c0df9"
      },
      "outputs": [
        {
          "output_type": "execute_result",
          "data": {
            "text/plain": [
              "[]"
            ]
          },
          "metadata": {},
          "execution_count": 193
        }
      ],
      "source": [
        "# clears the list or delete all elements of the list\n",
        "lis1.clear()\n",
        "lis1"
      ]
    },
    {
      "cell_type": "code",
      "execution_count": null,
      "metadata": {
        "ExecuteTime": {
          "end_time": "2021-02-28T07:09:45.997974Z",
          "start_time": "2021-02-28T07:09:45.990984Z"
        },
        "colab": {
          "base_uri": "https://localhost:8080/"
        },
        "id": "M2DyQrmo3cvZ",
        "outputId": "5841bfba-7ef8-49ec-c431-966e8159a2e8"
      },
      "outputs": [
        {
          "output_type": "execute_result",
          "data": {
            "text/plain": [
              "['1', '100', '3', 'A', 'F', 'a', 'e', 'z', 12, 15, 12]"
            ]
          },
          "metadata": {},
          "execution_count": 190
        }
      ],
      "source": [
        "c"
      ]
    },
    {
      "cell_type": "markdown",
      "metadata": {
        "id": "MNGY1hZi3cvZ"
      },
      "source": [
        "## Deleting the list/element"
      ]
    },
    {
      "cell_type": "code",
      "execution_count": null,
      "metadata": {
        "colab": {
          "base_uri": "https://localhost:8080/"
        },
        "id": "dm87gx9K3cvZ",
        "outputId": "dc9e0b19-e266-41f2-f79b-c0e8243ead08"
      },
      "outputs": [
        {
          "output_type": "execute_result",
          "data": {
            "text/plain": [
              "['1', '100', 'e', 'z', 12, 15]"
            ]
          },
          "metadata": {},
          "execution_count": 191
        }
      ],
      "source": [
        "lis1=['1', '100', '3', 'A', 'F', 'a', 'e', 'z', 12, 15]\n",
        "del lis1[2:6]\n",
        "lis1"
      ]
    },
    {
      "cell_type": "code",
      "execution_count": null,
      "metadata": {
        "colab": {
          "base_uri": "https://localhost:8080/",
          "height": 206
        },
        "id": "X3rEOxZn3cva",
        "outputId": "32cf46af-1d91-4120-f5d7-51894e58f69e"
      },
      "outputs": [
        {
          "output_type": "error",
          "ename": "NameError",
          "evalue": "ignored",
          "traceback": [
            "\u001b[0;31m---------------------------------------------------------------------------\u001b[0m",
            "\u001b[0;31mNameError\u001b[0m                                 Traceback (most recent call last)",
            "\u001b[0;32m<ipython-input-194-05f61aad5772>\u001b[0m in \u001b[0;36m<module>\u001b[0;34m()\u001b[0m\n\u001b[1;32m      1\u001b[0m \u001b[0;32mdel\u001b[0m \u001b[0mlis1\u001b[0m\u001b[0;34m\u001b[0m\u001b[0;34m\u001b[0m\u001b[0m\n\u001b[1;32m      2\u001b[0m \u001b[0;34m\u001b[0m\u001b[0m\n\u001b[0;32m----> 3\u001b[0;31m \u001b[0mlis1\u001b[0m\u001b[0;34m\u001b[0m\u001b[0;34m\u001b[0m\u001b[0m\n\u001b[0m",
            "\u001b[0;31mNameError\u001b[0m: name 'lis1' is not defined"
          ]
        }
      ],
      "source": [
        "del lis1\n",
        "\n",
        "lis1"
      ]
    },
    {
      "cell_type": "markdown",
      "metadata": {
        "id": "CFIHBYT43cva"
      },
      "source": [
        "## Tuple methods    "
      ]
    },
    {
      "cell_type": "markdown",
      "metadata": {
        "id": "4iUqyimu3cva"
      },
      "source": [
        "**The difference between tuples and list are that tuples are immutable (means they cannot be changed) where as list are mutable (means they can be changed)**"
      ]
    },
    {
      "cell_type": "markdown",
      "metadata": {
        "id": "pwihcIM33cva"
      },
      "source": [
        "### Tuples\n",
        "used for storing any data type.\n",
        "recoznized by small brackets ()."
      ]
    },
    {
      "cell_type": "code",
      "execution_count": null,
      "metadata": {
        "id": "23-oET2g3cva",
        "colab": {
          "base_uri": "https://localhost:8080/"
        },
        "outputId": "62a60262-bb1a-415c-9c8a-25d11b445b7e"
      },
      "outputs": [
        {
          "output_type": "execute_result",
          "data": {
            "text/plain": [
              "(1, 2, 3)"
            ]
          },
          "metadata": {},
          "execution_count": 3
        }
      ],
      "source": [
        "a = (1,2,3)\n",
        "a"
      ]
    },
    {
      "cell_type": "code",
      "execution_count": null,
      "metadata": {
        "id": "C7jSsPHt3cva",
        "colab": {
          "base_uri": "https://localhost:8080/"
        },
        "outputId": "5a3164ff-1169-4101-cad4-0ceecef28d9d"
      },
      "outputs": [
        {
          "output_type": "execute_result",
          "data": {
            "text/plain": [
              "tuple"
            ]
          },
          "metadata": {},
          "execution_count": 4
        }
      ],
      "source": [
        "type(a)"
      ]
    },
    {
      "cell_type": "code",
      "execution_count": null,
      "metadata": {
        "id": "TLq_LgFY3cva",
        "colab": {
          "base_uri": "https://localhost:8080/"
        },
        "outputId": "eb40f6bb-1a79-45fc-9549-43dd6d11e129"
      },
      "outputs": [
        {
          "output_type": "execute_result",
          "data": {
            "text/plain": [
              "int"
            ]
          },
          "metadata": {},
          "execution_count": 5
        }
      ],
      "source": [
        "type((44)) # It is not a tuple it is just 44 written in brackets."
      ]
    },
    {
      "cell_type": "code",
      "execution_count": null,
      "metadata": {
        "id": "Hn2s7CfJ3cva",
        "colab": {
          "base_uri": "https://localhost:8080/"
        },
        "outputId": "79c169e8-3e03-4770-cc00-b1efb06ac00c"
      },
      "outputs": [
        {
          "output_type": "execute_result",
          "data": {
            "text/plain": [
              "tuple"
            ]
          },
          "metadata": {},
          "execution_count": 6
        }
      ],
      "source": [
        "type((44,))  # it is a tuple ,due to trailing comma after 44 within the brackets."
      ]
    },
    {
      "cell_type": "code",
      "execution_count": null,
      "metadata": {
        "id": "5ADE7RsC3cva",
        "colab": {
          "base_uri": "https://localhost:8080/"
        },
        "outputId": "629172d9-a115-42bd-9649-9566371c019d"
      },
      "outputs": [
        {
          "output_type": "execute_result",
          "data": {
            "text/plain": [
              "tuple"
            ]
          },
          "metadata": {},
          "execution_count": 7
        }
      ],
      "source": [
        "a=()    # Empty Tupple declaration\n",
        "type(a)"
      ]
    },
    {
      "cell_type": "code",
      "execution_count": null,
      "metadata": {
        "id": "z2U0DQuo3cvb",
        "colab": {
          "base_uri": "https://localhost:8080/"
        },
        "outputId": "ad98eaf6-d966-41f9-e864-fc8f6430d64d"
      },
      "outputs": [
        {
          "output_type": "execute_result",
          "data": {
            "text/plain": [
              "tuple"
            ]
          },
          "metadata": {},
          "execution_count": 8
        }
      ],
      "source": [
        "a=((1,2),[45,25,43],89,'ko')\n",
        "type(a)"
      ]
    },
    {
      "cell_type": "markdown",
      "metadata": {
        "id": "fcgjEkEw3cvb"
      },
      "source": [
        "**To convert and data type to tuple - use python tuple build in function**"
      ]
    },
    {
      "cell_type": "code",
      "execution_count": null,
      "metadata": {
        "ExecuteTime": {
          "end_time": "2021-02-28T06:20:02.822608Z",
          "start_time": "2021-02-28T06:20:02.818618Z"
        },
        "id": "TZRwUpXe3cvb",
        "colab": {
          "base_uri": "https://localhost:8080/"
        },
        "outputId": "8af1ff8b-369e-45cc-892f-12f65242fc55"
      },
      "outputs": [
        {
          "output_type": "execute_result",
          "data": {
            "text/plain": [
              "(1, 2, 3, 4, 5)"
            ]
          },
          "metadata": {},
          "execution_count": 9
        }
      ],
      "source": [
        "li = [1,2,3,4,5]\n",
        "tu = tuple(li)\n",
        "tu"
      ]
    },
    {
      "cell_type": "code",
      "execution_count": null,
      "metadata": {
        "id": "VFmIwxOI3cvb",
        "colab": {
          "base_uri": "https://localhost:8080/"
        },
        "outputId": "cd2cfc44-d2ef-4944-9d3b-046d8882e227"
      },
      "outputs": [
        {
          "output_type": "execute_result",
          "data": {
            "text/plain": [
              "1"
            ]
          },
          "metadata": {},
          "execution_count": 10
        }
      ],
      "source": [
        "tu[0]"
      ]
    },
    {
      "cell_type": "code",
      "execution_count": null,
      "metadata": {
        "id": "I8-h2gjt3cvb",
        "colab": {
          "base_uri": "https://localhost:8080/"
        },
        "outputId": "6033d9aa-ccda-476d-a230-61ed8d1b71e9"
      },
      "outputs": [
        {
          "output_type": "execute_result",
          "data": {
            "text/plain": [
              "1"
            ]
          },
          "metadata": {},
          "execution_count": 11
        }
      ],
      "source": [
        "tu.count(2)"
      ]
    },
    {
      "cell_type": "code",
      "execution_count": null,
      "metadata": {
        "ExecuteTime": {
          "end_time": "2021-02-28T07:17:16.325649Z",
          "start_time": "2021-02-28T07:17:16.315682Z"
        },
        "id": "IpIeF8zM3cvb",
        "colab": {
          "base_uri": "https://localhost:8080/"
        },
        "outputId": "22c1b25d-637c-438f-ab72-9ce7d33892db"
      },
      "outputs": [
        {
          "output_type": "execute_result",
          "data": {
            "text/plain": [
              "2"
            ]
          },
          "metadata": {},
          "execution_count": 12
        }
      ],
      "source": [
        "tu.index(3)"
      ]
    },
    {
      "cell_type": "code",
      "execution_count": null,
      "metadata": {
        "id": "0T9RsqAo3cvb",
        "colab": {
          "base_uri": "https://localhost:8080/"
        },
        "outputId": "a887c777-7205-4d07-f65b-3b0c2fceece1"
      },
      "outputs": [
        {
          "output_type": "execute_result",
          "data": {
            "text/plain": [
              "(1, 2)"
            ]
          },
          "metadata": {},
          "execution_count": 13
        }
      ],
      "source": [
        "tu[0:2]"
      ]
    },
    {
      "cell_type": "code",
      "execution_count": null,
      "metadata": {
        "ExecuteTime": {
          "end_time": "2021-02-28T07:14:28.943945Z",
          "start_time": "2021-02-28T07:14:28.929967Z"
        },
        "id": "prba7wVL3cvb",
        "colab": {
          "base_uri": "https://localhost:8080/",
          "height": 170
        },
        "outputId": "9404010a-09b1-4724-f315-12864be12aad"
      },
      "outputs": [
        {
          "output_type": "error",
          "ename": "TypeError",
          "evalue": "ignored",
          "traceback": [
            "\u001b[0;31m---------------------------------------------------------------------------\u001b[0m",
            "\u001b[0;31mTypeError\u001b[0m                                 Traceback (most recent call last)",
            "\u001b[0;32m<ipython-input-14-7bee538b368d>\u001b[0m in \u001b[0;36m<module>\u001b[0;34m()\u001b[0m\n\u001b[0;32m----> 1\u001b[0;31m \u001b[0mtu\u001b[0m\u001b[0;34m[\u001b[0m\u001b[0;36m0\u001b[0m\u001b[0;34m]\u001b[0m \u001b[0;34m=\u001b[0m \u001b[0;34m'a'\u001b[0m   \u001b[0;31m# this code can be applied on list because list are mutable\u001b[0m\u001b[0;34m\u001b[0m\u001b[0;34m\u001b[0m\u001b[0m\n\u001b[0m",
            "\u001b[0;31mTypeError\u001b[0m: 'tuple' object does not support item assignment"
          ]
        }
      ],
      "source": [
        "tu[0] = 'a'   # this code can be applied on list because list are mutable"
      ]
    },
    {
      "cell_type": "code",
      "execution_count": null,
      "metadata": {
        "id": "0EDXAUMo3cvc",
        "colab": {
          "base_uri": "https://localhost:8080/",
          "height": 188
        },
        "outputId": "44300d8b-1746-4c72-a77d-a6522b2c10b7"
      },
      "outputs": [
        {
          "output_type": "error",
          "ename": "AttributeError",
          "evalue": "ignored",
          "traceback": [
            "\u001b[0;31m---------------------------------------------------------------------------\u001b[0m",
            "\u001b[0;31mAttributeError\u001b[0m                            Traceback (most recent call last)",
            "\u001b[0;32m<ipython-input-15-49510213069c>\u001b[0m in \u001b[0;36m<module>\u001b[0;34m()\u001b[0m\n\u001b[0;32m----> 1\u001b[0;31m \u001b[0mtu\u001b[0m\u001b[0;34m.\u001b[0m\u001b[0mappend\u001b[0m\u001b[0;34m(\u001b[0m\u001b[0;36m10\u001b[0m\u001b[0;34m)\u001b[0m\u001b[0;34m\u001b[0m\u001b[0;34m\u001b[0m\u001b[0m\n\u001b[0m\u001b[1;32m      2\u001b[0m \u001b[0mtu\u001b[0m\u001b[0;34m\u001b[0m\u001b[0;34m\u001b[0m\u001b[0m\n",
            "\u001b[0;31mAttributeError\u001b[0m: 'tuple' object has no attribute 'append'"
          ]
        }
      ],
      "source": [
        "tu.append(10)\n",
        "tu"
      ]
    },
    {
      "cell_type": "code",
      "execution_count": null,
      "metadata": {
        "id": "ZFMvT7lG3cvc",
        "colab": {
          "base_uri": "https://localhost:8080/",
          "height": 170
        },
        "outputId": "4efd6351-e1aa-478c-d715-ea545d150d77"
      },
      "outputs": [
        {
          "output_type": "error",
          "ename": "AttributeError",
          "evalue": "ignored",
          "traceback": [
            "\u001b[0;31m---------------------------------------------------------------------------\u001b[0m",
            "\u001b[0;31mAttributeError\u001b[0m                            Traceback (most recent call last)",
            "\u001b[0;32m<ipython-input-16-e7fa926581ef>\u001b[0m in \u001b[0;36m<module>\u001b[0;34m()\u001b[0m\n\u001b[0;32m----> 1\u001b[0;31m \u001b[0mtu\u001b[0m\u001b[0;34m.\u001b[0m\u001b[0mpop\u001b[0m\u001b[0;34m(\u001b[0m\u001b[0;34m)\u001b[0m\u001b[0;34m\u001b[0m\u001b[0;34m\u001b[0m\u001b[0m\n\u001b[0m",
            "\u001b[0;31mAttributeError\u001b[0m: 'tuple' object has no attribute 'pop'"
          ]
        }
      ],
      "source": [
        "tu.pop()"
      ]
    },
    {
      "cell_type": "markdown",
      "metadata": {
        "id": "pB4J6ge33cvc"
      },
      "source": [
        "## Python identity operators\n",
        "They are used to compare objects , not if they are equal , but if they are actually the same object , eith same memory location.\n",
        "\n",
        "* **is**  - returns true if both objects are same object.\n",
        "\n",
        "* **is not**  - returns true if both objects are not he same"
      ]
    },
    {
      "cell_type": "code",
      "execution_count": null,
      "metadata": {
        "id": "qZXN_CcG3cvc",
        "colab": {
          "base_uri": "https://localhost:8080/"
        },
        "outputId": "567f6f23-ce28-4503-ee4d-e007b73ba61b"
      },
      "outputs": [
        {
          "output_type": "execute_result",
          "data": {
            "text/plain": [
              "True"
            ]
          },
          "metadata": {},
          "execution_count": 17
        }
      ],
      "source": [
        "type(3) is int  # prefer not to use this operator for comparing values and can be used to compare the identity"
      ]
    },
    {
      "cell_type": "code",
      "execution_count": null,
      "metadata": {
        "id": "4_tUSaA13cvc",
        "colab": {
          "base_uri": "https://localhost:8080/"
        },
        "outputId": "8fdd8402-dd1c-4765-9cd0-af7a4cf2c345"
      },
      "outputs": [
        {
          "output_type": "execute_result",
          "data": {
            "text/plain": [
              "False"
            ]
          },
          "metadata": {},
          "execution_count": 18
        }
      ],
      "source": [
        "type(3) is not int\n"
      ]
    },
    {
      "cell_type": "code",
      "execution_count": null,
      "metadata": {
        "id": "ICQnyLAi3cvc",
        "colab": {
          "base_uri": "https://localhost:8080/"
        },
        "outputId": "4515e0d4-5773-42b7-df44-ecd880f6be0f"
      },
      "outputs": [
        {
          "output_type": "execute_result",
          "data": {
            "text/plain": [
              "True"
            ]
          },
          "metadata": {},
          "execution_count": 19
        }
      ],
      "source": [
        "lis1 = [1,2,3,4]\n",
        "\n",
        "type(lis1) is list"
      ]
    },
    {
      "cell_type": "markdown",
      "metadata": {
        "id": "08CCRzen3cvc"
      },
      "source": [
        "## Python membership operators\n",
        "They are used to test if the sequence is present in an object.\n",
        "\n",
        "* **in**  - returns true if a sequence with specified value is present in the object.\n",
        "\n",
        "* **not in**  - returns true if a sequence with specified value is not present in the object."
      ]
    },
    {
      "cell_type": "code",
      "execution_count": null,
      "metadata": {
        "id": "Rit6sL8-3cvd"
      },
      "outputs": [],
      "source": [
        "s = 'hello man'"
      ]
    },
    {
      "cell_type": "code",
      "execution_count": null,
      "metadata": {
        "id": "F7a0y6We3cvd",
        "colab": {
          "base_uri": "https://localhost:8080/"
        },
        "outputId": "20cfd9a1-4d04-4222-9aee-80c170579f18"
      },
      "outputs": [
        {
          "output_type": "execute_result",
          "data": {
            "text/plain": [
              "False"
            ]
          },
          "metadata": {},
          "execution_count": 24
        }
      ],
      "source": [
        "'i' in s"
      ]
    },
    {
      "cell_type": "code",
      "execution_count": null,
      "metadata": {
        "id": "AcGM0gzJ3cvd",
        "colab": {
          "base_uri": "https://localhost:8080/"
        },
        "outputId": "3a5f2965-5d04-4eb3-9fb9-28a6c3d7d38d"
      },
      "outputs": [
        {
          "output_type": "execute_result",
          "data": {
            "text/plain": [
              "True"
            ]
          },
          "metadata": {},
          "execution_count": 22
        }
      ],
      "source": [
        "'hjfff' not in s"
      ]
    },
    {
      "cell_type": "code",
      "execution_count": null,
      "metadata": {
        "id": "t9HnIwJ-3cvd",
        "colab": {
          "base_uri": "https://localhost:8080/"
        },
        "outputId": "23d1733d-d454-4113-a557-5868c8b1052a"
      },
      "outputs": [
        {
          "output_type": "stream",
          "name": "stdout",
          "text": [
            "True\n",
            "False\n"
          ]
        }
      ],
      "source": [
        "a=[1,2,3,4]\n",
        "\n",
        "print(1 in a, 100 in a, sep='\\n')"
      ]
    },
    {
      "cell_type": "markdown",
      "metadata": {
        "id": "YhfT6kMU3cvd"
      },
      "source": [
        "## Dictionaries\n",
        "\n",
        "- Recognized by curly brackets {    }\n",
        "\n",
        "- They are mutable and can be nested like list and tuples\n",
        "\n",
        "- They have a key and value pair , so they are also called associative pair\n",
        "\n",
        "- A given key can only appear once in a dictionary and both key and value can be any data type - str,int,float,tuple,list\n",
        "\n",
        "- key and value is seperated by a colon(  :  )\n",
        "\n",
        "- Dictionary are unordered so indexing does not work on it. Instead keys are treated as index. whereas list and tuples are ordered\n",
        "\n",
        "- when we convert a dictionary to list or a tuple by list() then only keys come in list and tuple not the values\n",
        "\n",
        "- concatenation cannot be done on dictionary\n"
      ]
    },
    {
      "cell_type": "code",
      "execution_count": null,
      "metadata": {
        "id": "-58nn3V23cvd",
        "colab": {
          "base_uri": "https://localhost:8080/"
        },
        "outputId": "e00dc03a-69aa-4202-92c8-f5cc9097e6f3"
      },
      "outputs": [
        {
          "output_type": "execute_result",
          "data": {
            "text/plain": [
              "{}"
            ]
          },
          "metadata": {},
          "execution_count": 26
        }
      ],
      "source": [
        "d={}    # initalizing a empty dictionary\n",
        "d"
      ]
    },
    {
      "cell_type": "code",
      "execution_count": null,
      "metadata": {
        "ExecuteTime": {
          "end_time": "2021-02-28T07:24:55.478733Z",
          "start_time": "2021-02-28T07:24:55.473746Z"
        },
        "id": "dCCJksYM3cvd"
      },
      "outputs": [],
      "source": [
        "d = {'name':'sam'   ,  \n",
        "     'age' :  23 ,\n",
        "     'hair' : 'black'}\n",
        "#     key   value      "
      ]
    },
    {
      "cell_type": "code",
      "execution_count": null,
      "metadata": {
        "ExecuteTime": {
          "end_time": "2021-02-28T07:24:56.341096Z",
          "start_time": "2021-02-28T07:24:56.333117Z"
        },
        "id": "tYUF2cL83cve",
        "colab": {
          "base_uri": "https://localhost:8080/"
        },
        "outputId": "2c5f3d98-ba46-4c8f-ce76-f8f5c51b1e15"
      },
      "outputs": [
        {
          "output_type": "execute_result",
          "data": {
            "text/plain": [
              "dict"
            ]
          },
          "metadata": {},
          "execution_count": 29
        }
      ],
      "source": [
        "type(d)"
      ]
    },
    {
      "cell_type": "code",
      "execution_count": null,
      "metadata": {
        "id": "ZRdCWDGQ3cve",
        "colab": {
          "base_uri": "https://localhost:8080/"
        },
        "outputId": "621566b4-47ec-4d10-c139-3c89d3ae557b"
      },
      "outputs": [
        {
          "output_type": "stream",
          "name": "stdout",
          "text": [
            "{'name': 'sam', 'age': 23, 'hair': 'black'}\n"
          ]
        }
      ],
      "source": [
        "print(d)"
      ]
    },
    {
      "cell_type": "code",
      "execution_count": null,
      "metadata": {
        "id": "ub9xuHh53cve",
        "colab": {
          "base_uri": "https://localhost:8080/",
          "height": 170
        },
        "outputId": "be0c0d2c-0f7c-480a-889d-6531f3d8bae8"
      },
      "outputs": [
        {
          "output_type": "error",
          "ename": "KeyError",
          "evalue": "ignored",
          "traceback": [
            "\u001b[0;31m---------------------------------------------------------------------------\u001b[0m",
            "\u001b[0;31mKeyError\u001b[0m                                  Traceback (most recent call last)",
            "\u001b[0;32m<ipython-input-38-ed3cba0454f5>\u001b[0m in \u001b[0;36m<module>\u001b[0;34m()\u001b[0m\n\u001b[0;32m----> 1\u001b[0;31m \u001b[0md\u001b[0m\u001b[0;34m[\u001b[0m\u001b[0;36m0\u001b[0m\u001b[0;34m]\u001b[0m       \u001b[0;31m# dictionary does not support indexing bcz they unordered data structure and u will use key to get its value\u001b[0m\u001b[0;34m\u001b[0m\u001b[0;34m\u001b[0m\u001b[0m\n\u001b[0m",
            "\u001b[0;31mKeyError\u001b[0m: 0"
          ]
        }
      ],
      "source": [
        "d[0]       # dictionary does not support indexing bcz they unordered data structure and u will use key to get its value"
      ]
    },
    {
      "cell_type": "code",
      "execution_count": null,
      "metadata": {
        "id": "HZBkUM483cvf",
        "colab": {
          "base_uri": "https://localhost:8080/",
          "height": 36
        },
        "outputId": "f0110ba2-87b8-4320-8d0b-195eb391198f"
      },
      "outputs": [
        {
          "output_type": "execute_result",
          "data": {
            "text/plain": [
              "'sam'"
            ],
            "application/vnd.google.colaboratory.intrinsic+json": {
              "type": "string"
            }
          },
          "metadata": {},
          "execution_count": 32
        }
      ],
      "source": [
        "d['name']               # method to get value of a key"
      ]
    },
    {
      "cell_type": "code",
      "execution_count": null,
      "metadata": {
        "id": "4af6Ao7n3cvf",
        "colab": {
          "base_uri": "https://localhost:8080/"
        },
        "outputId": "84c75a46-0d18-4d68-9121-1219b2559278"
      },
      "outputs": [
        {
          "output_type": "execute_result",
          "data": {
            "text/plain": [
              "{'age': 23, 'hair': 'black', 'name': ('rohit', 'sarthak'), 'place': 'Delhi'}"
            ]
          },
          "metadata": {},
          "execution_count": 41
        }
      ],
      "source": [
        "# adding a new key and value\n",
        "d['place'] = 'Delhi'\n",
        "d"
      ]
    },
    {
      "cell_type": "code",
      "execution_count": null,
      "metadata": {
        "id": "C8cumFEz3cvf",
        "colab": {
          "base_uri": "https://localhost:8080/",
          "height": 36
        },
        "outputId": "0446cb30-a720-40d1-a8df-0d9d4b166d13"
      },
      "outputs": [
        {
          "output_type": "execute_result",
          "data": {
            "text/plain": [
              "'Delhi'"
            ],
            "application/vnd.google.colaboratory.intrinsic+json": {
              "type": "string"
            }
          },
          "metadata": {},
          "execution_count": 42
        }
      ],
      "source": [
        "d['place']  "
      ]
    },
    {
      "cell_type": "code",
      "execution_count": null,
      "metadata": {
        "id": "Q-bEyzSA3cvf",
        "colab": {
          "base_uri": "https://localhost:8080/"
        },
        "outputId": "7da976e5-8d17-4e62-aec5-a5da99d64ff1"
      },
      "outputs": [
        {
          "output_type": "execute_result",
          "data": {
            "text/plain": [
              "{'age': 23, 'hair': 'black', 'name': ('rohit', 'sarthak'), 'place': 'London'}"
            ]
          },
          "metadata": {},
          "execution_count": 43
        }
      ],
      "source": [
        "d['place']='London'\n",
        "d"
      ]
    },
    {
      "cell_type": "code",
      "execution_count": null,
      "metadata": {
        "id": "uoZ0g6qb3cvg",
        "colab": {
          "base_uri": "https://localhost:8080/"
        },
        "outputId": "a2369f6b-0e76-4f82-9dbf-fcceb3357864"
      },
      "outputs": [
        {
          "output_type": "execute_result",
          "data": {
            "text/plain": [
              "{'age': 23, 'hair': 'black', 'name': ('rohit', 'sarthak'), 'place': 'London'}"
            ]
          },
          "metadata": {},
          "execution_count": 44
        }
      ],
      "source": [
        "# changing the value of a key\n",
        "d['name'] = ('rohit','sarthak')\n",
        "d"
      ]
    },
    {
      "cell_type": "code",
      "execution_count": null,
      "metadata": {
        "id": "mc-Y9t7x3cvg",
        "colab": {
          "base_uri": "https://localhost:8080/"
        },
        "outputId": "4662169b-6f90-4e1a-8aed-36fd04b83755"
      },
      "outputs": [
        {
          "output_type": "execute_result",
          "data": {
            "text/plain": [
              "{'age': 23,\n",
              " 'education': [10, 12, 'graduate', 'post graduate'],\n",
              " 'hair': 'black',\n",
              " 'name': ('rohit', 'sarthak'),\n",
              " 'place': 'London'}"
            ]
          },
          "metadata": {},
          "execution_count": 45
        }
      ],
      "source": [
        "d['education']=[10,12,'graduate','post graduate']\n",
        "d"
      ]
    },
    {
      "cell_type": "code",
      "execution_count": null,
      "metadata": {
        "id": "ZXelkQGh3cvg",
        "colab": {
          "base_uri": "https://localhost:8080/"
        },
        "outputId": "54bc913c-ad5a-404c-8655-e0532c610e39"
      },
      "outputs": [
        {
          "output_type": "execute_result",
          "data": {
            "text/plain": [
              "{'age': 23,\n",
              " 'education': [10, 12, 'graduate', 'post graduate'],\n",
              " 'hair': 'black',\n",
              " 'name': ('rohit', 'sarthak'),\n",
              " 'place': 'London',\n",
              " 'work': {'amazon': 'pune', 'dell': 'mumbai', 'hp': 'delhi'}}"
            ]
          },
          "metadata": {},
          "execution_count": 46
        }
      ],
      "source": [
        "d['work']={'hp':'delhi','dell':'mumbai','amazon':'pune'}\n",
        "d"
      ]
    },
    {
      "cell_type": "code",
      "execution_count": null,
      "metadata": {
        "id": "16aIGemB3cvh",
        "colab": {
          "base_uri": "https://localhost:8080/",
          "height": 36
        },
        "outputId": "1671f513-e828-4b13-8517-6e2b0b86f963"
      },
      "outputs": [
        {
          "output_type": "display_data",
          "data": {
            "text/plain": [
              "'pune'"
            ],
            "application/vnd.google.colaboratory.intrinsic+json": {
              "type": "string"
            }
          },
          "metadata": {}
        }
      ],
      "source": [
        "display(d['work']['amazon'])"
      ]
    },
    {
      "cell_type": "code",
      "source": [
        "d['education'].pop()\n",
        "d"
      ],
      "metadata": {
        "colab": {
          "base_uri": "https://localhost:8080/"
        },
        "id": "L1Y1-44MOp8b",
        "outputId": "9b0ca850-7801-4e20-c887-d71783e28d72"
      },
      "execution_count": null,
      "outputs": [
        {
          "output_type": "execute_result",
          "data": {
            "text/plain": [
              "{'age': 23,\n",
              " 'education': [10, 12, 'graduate'],\n",
              " 'hair': 'black',\n",
              " 'name': ('rohit', 'sarthak'),\n",
              " 'place': 'London',\n",
              " 'work': {'amazon': 'pune', 'dell': 'mumbai', 'hp': 'delhi'}}"
            ]
          },
          "metadata": {},
          "execution_count": 51
        }
      ]
    },
    {
      "cell_type": "markdown",
      "metadata": {
        "id": "97IN0vzd3cvh"
      },
      "source": [
        "### Dictionary methods\n"
      ]
    },
    {
      "cell_type": "code",
      "source": [
        "d"
      ],
      "metadata": {
        "colab": {
          "base_uri": "https://localhost:8080/"
        },
        "id": "BOPHKSxbPYUo",
        "outputId": "980fc09e-aced-4469-8582-079b43b7d6c6"
      },
      "execution_count": null,
      "outputs": [
        {
          "output_type": "execute_result",
          "data": {
            "text/plain": [
              "{'age': 23,\n",
              " 'education': [10, 12, 'graduate', 'post graduate'],\n",
              " 'hair': 'black',\n",
              " 'name': ('rohit', 'sarthak'),\n",
              " 'place': 'London',\n",
              " 'work': {'amazon': 'pune', 'dell': 'mumbai', 'hp': 'delhi'}}"
            ]
          },
          "metadata": {},
          "execution_count": 49
        }
      ]
    },
    {
      "cell_type": "code",
      "execution_count": null,
      "metadata": {
        "id": "NbNLAD193cvh",
        "colab": {
          "base_uri": "https://localhost:8080/"
        },
        "outputId": "a782a7a1-c0fa-4b0b-d6b4-a1a8fe109ef6"
      },
      "outputs": [
        {
          "output_type": "execute_result",
          "data": {
            "text/plain": [
              "dict_keys(['name', 'age', 'hair', 'place', 'education', 'work'])"
            ]
          },
          "metadata": {},
          "execution_count": 53
        }
      ],
      "source": [
        "d.keys()"
      ]
    },
    {
      "cell_type": "code",
      "execution_count": null,
      "metadata": {
        "id": "ws_eH4743cvh",
        "colab": {
          "base_uri": "https://localhost:8080/"
        },
        "outputId": "b4cda4e6-f276-4b48-e8c6-3475d0369fad"
      },
      "outputs": [
        {
          "output_type": "stream",
          "name": "stdout",
          "text": [
            "dict_values([('rohit', 'sarthak'), 23, 'black', 'London', [10, 12, 'graduate'], {'hp': 'delhi', 'dell': 'mumbai', 'amazon': 'pune'}])\n"
          ]
        }
      ],
      "source": [
        "print(d.values())"
      ]
    },
    {
      "cell_type": "code",
      "source": [
        "type((d.items()))"
      ],
      "metadata": {
        "colab": {
          "base_uri": "https://localhost:8080/"
        },
        "id": "bEqDCQPIa7Sk",
        "outputId": "bb028dff-826c-42c6-9be0-7f7b28e933c5"
      },
      "execution_count": null,
      "outputs": [
        {
          "output_type": "execute_result",
          "data": {
            "text/plain": [
              "dict_items"
            ]
          },
          "metadata": {},
          "execution_count": 67
        }
      ]
    },
    {
      "cell_type": "code",
      "execution_count": null,
      "metadata": {
        "id": "EAz8kex03cvh",
        "colab": {
          "base_uri": "https://localhost:8080/"
        },
        "outputId": "bda91f77-ce25-4c0c-ead0-7ddba7f099fd"
      },
      "outputs": [
        {
          "output_type": "stream",
          "name": "stdout",
          "text": [
            "dict_items([('name', ('rohit', 'sarthak')), ('age', 6), ('hair', 'black'), ('education', [10, 12, 'graduate']), ('country', 'India')])\n",
            "[('name', ('rohit', 'sarthak')), ('age', 6), ('hair', 'black'), ('education', [10, 12, 'graduate']), ('country', 'India')]\n"
          ]
        }
      ],
      "source": [
        "print((d.items()))\n",
        "print(list(d.items()))"
      ]
    },
    {
      "cell_type": "code",
      "execution_count": null,
      "metadata": {
        "id": "xz2CKVjM3cvh",
        "colab": {
          "base_uri": "https://localhost:8080/"
        },
        "outputId": "fd6067b3-7e44-4ad6-f14b-db50e6547c0c"
      },
      "outputs": [
        {
          "output_type": "execute_result",
          "data": {
            "text/plain": [
              "{'age': 23,\n",
              " 'education': [10, 12, 'graduate'],\n",
              " 'hair': 'black',\n",
              " 'name': ('rohit', 'sarthak'),\n",
              " 'place': 'London',\n",
              " 'work': {'amazon': 'pune', 'dell': 'mumbai', 'hp': 'delhi'}}"
            ]
          },
          "metadata": {},
          "execution_count": 56
        }
      ],
      "source": [
        "d"
      ]
    },
    {
      "cell_type": "code",
      "execution_count": null,
      "metadata": {
        "id": "drHUdBkh3cvi",
        "colab": {
          "base_uri": "https://localhost:8080/"
        },
        "outputId": "b357bf88-2769-40de-bcaa-c058bd0f2e97"
      },
      "outputs": [
        {
          "output_type": "execute_result",
          "data": {
            "text/plain": [
              "('work', {'amazon': 'pune', 'dell': 'mumbai', 'hp': 'delhi'})"
            ]
          },
          "metadata": {},
          "execution_count": 57
        }
      ],
      "source": [
        "d.popitem()      # Last item from dictionary # LIFO"
      ]
    },
    {
      "cell_type": "code",
      "execution_count": null,
      "metadata": {
        "id": "kB9HDcKQ3cvi",
        "colab": {
          "base_uri": "https://localhost:8080/"
        },
        "outputId": "ad3e4733-1159-452f-c97c-b1dec66eb2bb"
      },
      "outputs": [
        {
          "output_type": "execute_result",
          "data": {
            "text/plain": [
              "{'age': 23,\n",
              " 'education': [10, 12, 'graduate'],\n",
              " 'hair': 'black',\n",
              " 'name': ('rohit', 'sarthak'),\n",
              " 'place': 'London'}"
            ]
          },
          "metadata": {},
          "execution_count": 58
        }
      ],
      "source": [
        "d"
      ]
    },
    {
      "cell_type": "code",
      "execution_count": null,
      "metadata": {
        "id": "we2adey23cvi",
        "colab": {
          "base_uri": "https://localhost:8080/",
          "height": 36
        },
        "outputId": "5e45c84b-13e3-4188-846a-ff4635550075"
      },
      "outputs": [
        {
          "output_type": "execute_result",
          "data": {
            "text/plain": [
              "'London'"
            ],
            "application/vnd.google.colaboratory.intrinsic+json": {
              "type": "string"
            }
          },
          "metadata": {},
          "execution_count": 59
        }
      ],
      "source": [
        "# d.pop(keyname,default_value)  - it removes and returns element from a dictionary having given key. ,\n",
        "# default_value is to be returned if key does not exist\n",
        "d.pop('place' , 'Key not present')  "
      ]
    },
    {
      "cell_type": "code",
      "execution_count": null,
      "metadata": {
        "id": "UrP4NStV3cvj",
        "colab": {
          "base_uri": "https://localhost:8080/"
        },
        "outputId": "ad442086-4c4e-41d0-ec54-1def84f99717"
      },
      "outputs": [
        {
          "output_type": "execute_result",
          "data": {
            "text/plain": [
              "{'age': 23,\n",
              " 'education': [10, 12, 'graduate'],\n",
              " 'hair': 'black',\n",
              " 'name': ('rohit', 'sarthak')}"
            ]
          },
          "metadata": {},
          "execution_count": 60
        }
      ],
      "source": [
        "d"
      ]
    },
    {
      "cell_type": "code",
      "execution_count": null,
      "metadata": {
        "id": "-ByPAErE3cvj",
        "colab": {
          "base_uri": "https://localhost:8080/",
          "height": 36
        },
        "outputId": "e8e2a3e7-34af-4043-82f6-34f864764b09"
      },
      "outputs": [
        {
          "output_type": "execute_result",
          "data": {
            "text/plain": [
              "'this key is not present'"
            ],
            "application/vnd.google.colaboratory.intrinsic+json": {
              "type": "string"
            }
          },
          "metadata": {},
          "execution_count": 61
        }
      ],
      "source": [
        "# d.pop(keyname,default_value)  - it removes and returns element from a dictionary having given key. ,\n",
        "# default_value is to be returned if key does not exist\n",
        "d.pop('yuupppp' , 'this key is not present')  "
      ]
    },
    {
      "cell_type": "code",
      "execution_count": null,
      "metadata": {
        "id": "J6gXicOe3cvj",
        "colab": {
          "base_uri": "https://localhost:8080/",
          "height": 170
        },
        "outputId": "3868f054-57bf-47c1-c378-32952e175212"
      },
      "outputs": [
        {
          "output_type": "error",
          "ename": "KeyError",
          "evalue": "ignored",
          "traceback": [
            "\u001b[0;31m---------------------------------------------------------------------------\u001b[0m",
            "\u001b[0;31mKeyError\u001b[0m                                  Traceback (most recent call last)",
            "\u001b[0;32m<ipython-input-62-5832738ecb66>\u001b[0m in \u001b[0;36m<module>\u001b[0;34m()\u001b[0m\n\u001b[0;32m----> 1\u001b[0;31m \u001b[0md\u001b[0m\u001b[0;34m.\u001b[0m\u001b[0mpop\u001b[0m\u001b[0;34m(\u001b[0m\u001b[0;34m'yuupppp'\u001b[0m\u001b[0;34m)\u001b[0m\u001b[0;34m\u001b[0m\u001b[0;34m\u001b[0m\u001b[0m\n\u001b[0m",
            "\u001b[0;31mKeyError\u001b[0m: 'yuupppp'"
          ]
        }
      ],
      "source": [
        "d.pop('yuupppp')"
      ]
    },
    {
      "cell_type": "code",
      "execution_count": null,
      "metadata": {
        "id": "sxJPcXeK3cvj",
        "colab": {
          "base_uri": "https://localhost:8080/"
        },
        "outputId": "4a45e17e-fc7c-45c5-a6c8-c2f0265c882c"
      },
      "outputs": [
        {
          "output_type": "stream",
          "name": "stdout",
          "text": [
            "{'name': ('rohit', 'sarthak'), 'age': 23, 'hair': 'black', 'education': [10, 12, 'graduate']}\n"
          ]
        }
      ],
      "source": [
        "print(d)"
      ]
    },
    {
      "cell_type": "code",
      "execution_count": null,
      "metadata": {
        "id": "JbFH5wRT3cvj",
        "colab": {
          "base_uri": "https://localhost:8080/"
        },
        "outputId": "c533d553-a330-435d-a117-4ecde514da71"
      },
      "outputs": [
        {
          "output_type": "execute_result",
          "data": {
            "text/plain": [
              "{'age': 6,\n",
              " 'country': 'India',\n",
              " 'education': [10, 12, 'graduate'],\n",
              " 'hair': 'black',\n",
              " 'name': ('rohit', 'sarthak')}"
            ]
          },
          "metadata": {},
          "execution_count": 64
        }
      ],
      "source": [
        "# d.update(iterable)  - inserts the specified items to dictionary.\n",
        "d1 = {'country':'India' , 'age':6}\n",
        "d.update(d1)\n",
        "d"
      ]
    },
    {
      "cell_type": "code",
      "source": [
        "b={\"fruits\": 20 ,\"Hair\":'black'}\n",
        "z=list(b)\n",
        "z"
      ],
      "metadata": {
        "colab": {
          "base_uri": "https://localhost:8080/"
        },
        "id": "lDCNbGxQewmP",
        "outputId": "3ff00068-9846-46ee-f3ab-13449cb551ae"
      },
      "execution_count": null,
      "outputs": [
        {
          "output_type": "execute_result",
          "data": {
            "text/plain": [
              "{'Hair', 'fruits'}"
            ]
          },
          "metadata": {},
          "execution_count": 4
        }
      ]
    },
    {
      "cell_type": "markdown",
      "metadata": {
        "id": "m-COUHGY3cvj"
      },
      "source": [
        "## Sets\n",
        "- It is a unordered collection of items, so elements cannot be called by index\n",
        "- every item is unique (no duplicates)\n",
        "- To convert a list , tuple, dictionary to the set use inbuild function set()"
      ]
    },
    {
      "cell_type": "code",
      "execution_count": null,
      "metadata": {
        "id": "LkNEymq33cvj",
        "colab": {
          "base_uri": "https://localhost:8080/"
        },
        "outputId": "2ad1fa11-e80d-411a-d076-400990db66c9"
      },
      "outputs": [
        {
          "output_type": "execute_result",
          "data": {
            "text/plain": [
              "{'A', 'B', 'C'}"
            ]
          },
          "metadata": {},
          "execution_count": 69
        }
      ],
      "source": [
        "a={'A','B','C'}\n",
        "a"
      ]
    },
    {
      "cell_type": "code",
      "execution_count": null,
      "metadata": {
        "id": "CgyoJ66c3cvk",
        "colab": {
          "base_uri": "https://localhost:8080/"
        },
        "outputId": "a5ac5e5e-4a2b-4ce4-cdfe-727a31dcf07b"
      },
      "outputs": [
        {
          "output_type": "execute_result",
          "data": {
            "text/plain": [
              "set"
            ]
          },
          "metadata": {},
          "execution_count": 70
        }
      ],
      "source": [
        "type(a)"
      ]
    },
    {
      "cell_type": "code",
      "execution_count": null,
      "metadata": {
        "id": "ZCJDiO-C3cvk",
        "colab": {
          "base_uri": "https://localhost:8080/",
          "height": 170
        },
        "outputId": "349ba404-3181-4a7d-997c-3a7ed2966bc3"
      },
      "outputs": [
        {
          "output_type": "error",
          "ename": "AttributeError",
          "evalue": "ignored",
          "traceback": [
            "\u001b[0;31m---------------------------------------------------------------------------\u001b[0m",
            "\u001b[0;31mAttributeError\u001b[0m                            Traceback (most recent call last)",
            "\u001b[0;32m<ipython-input-71-8757481b9216>\u001b[0m in \u001b[0;36m<module>\u001b[0;34m()\u001b[0m\n\u001b[0;32m----> 1\u001b[0;31m \u001b[0ma\u001b[0m\u001b[0;34m.\u001b[0m\u001b[0mindex\u001b[0m\u001b[0;34m(\u001b[0m\u001b[0;34m'B'\u001b[0m\u001b[0;34m)\u001b[0m\u001b[0;34m\u001b[0m\u001b[0;34m\u001b[0m\u001b[0m\n\u001b[0m",
            "\u001b[0;31mAttributeError\u001b[0m: 'set' object has no attribute 'index'"
          ]
        }
      ],
      "source": [
        "a.index('B')"
      ]
    },
    {
      "cell_type": "code",
      "execution_count": null,
      "metadata": {
        "id": "XTGJyYxT3cvk",
        "colab": {
          "base_uri": "https://localhost:8080/",
          "height": 170
        },
        "outputId": "14a0981a-9137-494e-bb96-8af8b6a70f35"
      },
      "outputs": [
        {
          "output_type": "error",
          "ename": "TypeError",
          "evalue": "ignored",
          "traceback": [
            "\u001b[0;31m---------------------------------------------------------------------------\u001b[0m",
            "\u001b[0;31mTypeError\u001b[0m                                 Traceback (most recent call last)",
            "\u001b[0;32m<ipython-input-72-6a1284577a36>\u001b[0m in \u001b[0;36m<module>\u001b[0;34m()\u001b[0m\n\u001b[0;32m----> 1\u001b[0;31m \u001b[0ma\u001b[0m\u001b[0;34m[\u001b[0m\u001b[0;36m0\u001b[0m\u001b[0;34m]\u001b[0m\u001b[0;34m\u001b[0m\u001b[0;34m\u001b[0m\u001b[0m\n\u001b[0m",
            "\u001b[0;31mTypeError\u001b[0m: 'set' object is not subscriptable"
          ]
        }
      ],
      "source": [
        "a[0]"
      ]
    },
    {
      "cell_type": "code",
      "execution_count": null,
      "metadata": {
        "id": "-jzYxiE93cvk",
        "colab": {
          "base_uri": "https://localhost:8080/"
        },
        "outputId": "c41234c9-66de-4bf4-d88c-2668f90542e9"
      },
      "outputs": [
        {
          "output_type": "execute_result",
          "data": {
            "text/plain": [
              "{'A', 'B', 'C'}"
            ]
          },
          "metadata": {},
          "execution_count": 73
        }
      ],
      "source": [
        "a"
      ]
    },
    {
      "cell_type": "code",
      "execution_count": null,
      "metadata": {
        "id": "wMrdrpit3cvk",
        "colab": {
          "base_uri": "https://localhost:8080/"
        },
        "outputId": "f0739210-cf9b-41bf-e85d-f4dedb24bb59"
      },
      "outputs": [
        {
          "output_type": "stream",
          "name": "stdout",
          "text": [
            "['C', 'A', 'B']\n"
          ]
        }
      ],
      "source": [
        "print(list(a))"
      ]
    },
    {
      "cell_type": "code",
      "execution_count": null,
      "metadata": {
        "id": "TbV9BAAU3cvk",
        "colab": {
          "base_uri": "https://localhost:8080/"
        },
        "outputId": "dcdbbb6a-2419-4efd-f5cf-3a227bc9e911"
      },
      "outputs": [
        {
          "output_type": "execute_result",
          "data": {
            "text/plain": [
              "[1, 2, 3, 1, 2, 1, 2, 3, 3, 3, 3, 2, 2, 2, 1, 1, 2]"
            ]
          },
          "metadata": {},
          "execution_count": 76
        }
      ],
      "source": [
        "a=[1,2,3,1,2,1,2,3,3,3,3,2,2,2,1,1,2]\n",
        "a"
      ]
    },
    {
      "cell_type": "code",
      "execution_count": null,
      "metadata": {
        "id": "FmdaIkC63cvk",
        "colab": {
          "base_uri": "https://localhost:8080/"
        },
        "outputId": "195e024b-1b27-4161-8296-e7de6f497b12"
      },
      "outputs": [
        {
          "output_type": "execute_result",
          "data": {
            "text/plain": [
              "{1, 2, 3}"
            ]
          },
          "metadata": {},
          "execution_count": 77
        }
      ],
      "source": [
        "b=set(a)\n",
        "b"
      ]
    },
    {
      "cell_type": "code",
      "execution_count": null,
      "metadata": {
        "id": "ez51JUI33cvl",
        "colab": {
          "base_uri": "https://localhost:8080/"
        },
        "outputId": "dbac8321-20b1-49e1-fb0b-8009f005c42f"
      },
      "outputs": [
        {
          "output_type": "execute_result",
          "data": {
            "text/plain": [
              "{1, 2, 3, 4, 12}"
            ]
          },
          "metadata": {},
          "execution_count": 78
        }
      ],
      "source": [
        "b={1,2,3,12,3,4,1}\n",
        "b"
      ]
    },
    {
      "cell_type": "code",
      "execution_count": null,
      "metadata": {
        "id": "yPm3Wy973cvl",
        "colab": {
          "base_uri": "https://localhost:8080/",
          "height": 206
        },
        "outputId": "bdb27bd1-3417-4e63-804e-8466345f087b"
      },
      "outputs": [
        {
          "output_type": "error",
          "ename": "TypeError",
          "evalue": "ignored",
          "traceback": [
            "\u001b[0;31m---------------------------------------------------------------------------\u001b[0m",
            "\u001b[0;31mTypeError\u001b[0m                                 Traceback (most recent call last)",
            "\u001b[0;32m<ipython-input-79-9338b8fc7aac>\u001b[0m in \u001b[0;36m<module>\u001b[0;34m()\u001b[0m\n\u001b[1;32m      1\u001b[0m \u001b[0ma\u001b[0m\u001b[0;34m=\u001b[0m\u001b[0;34m[\u001b[0m\u001b[0;34m[\u001b[0m\u001b[0;36m1\u001b[0m\u001b[0;34m,\u001b[0m\u001b[0;36m2\u001b[0m\u001b[0;34m,\u001b[0m\u001b[0;36m3\u001b[0m\u001b[0;34m,\u001b[0m\u001b[0;36m1\u001b[0m\u001b[0;34m,\u001b[0m\u001b[0;36m2\u001b[0m\u001b[0;34m]\u001b[0m\u001b[0;34m,\u001b[0m\u001b[0;36m1\u001b[0m\u001b[0;34m,\u001b[0m\u001b[0;34m'a'\u001b[0m\u001b[0;34m,\u001b[0m\u001b[0;34m'b'\u001b[0m\u001b[0;34m,\u001b[0m\u001b[0;34m-\u001b[0m\u001b[0;36m2\u001b[0m\u001b[0;34m,\u001b[0m\u001b[0;34m+\u001b[0m\u001b[0;36m3\u001b[0m\u001b[0;34m,\u001b[0m\u001b[0;36m3\u001b[0m\u001b[0;34m,\u001b[0m\u001b[0;36m3\u001b[0m\u001b[0;34m,\u001b[0m\u001b[0;34m(\u001b[0m\u001b[0;36m3\u001b[0m\u001b[0;34m,\u001b[0m\u001b[0;36m2\u001b[0m\u001b[0;34m,\u001b[0m\u001b[0;36m2\u001b[0m\u001b[0;34m,\u001b[0m\u001b[0;36m2\u001b[0m\u001b[0;34m,\u001b[0m\u001b[0;36m1\u001b[0m\u001b[0;34m,\u001b[0m\u001b[0;36m1\u001b[0m\u001b[0;34m,\u001b[0m\u001b[0;36m2\u001b[0m\u001b[0;34m)\u001b[0m\u001b[0;34m]\u001b[0m  \u001b[0;31m# Set does not work on nested list\u001b[0m\u001b[0;34m\u001b[0m\u001b[0;34m\u001b[0m\u001b[0m\n\u001b[0;32m----> 2\u001b[0;31m \u001b[0ma\u001b[0m\u001b[0;34m=\u001b[0m\u001b[0mset\u001b[0m\u001b[0;34m(\u001b[0m\u001b[0ma\u001b[0m\u001b[0;34m)\u001b[0m\u001b[0;34m\u001b[0m\u001b[0;34m\u001b[0m\u001b[0m\n\u001b[0m\u001b[1;32m      3\u001b[0m \u001b[0ma\u001b[0m\u001b[0;34m\u001b[0m\u001b[0;34m\u001b[0m\u001b[0m\n",
            "\u001b[0;31mTypeError\u001b[0m: unhashable type: 'list'"
          ]
        }
      ],
      "source": [
        "a=[[1,2,3,1,2],1,'a','b',-2,+3,3,3,(3,2,2,2,1,1,2)]  # Set does not work on nested list\n",
        "a=set(a)\n",
        "a"
      ]
    },
    {
      "cell_type": "markdown",
      "metadata": {
        "id": "YE0otceM3cvl"
      },
      "source": [
        "### Sets methods"
      ]
    },
    {
      "cell_type": "code",
      "execution_count": null,
      "metadata": {
        "id": "J1w5Pw4r3cvl",
        "colab": {
          "base_uri": "https://localhost:8080/"
        },
        "outputId": "bb017d68-b03a-44e5-96cc-495abae41d2e"
      },
      "outputs": [
        {
          "output_type": "execute_result",
          "data": {
            "text/plain": [
              "{1, 2, 3, 5, 6, 7, 9, 23, 54}"
            ]
          },
          "metadata": {},
          "execution_count": 8
        }
      ],
      "source": [
        "a=[1,2,23,54,1,1,3,5,3,5,7,9,6,2,3,5,1,1,3,5,7,5,3,6,7]\n",
        "s = set(a)\n",
        "s"
      ]
    },
    {
      "cell_type": "code",
      "execution_count": null,
      "metadata": {
        "id": "dcYFFdFi3cvm",
        "colab": {
          "base_uri": "https://localhost:8080/"
        },
        "outputId": "819fd661-fa93-45d5-ad67-ec342b0c225c"
      },
      "outputs": [
        {
          "output_type": "execute_result",
          "data": {
            "text/plain": [
              "{1, 2, 3, 5, 6, 7, 9, 23}"
            ]
          },
          "metadata": {},
          "execution_count": 9
        }
      ],
      "source": [
        "# s.remove(element)  removes the element\n",
        "s.remove(54)\n",
        "s"
      ]
    },
    {
      "cell_type": "code",
      "execution_count": null,
      "metadata": {
        "id": "xVFCG_8C3cvm",
        "colab": {
          "base_uri": "https://localhost:8080/"
        },
        "outputId": "a99fb8ae-39b4-4066-a275-af48c00696ed"
      },
      "outputs": [
        {
          "output_type": "execute_result",
          "data": {
            "text/plain": [
              "{1, 2, 3, 5, 6, 7, 9, 23, 67}"
            ]
          },
          "metadata": {},
          "execution_count": 12
        }
      ],
      "source": [
        "# s.add(element)  - adds the element\n",
        "s.add(67)\n",
        "s"
      ]
    },
    {
      "cell_type": "code",
      "execution_count": null,
      "metadata": {
        "id": "RAdTIfnc3cvm",
        "colab": {
          "base_uri": "https://localhost:8080/"
        },
        "outputId": "035fe803-ce5b-40b7-f914-4f75dabca36d"
      },
      "outputs": [
        {
          "output_type": "execute_result",
          "data": {
            "text/plain": [
              "{1, 3}"
            ]
          },
          "metadata": {},
          "execution_count": 18
        }
      ],
      "source": [
        "s1 = {1,2,3}\n",
        "s2 = {5,2,6}\n",
        "\n",
        "s1.difference(s2) # s1 - s2  = only elements in s1 which are not is s2 will be printed"
      ]
    },
    {
      "cell_type": "code",
      "execution_count": null,
      "metadata": {
        "id": "7jgQNbE-3cvm",
        "colab": {
          "base_uri": "https://localhost:8080/"
        },
        "outputId": "716c9f23-b828-463f-93e6-b7b7c477a2a1"
      },
      "outputs": [
        {
          "output_type": "execute_result",
          "data": {
            "text/plain": [
              "{5, 6}"
            ]
          },
          "metadata": {},
          "execution_count": 19
        }
      ],
      "source": [
        "s1 = {1,2,3}\n",
        "s2 = {5,2,6}\n",
        "\n",
        "s2.difference(s1) # s2-s1 = only elements in s2 which are not is s1 will be printed"
      ]
    },
    {
      "cell_type": "code",
      "execution_count": null,
      "metadata": {
        "id": "WtvtbQr93cvm",
        "colab": {
          "base_uri": "https://localhost:8080/"
        },
        "outputId": "f3cd45d3-806e-49ee-d75e-6c7878052fa0"
      },
      "outputs": [
        {
          "output_type": "execute_result",
          "data": {
            "text/plain": [
              "({1, 2, 3}, {2, 5, 6})"
            ]
          },
          "metadata": {},
          "execution_count": 20
        }
      ],
      "source": [
        "s1,s2"
      ]
    },
    {
      "cell_type": "code",
      "execution_count": null,
      "metadata": {
        "id": "6tUtEcqX3cvm",
        "colab": {
          "base_uri": "https://localhost:8080/"
        },
        "outputId": "cc9877c7-10b5-45d1-ecc4-0108c93366b0"
      },
      "outputs": [
        {
          "output_type": "execute_result",
          "data": {
            "text/plain": [
              "({1, 2, 3}, {5, 6})"
            ]
          },
          "metadata": {},
          "execution_count": 21
        }
      ],
      "source": [
        "s2.difference_update(s1)  # updates the s1 place\n",
        "s2"
      ]
    },
    {
      "cell_type": "code",
      "execution_count": null,
      "metadata": {
        "id": "YK4q8UyP3cvm"
      },
      "outputs": [],
      "source": [
        "s1 = {1,2,3}\n",
        "s2 = {5,2,6}"
      ]
    },
    {
      "cell_type": "code",
      "execution_count": null,
      "metadata": {
        "id": "Cxjjy7nP3cvn",
        "colab": {
          "base_uri": "https://localhost:8080/"
        },
        "outputId": "10e9d0d4-4b52-4549-cc0d-11ccfe1bc274"
      },
      "outputs": [
        {
          "output_type": "execute_result",
          "data": {
            "text/plain": [
              "{2}"
            ]
          },
          "metadata": {},
          "execution_count": 24
        }
      ],
      "source": [
        "s1.intersection(s2)    # it will return common element between s1 & s2"
      ]
    },
    {
      "cell_type": "code",
      "execution_count": null,
      "metadata": {
        "id": "p6kNfGMB3cvn",
        "colab": {
          "base_uri": "https://localhost:8080/"
        },
        "outputId": "269e7107-7c86-47da-8448-854ae52ea509"
      },
      "outputs": [
        {
          "output_type": "execute_result",
          "data": {
            "text/plain": [
              "{2}"
            ]
          },
          "metadata": {},
          "execution_count": 25
        }
      ],
      "source": [
        "s2.intersection(s1)"
      ]
    },
    {
      "cell_type": "code",
      "execution_count": null,
      "metadata": {
        "id": "jgYJBPfQ3cvn",
        "colab": {
          "base_uri": "https://localhost:8080/"
        },
        "outputId": "e634f773-7d4a-415b-9c43-badcb33b4211"
      },
      "outputs": [
        {
          "output_type": "execute_result",
          "data": {
            "text/plain": [
              "{2}"
            ]
          },
          "metadata": {},
          "execution_count": 26
        }
      ],
      "source": [
        "s1.intersection_update(s2)  #updates s1\n",
        "s1"
      ]
    },
    {
      "cell_type": "code",
      "execution_count": null,
      "metadata": {
        "id": "rvuvmbAG3cvn",
        "colab": {
          "base_uri": "https://localhost:8080/"
        },
        "outputId": "da485ec2-d48e-4186-da9c-78b809df311e"
      },
      "outputs": [
        {
          "output_type": "execute_result",
          "data": {
            "text/plain": [
              "{1, 2, 3, 5, 6}"
            ]
          },
          "metadata": {},
          "execution_count": 31
        }
      ],
      "source": [
        "s1 = {1,2,3,5}\n",
        "s2 = {5,6}\n",
        "\n",
        "s1.union(s2)"
      ]
    },
    {
      "cell_type": "code",
      "execution_count": null,
      "metadata": {
        "id": "hLky7LFP3cvn",
        "colab": {
          "base_uri": "https://localhost:8080/"
        },
        "outputId": "a9744f1e-e909-4d25-f09e-2a84c4219874"
      },
      "outputs": [
        {
          "output_type": "execute_result",
          "data": {
            "text/plain": [
              "{1, 2, 3, 5}"
            ]
          },
          "metadata": {},
          "execution_count": 32
        }
      ],
      "source": [
        "s1"
      ]
    },
    {
      "cell_type": "code",
      "execution_count": null,
      "metadata": {
        "id": "8DSiJuzH3cvn"
      },
      "outputs": [],
      "source": [
        "s1.update(s2) # Merge 2 sets then u will use update command"
      ]
    },
    {
      "cell_type": "code",
      "execution_count": null,
      "metadata": {
        "id": "kwmgN7IZ3cvn",
        "colab": {
          "base_uri": "https://localhost:8080/"
        },
        "outputId": "66cdd18e-b1bc-4f87-e03f-681d0a59910e"
      },
      "outputs": [
        {
          "output_type": "execute_result",
          "data": {
            "text/plain": [
              "{1, 2, 3, 5, 6}"
            ]
          },
          "metadata": {},
          "execution_count": 34
        }
      ],
      "source": [
        "s1"
      ]
    },
    {
      "cell_type": "code",
      "execution_count": null,
      "metadata": {
        "id": "zvuLeP2R3cvn",
        "colab": {
          "base_uri": "https://localhost:8080/"
        },
        "outputId": "b04d7a22-ca71-40f2-9aed-75178f7f04ee"
      },
      "outputs": [
        {
          "output_type": "execute_result",
          "data": {
            "text/plain": [
              "{2}"
            ]
          },
          "metadata": {},
          "execution_count": 35
        }
      ],
      "source": [
        "# Intersection is similar to common numbers\n",
        "s1={1,2,4}\n",
        "s2={2,4,5}\n",
        "s3={0,8,2}\n",
        "\n",
        "set.intersection(s1,s2,s3)"
      ]
    },
    {
      "cell_type": "code",
      "execution_count": null,
      "metadata": {
        "id": "TvlutzF43cvo",
        "colab": {
          "base_uri": "https://localhost:8080/"
        },
        "outputId": "895c808f-70cd-4a72-ed7c-57e848df4172"
      },
      "outputs": [
        {
          "output_type": "execute_result",
          "data": {
            "text/plain": [
              "{2}"
            ]
          },
          "metadata": {},
          "execution_count": 36
        }
      ],
      "source": [
        "s1.intersection(s2,s3)"
      ]
    },
    {
      "cell_type": "code",
      "execution_count": null,
      "metadata": {
        "id": "Ox26zfxy3cvo",
        "colab": {
          "base_uri": "https://localhost:8080/"
        },
        "outputId": "cb0b15e5-b511-4c3d-a05c-b8e02e6c0a8d"
      },
      "outputs": [
        {
          "output_type": "execute_result",
          "data": {
            "text/plain": [
              "{0, 2, 8}"
            ]
          },
          "metadata": {},
          "execution_count": 37
        }
      ],
      "source": [
        "s3"
      ]
    },
    {
      "cell_type": "code",
      "source": [
        "s1"
      ],
      "metadata": {
        "colab": {
          "base_uri": "https://localhost:8080/"
        },
        "id": "7_ca0EvvnCBp",
        "outputId": "9e907afb-3f3d-436a-b999-cf40c12debc9"
      },
      "execution_count": null,
      "outputs": [
        {
          "output_type": "execute_result",
          "data": {
            "text/plain": [
              "{1, 2, 3, 4}"
            ]
          },
          "metadata": {},
          "execution_count": 41
        }
      ]
    },
    {
      "cell_type": "markdown",
      "metadata": {
        "id": "9LLqlA_-3cvo"
      },
      "source": [
        "## Python's In-Build Functions"
      ]
    },
    {
      "cell_type": "markdown",
      "metadata": {
        "id": "P6GfHT763cvo"
      },
      "source": [
        "### Range\n",
        "\n",
        "* **Syntax**  - range( start = 0(optional) , stop , step = 1 (optional) )\n",
        "\n",
        "* It is a generator. means to see its output we use list() , tuple() , set() .\n",
        "\n",
        "* It works only with Integers means it does not support Float. (To use Float numbers we can numpy arange method or we can create a function.)\n",
        "\n",
        "* All three arguments can be postive or negative."
      ]
    },
    {
      "cell_type": "code",
      "execution_count": null,
      "metadata": {
        "id": "6jf0ZlGH3cvo",
        "colab": {
          "base_uri": "https://localhost:8080/"
        },
        "outputId": "e625c46a-cc8f-4328-b378-39e5436ac4a2"
      },
      "outputs": [
        {
          "output_type": "execute_result",
          "data": {
            "text/plain": [
              "range(0, 10)"
            ]
          },
          "metadata": {},
          "execution_count": 45
        }
      ],
      "source": [
        "range(10)"
      ]
    },
    {
      "cell_type": "code",
      "execution_count": null,
      "metadata": {
        "id": "c4xR2cui3cvo",
        "colab": {
          "base_uri": "https://localhost:8080/"
        },
        "outputId": "fde7f76b-3870-4b37-e165-300c2531b1a3"
      },
      "outputs": [
        {
          "output_type": "execute_result",
          "data": {
            "text/plain": [
              "[0, 1, 2, 3, 4, 5, 6, 7, 8, 9, 10, 11, 12, 13, 14, 15, 16, 17, 18, 19]"
            ]
          },
          "metadata": {},
          "execution_count": 48
        }
      ],
      "source": [
        "list(range(20))"
      ]
    },
    {
      "cell_type": "code",
      "execution_count": null,
      "metadata": {
        "id": "yhVEoI4P3cvp",
        "colab": {
          "base_uri": "https://localhost:8080/"
        },
        "outputId": "2178a228-e7ba-4254-a046-264511ae54ed"
      },
      "outputs": [
        {
          "output_type": "execute_result",
          "data": {
            "text/plain": [
              "(0, 1, 2, 3, 4, 5, 6, 7, 8, 9, 10, 11, 12, 13, 14, 15, 16, 17, 18, 19)"
            ]
          },
          "metadata": {},
          "execution_count": 47
        }
      ],
      "source": [
        "tuple(range(0,20))"
      ]
    },
    {
      "cell_type": "code",
      "execution_count": null,
      "metadata": {
        "id": "hX9nRrD93cvp",
        "colab": {
          "base_uri": "https://localhost:8080/"
        },
        "outputId": "7b46bc91-c4f7-4a5f-b7df-27e4821b5d78"
      },
      "outputs": [
        {
          "output_type": "execute_result",
          "data": {
            "text/plain": [
              "[10, 12, 14, 16, 18, 20, 22, 24, 26, 28, 30, 32, 34, 36, 38]"
            ]
          },
          "metadata": {},
          "execution_count": 49
        }
      ],
      "source": [
        "list(range(10,40,2))"
      ]
    },
    {
      "cell_type": "code",
      "execution_count": null,
      "metadata": {
        "id": "zJgba6703cvp",
        "colab": {
          "base_uri": "https://localhost:8080/"
        },
        "outputId": "a5dbadcd-d790-4ab2-f800-3a035535fbe6"
      },
      "outputs": [
        {
          "output_type": "stream",
          "name": "stdout",
          "text": [
            "[8, 7, 6, 5, 4, 3, 2, 1, 0, -1, -2, -3, -4, -5, -6, -7, -8, -9]\n"
          ]
        }
      ],
      "source": [
        "print(list(range(8,-10,-1)))"
      ]
    },
    {
      "cell_type": "code",
      "execution_count": null,
      "metadata": {
        "id": "ZNrmLqI_3cvp",
        "colab": {
          "base_uri": "https://localhost:8080/",
          "height": 170
        },
        "outputId": "8ef29ae2-1624-4cb9-c3ce-666172490e90"
      },
      "outputs": [
        {
          "output_type": "error",
          "ename": "TypeError",
          "evalue": "ignored",
          "traceback": [
            "\u001b[0;31m---------------------------------------------------------------------------\u001b[0m",
            "\u001b[0;31mTypeError\u001b[0m                                 Traceback (most recent call last)",
            "\u001b[0;32m<ipython-input-51-f77d1f3d800d>\u001b[0m in \u001b[0;36m<module>\u001b[0;34m()\u001b[0m\n\u001b[0;32m----> 1\u001b[0;31m \u001b[0mlist\u001b[0m\u001b[0;34m(\u001b[0m\u001b[0mrange\u001b[0m\u001b[0;34m(\u001b[0m\u001b[0;36m0\u001b[0m\u001b[0;34m,\u001b[0m\u001b[0;36m20\u001b[0m\u001b[0;34m,\u001b[0m\u001b[0;36m.5\u001b[0m\u001b[0;34m)\u001b[0m\u001b[0;34m)\u001b[0m    \u001b[0;31m# Float values are not supported in range function\u001b[0m\u001b[0;34m\u001b[0m\u001b[0;34m\u001b[0m\u001b[0m\n\u001b[0m",
            "\u001b[0;31mTypeError\u001b[0m: 'float' object cannot be interpreted as an integer"
          ]
        }
      ],
      "source": [
        "list(range(0,20,.5))    # Float values are not supported in range function"
      ]
    },
    {
      "cell_type": "markdown",
      "metadata": {
        "id": "ZqJqzuWa3cvp"
      },
      "source": [
        "### Length -  Gives length of the iterable.\n",
        "\n",
        "**Syntax**   -   len(iterable)"
      ]
    },
    {
      "cell_type": "code",
      "execution_count": null,
      "metadata": {
        "id": "9NjqgelG3cvq",
        "colab": {
          "base_uri": "https://localhost:8080/"
        },
        "outputId": "3badca66-58b0-4fdf-8c36-6a79663819ec"
      },
      "outputs": [
        {
          "output_type": "execute_result",
          "data": {
            "text/plain": [
              "(7, list)"
            ]
          },
          "metadata": {},
          "execution_count": 52
        }
      ],
      "source": [
        "li = [1,2,3,4,5,1,1]\n",
        "len(li), type(li)"
      ]
    },
    {
      "cell_type": "code",
      "execution_count": null,
      "metadata": {
        "id": "WzTWIOuo3cvq",
        "colab": {
          "base_uri": "https://localhost:8080/"
        },
        "outputId": "2e1d9d86-b839-44a3-bd0c-0e6875feed58"
      },
      "outputs": [
        {
          "output_type": "execute_result",
          "data": {
            "text/plain": [
              "(7, tuple)"
            ]
          },
          "metadata": {},
          "execution_count": 53
        }
      ],
      "source": [
        "li =( 1,2,3,4,5,6,7 )\n",
        "len(li), type(li)"
      ]
    },
    {
      "cell_type": "code",
      "execution_count": null,
      "metadata": {
        "id": "sXrbhQyx3cvq",
        "colab": {
          "base_uri": "https://localhost:8080/"
        },
        "outputId": "3fe8a640-b431-4d55-a276-08bd65212b19"
      },
      "outputs": [
        {
          "output_type": "execute_result",
          "data": {
            "text/plain": [
              "(7, set)"
            ]
          },
          "metadata": {},
          "execution_count": 54
        }
      ],
      "source": [
        "li={1,2,3,4,5,6,7,1,2,2,4}\n",
        "len(li), type(li)"
      ]
    },
    {
      "cell_type": "code",
      "execution_count": null,
      "metadata": {
        "id": "0dc2hEC23cvq",
        "colab": {
          "base_uri": "https://localhost:8080/"
        },
        "outputId": "5413792f-5081-44b2-f6da-3c586da8f40f"
      },
      "outputs": [
        {
          "output_type": "execute_result",
          "data": {
            "text/plain": [
              "(2, dict)"
            ]
          },
          "metadata": {},
          "execution_count": 55
        }
      ],
      "source": [
        "li={'a':1,'b':2}\n",
        "len(li), type(li)"
      ]
    },
    {
      "cell_type": "markdown",
      "metadata": {
        "id": "I1dcfRW83cvr"
      },
      "source": [
        "### Max and Min  - Gives maximum and minimum value of the iterable\n",
        "\n",
        "**Syntax** - max( iterable )  ,  min( iterable )"
      ]
    },
    {
      "cell_type": "code",
      "source": [
        "li=[1,2,3,4,5,6,7,1,2,2,4]"
      ],
      "metadata": {
        "id": "6iLp1ZaRpnqG"
      },
      "execution_count": null,
      "outputs": []
    },
    {
      "cell_type": "code",
      "execution_count": null,
      "metadata": {
        "id": "q3Awk9aF3cvr",
        "colab": {
          "base_uri": "https://localhost:8080/"
        },
        "outputId": "b29f436e-c4e7-4966-a2cb-830002195ea0"
      },
      "outputs": [
        {
          "output_type": "stream",
          "name": "stdout",
          "text": [
            "[1, 2, 3, 4, 5, 6, 7, 1, 2, 2, 4]\n",
            "7\n"
          ]
        }
      ],
      "source": [
        "print(li,max(li),sep='\\n')"
      ]
    },
    {
      "cell_type": "code",
      "execution_count": null,
      "metadata": {
        "id": "WhGqa99Q3cvr",
        "colab": {
          "base_uri": "https://localhost:8080/",
          "height": 170
        },
        "outputId": "5f354281-7869-4d9c-8653-2dc2cab1a72a"
      },
      "outputs": [
        {
          "output_type": "error",
          "ename": "TypeError",
          "evalue": "ignored",
          "traceback": [
            "\u001b[0;31m---------------------------------------------------------------------------\u001b[0m",
            "\u001b[0;31mTypeError\u001b[0m                                 Traceback (most recent call last)",
            "\u001b[0;32m<ipython-input-59-5c38efe5bc5c>\u001b[0m in \u001b[0;36m<module>\u001b[0;34m()\u001b[0m\n\u001b[0;32m----> 1\u001b[0;31m \u001b[0mmax\u001b[0m\u001b[0;34m(\u001b[0m\u001b[0;36m2\u001b[0m\u001b[0;34m,\u001b[0m\u001b[0;36m3\u001b[0m\u001b[0;34m,\u001b[0m\u001b[0;36m5\u001b[0m\u001b[0;34m,\u001b[0m\u001b[0;36m2\u001b[0m\u001b[0;34m,\u001b[0m\u001b[0;36m2\u001b[0m\u001b[0;34m,\u001b[0m\u001b[0;36m4\u001b[0m\u001b[0;34m,\u001b[0m\u001b[0;36m2\u001b[0m\u001b[0;34m,\u001b[0m\u001b[0;36m89\u001b[0m\u001b[0;34m,\u001b[0m\u001b[0;34m'a'\u001b[0m\u001b[0;34m)\u001b[0m\u001b[0;34m\u001b[0m\u001b[0;34m\u001b[0m\u001b[0m\n\u001b[0m",
            "\u001b[0;31mTypeError\u001b[0m: '>' not supported between instances of 'str' and 'int'"
          ]
        }
      ],
      "source": [
        "max(2,3,5,2,2,4,2,89,'a')"
      ]
    },
    {
      "cell_type": "code",
      "execution_count": null,
      "metadata": {
        "id": "8P-9bU5J3cvr",
        "colab": {
          "base_uri": "https://localhost:8080/",
          "height": 36
        },
        "outputId": "415127b8-69ab-41c5-f138-e4e2f84492bf"
      },
      "outputs": [
        {
          "output_type": "execute_result",
          "data": {
            "text/plain": [
              "'b'"
            ],
            "application/vnd.google.colaboratory.intrinsic+json": {
              "type": "string"
            }
          },
          "metadata": {},
          "execution_count": 60
        }
      ],
      "source": [
        "max('a','A','b')   # based on ASCII Values"
      ]
    },
    {
      "cell_type": "code",
      "execution_count": null,
      "metadata": {
        "id": "bxsxomIa3cvr",
        "colab": {
          "base_uri": "https://localhost:8080/",
          "height": 53
        },
        "outputId": "c54ab058-e26f-4d61-f8ba-28de017a625b"
      },
      "outputs": [
        {
          "output_type": "display_data",
          "data": {
            "text/plain": [
              "98"
            ]
          },
          "metadata": {}
        },
        {
          "output_type": "display_data",
          "data": {
            "text/plain": [
              "2"
            ]
          },
          "metadata": {}
        }
      ],
      "source": [
        "display(max(98,56,3,4,2,6,7),min(98,56,3,4,2,6,7))"
      ]
    },
    {
      "cell_type": "markdown",
      "metadata": {
        "id": "37HZG80K3cvr"
      },
      "source": [
        "### round()\n",
        "\n",
        "Returns the rounded off number of a floating number after the decimal points.\n",
        "\n",
        "**syntax**  -  round( number , ndigits ) - ndigits - number of digits upto which we want the given number to be rounded off.\n",
        "\n",
        "ndigits shold be smaller or equal to the number of digits after the decimal. if we put value of ndigit more ot will give same number without rounding it off."
      ]
    },
    {
      "cell_type": "code",
      "execution_count": null,
      "metadata": {
        "id": "BRG7opSr3cvr",
        "colab": {
          "base_uri": "https://localhost:8080/",
          "height": 53
        },
        "outputId": "ba6fd7ff-994f-4b54-e6d5-06a7c5f1337d"
      },
      "outputs": [
        {
          "output_type": "display_data",
          "data": {
            "text/plain": [
              "2"
            ]
          },
          "metadata": {}
        },
        {
          "output_type": "display_data",
          "data": {
            "text/plain": [
              "1"
            ]
          },
          "metadata": {}
        }
      ],
      "source": [
        "display(round(1.543), round(1.343))"
      ]
    },
    {
      "cell_type": "code",
      "execution_count": null,
      "metadata": {
        "id": "lcECFN5U3cvr",
        "colab": {
          "base_uri": "https://localhost:8080/"
        },
        "outputId": "e4ee47f2-0545-453a-fedc-1e001c988f42"
      },
      "outputs": [
        {
          "output_type": "execute_result",
          "data": {
            "text/plain": [
              "1.5"
            ]
          },
          "metadata": {},
          "execution_count": 66
        }
      ],
      "source": [
        "round(1.543333333333 , 1)"
      ]
    },
    {
      "cell_type": "code",
      "execution_count": null,
      "metadata": {
        "id": "mpRwzo-X3cvs",
        "colab": {
          "base_uri": "https://localhost:8080/"
        },
        "outputId": "411e2bb1-b3f1-4714-93bd-414a125cfb51"
      },
      "outputs": [
        {
          "output_type": "execute_result",
          "data": {
            "text/plain": [
              "1.55"
            ]
          },
          "metadata": {},
          "execution_count": 67
        }
      ],
      "source": [
        "round(1.54733333333 , 2)"
      ]
    },
    {
      "cell_type": "code",
      "execution_count": null,
      "metadata": {
        "id": "dKCvH0Gn3cvs",
        "colab": {
          "base_uri": "https://localhost:8080/"
        },
        "outputId": "f9af440c-c24a-429c-8ec6-1f8ee326b466"
      },
      "outputs": [
        {
          "output_type": "execute_result",
          "data": {
            "text/plain": [
              "1.543"
            ]
          },
          "metadata": {},
          "execution_count": 68
        }
      ],
      "source": [
        "round(1.54333 , 3)"
      ]
    },
    {
      "cell_type": "markdown",
      "metadata": {
        "id": "NP49S_bK3cvs"
      },
      "source": [
        "### Variables declared and Size"
      ]
    },
    {
      "cell_type": "code",
      "execution_count": null,
      "metadata": {
        "id": "L7e822_43cvs",
        "colab": {
          "base_uri": "https://localhost:8080/"
        },
        "outputId": "50bf7148-1e06-41bb-e14c-ea61d35d29ab"
      },
      "outputs": [
        {
          "output_type": "stream",
          "name": "stdout",
          "text": [
            "Variable   Type      Data/Info\n",
            "------------------------------\n",
            "a          list      n=25\n",
            "b          dict      n=2\n",
            "g          list      n=6\n",
            "l          list      n=4\n",
            "li         list      n=11\n",
            "lis1       list      n=3\n",
            "s          set       {1, 2, 3, 67, 5, 6, 7, 9, 23}\n",
            "s1         set       {1, 2, 3, 4, 11, 12, 13}\n",
            "s2         set       {8, 9, 6, 7}\n",
            "s3         set       {0, 8, 2}\n",
            "sys        module    <module 'sys' (built-in)>\n",
            "ts         str       1,2,3,4,'a'\n",
            "z          set       {'fruits', 'Hair'}\n"
          ]
        }
      ],
      "source": [
        "%whos"
      ]
    },
    {
      "cell_type": "code",
      "execution_count": null,
      "metadata": {
        "id": "GoP9Mz413cvs",
        "colab": {
          "base_uri": "https://localhost:8080/"
        },
        "outputId": "d7fa9a05-2751-43d8-a2cc-8868a734c560"
      },
      "outputs": [
        {
          "output_type": "stream",
          "name": "stdout",
          "text": [
            "96\n"
          ]
        }
      ],
      "source": [
        "import sys\n",
        "\n",
        "lis1=[6,8,4]\n",
        "\n",
        "print(sys.getsizeof(lis1))"
      ]
    },
    {
      "cell_type": "markdown",
      "metadata": {
        "id": "xfQXVK3a3cvs"
      },
      "source": [
        "### Sorted(iterable , key = None , reverse = False)\n",
        "Returns a list of iterable in ascending order.\n",
        "\n",
        "works when all the elements in the iterable are of same data type."
      ]
    },
    {
      "cell_type": "code",
      "execution_count": null,
      "metadata": {
        "id": "voUZiXU93cvs"
      },
      "outputs": [],
      "source": [
        "l = [9,8,3,8.5]"
      ]
    },
    {
      "cell_type": "code",
      "execution_count": null,
      "metadata": {
        "id": "NQSXkYpz3cvs",
        "colab": {
          "base_uri": "https://localhost:8080/"
        },
        "outputId": "382f79d3-9766-4ebc-d2da-71ae907b7433"
      },
      "outputs": [
        {
          "output_type": "execute_result",
          "data": {
            "text/plain": [
              "[3, 8, 8.5, 9]"
            ]
          },
          "metadata": {},
          "execution_count": 72
        }
      ],
      "source": [
        "sorted(l)"
      ]
    },
    {
      "cell_type": "code",
      "execution_count": null,
      "metadata": {
        "id": "xuo6XPAV3cvt",
        "colab": {
          "base_uri": "https://localhost:8080/"
        },
        "outputId": "69a07317-915f-4667-a6ca-8db6d0db116f"
      },
      "outputs": [
        {
          "output_type": "execute_result",
          "data": {
            "text/plain": [
              "[9, 8.5, 8, 3]"
            ]
          },
          "metadata": {},
          "execution_count": 73
        }
      ],
      "source": [
        "sorted(l,reverse=True)"
      ]
    },
    {
      "cell_type": "code",
      "execution_count": null,
      "metadata": {
        "id": "1pdENltf3cvt",
        "colab": {
          "base_uri": "https://localhost:8080/"
        },
        "outputId": "670642e6-9383-47ae-bdd7-fa3fe3303d23"
      },
      "outputs": [
        {
          "output_type": "execute_result",
          "data": {
            "text/plain": [
              "[\"'\", \"'\", ',', ',', ',', ',', '1', '2', '3', '4', 'a']"
            ]
          },
          "metadata": {},
          "execution_count": 88
        }
      ],
      "source": [
        "ts = \"1,2,3,4,\\'a\\'\"\n",
        "sorted(ts)"
      ]
    },
    {
      "cell_type": "code",
      "execution_count": null,
      "metadata": {
        "id": "MZcAhYyc3cvt",
        "colab": {
          "base_uri": "https://localhost:8080/"
        },
        "outputId": "6f07ec5d-200a-4cee-e441-6550b58ffd13"
      },
      "outputs": [
        {
          "output_type": "execute_result",
          "data": {
            "text/plain": [
              "[[9, 0, 20], [1, 5, 7], [14, 8, 1]]"
            ]
          },
          "metadata": {},
          "execution_count": 86
        }
      ],
      "source": [
        "#  sorting based on index number in nested list\n",
        "\n",
        "lis1=[[1,5,7],[14,8,1],[9,0,20]]\n",
        "\n",
        "# sorted(lis1)\n",
        "\n",
        "sorted(lis1,key=lambda x:x[1])  # X is your sublist here"
      ]
    },
    {
      "cell_type": "markdown",
      "metadata": {
        "id": "OiwUZ0QN3cvt"
      },
      "source": [
        "### enumerate( iterable , start = 0(optional) )\n",
        "it generates a tuples of the element and its counter(can be said index if start not included) .To view should be called by list() ,for loop , tuple()."
      ]
    },
    {
      "cell_type": "code",
      "execution_count": null,
      "metadata": {
        "id": "_r6qZZec3cvt",
        "colab": {
          "base_uri": "https://localhost:8080/"
        },
        "outputId": "bfb841e1-513e-4f50-ab21-e50a068be88e"
      },
      "outputs": [
        {
          "output_type": "execute_result",
          "data": {
            "text/plain": [
              "[(0, 1), (1, 2), (2, 3), (3, 4), (4, 'a'), (5, 8.0)]"
            ]
          },
          "metadata": {},
          "execution_count": 87
        }
      ],
      "source": [
        "g = [1,2,3,4,'a',8.0]\n",
        "list(enumerate(g))"
      ]
    },
    {
      "cell_type": "code",
      "execution_count": null,
      "metadata": {
        "id": "oLUr7DPs3cvt",
        "colab": {
          "base_uri": "https://localhost:8080/"
        },
        "outputId": "5667d3d7-6ca1-47dc-cf4d-bca15f6c7c57"
      },
      "outputs": [
        {
          "output_type": "execute_result",
          "data": {
            "text/plain": [
              "{0: 1, 1: 2, 2: 3, 3: 4, 4: 'a', 5: 8.0}"
            ]
          },
          "metadata": {},
          "execution_count": 89
        }
      ],
      "source": [
        "dict(enumerate(g))"
      ]
    },
    {
      "cell_type": "code",
      "execution_count": null,
      "metadata": {
        "id": "JkK8TFH03cvt",
        "colab": {
          "base_uri": "https://localhost:8080/"
        },
        "outputId": "ae4276e6-ad40-46a5-b690-be79c52784d1"
      },
      "outputs": [
        {
          "output_type": "execute_result",
          "data": {
            "text/plain": [
              "[(100, 1), (101, 2), (102, 3), (103, 4), (104, 'a'), (105, 8.0)]"
            ]
          },
          "metadata": {},
          "execution_count": 90
        }
      ],
      "source": [
        "list(enumerate(g ,100))"
      ]
    },
    {
      "cell_type": "markdown",
      "metadata": {
        "id": "Q1R9FTVT3cvu"
      },
      "source": [
        "### help(object) - displays the info of object passed in it."
      ]
    },
    {
      "cell_type": "code",
      "execution_count": null,
      "metadata": {
        "id": "lU34sqkE3cvu"
      },
      "outputs": [],
      "source": [
        "help(list)"
      ]
    },
    {
      "cell_type": "markdown",
      "metadata": {
        "id": "U1Y7FMr73cvu"
      },
      "source": [
        "### sum(iterable)\n",
        "Adds all the elements of the sequence."
      ]
    },
    {
      "cell_type": "code",
      "execution_count": 2,
      "metadata": {
        "id": "xJ0WOClY3cvu",
        "colab": {
          "base_uri": "https://localhost:8080/"
        },
        "outputId": "3cedfaf6-8e84-47ee-c083-4fdd01912ed4"
      },
      "outputs": [
        {
          "output_type": "execute_result",
          "data": {
            "text/plain": [
              "18"
            ]
          },
          "metadata": {},
          "execution_count": 2
        }
      ],
      "source": [
        "l = [1,2,3,4,8]\n",
        "sum(l)"
      ]
    },
    {
      "cell_type": "code",
      "execution_count": 3,
      "metadata": {
        "id": "ytcX8Bu93cvu",
        "colab": {
          "base_uri": "https://localhost:8080/",
          "height": 188
        },
        "outputId": "301c7e9e-bf4b-4ec8-c34a-73fefe8b7f0f"
      },
      "outputs": [
        {
          "output_type": "error",
          "ename": "TypeError",
          "evalue": "ignored",
          "traceback": [
            "\u001b[0;31m---------------------------------------------------------------------------\u001b[0m",
            "\u001b[0;31mTypeError\u001b[0m                                 Traceback (most recent call last)",
            "\u001b[0;32m<ipython-input-3-43ef3027b203>\u001b[0m in \u001b[0;36m<module>\u001b[0;34m()\u001b[0m\n\u001b[1;32m      1\u001b[0m \u001b[0ml\u001b[0m \u001b[0;34m=\u001b[0m \u001b[0;34m[\u001b[0m\u001b[0;34m'11'\u001b[0m\u001b[0;34m,\u001b[0m\u001b[0;34m'22'\u001b[0m\u001b[0;34m]\u001b[0m\u001b[0;34m\u001b[0m\u001b[0;34m\u001b[0m\u001b[0m\n\u001b[0;32m----> 2\u001b[0;31m \u001b[0msum\u001b[0m\u001b[0;34m(\u001b[0m\u001b[0ml\u001b[0m\u001b[0;34m)\u001b[0m\u001b[0;34m\u001b[0m\u001b[0;34m\u001b[0m\u001b[0m\n\u001b[0m",
            "\u001b[0;31mTypeError\u001b[0m: unsupported operand type(s) for +: 'int' and 'str'"
          ]
        }
      ],
      "source": [
        "l = ['11','22']\n",
        "sum(l)"
      ]
    },
    {
      "cell_type": "markdown",
      "metadata": {
        "id": "r0xXKH3p3cvu"
      },
      "source": [
        "### reversed(sequence) -\n",
        "Return the reversed iterator of a given sequence. to view pass in list() ,tuple()"
      ]
    },
    {
      "cell_type": "code",
      "execution_count": 4,
      "metadata": {
        "id": "jhcGaFJ63cvu",
        "colab": {
          "base_uri": "https://localhost:8080/"
        },
        "outputId": "14283069-c4bd-405a-9347-b92625bd5905"
      },
      "outputs": [
        {
          "output_type": "execute_result",
          "data": {
            "text/plain": [
              "<list_reverseiterator at 0x7fa20faef410>"
            ]
          },
          "metadata": {},
          "execution_count": 4
        }
      ],
      "source": [
        "l = [9,5,3,55,64,1,3]\n",
        "reversed(l)"
      ]
    },
    {
      "cell_type": "code",
      "execution_count": 5,
      "metadata": {
        "id": "ebIL4XjU3cvu",
        "colab": {
          "base_uri": "https://localhost:8080/"
        },
        "outputId": "e87630f4-78f4-40fb-e130-c804b537e46d"
      },
      "outputs": [
        {
          "output_type": "execute_result",
          "data": {
            "text/plain": [
              "[3, 1, 64, 55, 3, 5, 9]"
            ]
          },
          "metadata": {},
          "execution_count": 5
        }
      ],
      "source": [
        "list(reversed(l))"
      ]
    },
    {
      "cell_type": "markdown",
      "metadata": {
        "id": "xRJJCWKw3cvv"
      },
      "source": [
        "### zip() \n",
        "\n",
        "It takes iterables and aggregates them and returns an iterator of tuple means to have a view we have to pass it through list(), tuple().\n",
        "\n",
        "It stops aggregates as soon as any sequence ends. "
      ]
    },
    {
      "cell_type": "code",
      "execution_count": 9,
      "metadata": {
        "id": "XiIqaXPV3cvv",
        "colab": {
          "base_uri": "https://localhost:8080/",
          "height": 71
        },
        "outputId": "5a2d18bf-0dd5-4ba4-8571-5eb86d8b0c36"
      },
      "outputs": [
        {
          "output_type": "display_data",
          "data": {
            "text/plain": [
              "4"
            ]
          },
          "metadata": {}
        },
        {
          "output_type": "display_data",
          "data": {
            "text/plain": [
              "3"
            ]
          },
          "metadata": {}
        },
        {
          "output_type": "display_data",
          "data": {
            "text/plain": [
              "[('a', 9), (2, 8), (3, 'j')]"
            ]
          },
          "metadata": {}
        }
      ],
      "source": [
        "l1 = ['a', 2 , 3 , 4]\n",
        "l2 = [9  , 8, 'j']\n",
        "\n",
        "display(len(l1),\n",
        "        len(l2),\n",
        "        list(zip(l1,l2)))"
      ]
    },
    {
      "cell_type": "code",
      "execution_count": 15,
      "metadata": {
        "id": "0rkA3hlj3cvv",
        "colab": {
          "base_uri": "https://localhost:8080/"
        },
        "outputId": "17f9d876-41e6-4d96-bf43-dd9593c686c3"
      },
      "outputs": [
        {
          "output_type": "execute_result",
          "data": {
            "text/plain": [
              "[('b', 'a', 'c')]"
            ]
          },
          "metadata": {},
          "execution_count": 15
        }
      ],
      "source": [
        "l1=['a']\n",
        "l2=['b']\n",
        "l3=['c']\n",
        "\n",
        "list((zip(l2,l1,l3)))"
      ]
    },
    {
      "cell_type": "code",
      "execution_count": 16,
      "metadata": {
        "id": "8AUkDiWI3cvv",
        "colab": {
          "base_uri": "https://localhost:8080/"
        },
        "outputId": "6bc9185c-862c-434a-f054-05aca70607b0"
      },
      "outputs": [
        {
          "output_type": "stream",
          "name": "stdout",
          "text": [
            "{9: 'a', 8: 2, 'j': 3}\n"
          ]
        }
      ],
      "source": [
        "l1 = ['a', 2 , 3 , 4]\n",
        "l2 = [9  , 8, 'j']\n",
        "\n",
        "print(dict(zip(l2,l1)))"
      ]
    },
    {
      "cell_type": "markdown",
      "metadata": {
        "id": "pN3yTDlE3cvv"
      },
      "source": [
        "## String Data Type"
      ]
    },
    {
      "cell_type": "markdown",
      "metadata": {
        "id": "NF4YXtsn3cvv"
      },
      "source": [
        "### .split(seperator(optional))\n",
        "It returns a list of strings after breaking the given string by the seperator."
      ]
    },
    {
      "cell_type": "code",
      "execution_count": 17,
      "metadata": {
        "id": "qnyctPsu3cvv",
        "colab": {
          "base_uri": "https://localhost:8080/"
        },
        "outputId": "be12adea-3a5d-4325-b49b-1dafb85376cd"
      },
      "outputs": [
        {
          "output_type": "execute_result",
          "data": {
            "text/plain": [
              "['a', 'v', 'f', 'v', 'l', '1', '3', '4']"
            ]
          },
          "metadata": {},
          "execution_count": 17
        }
      ],
      "source": [
        "txt = \"a v f v l 1 3 4\"\n",
        "txt.split()"
      ]
    },
    {
      "cell_type": "code",
      "execution_count": 18,
      "metadata": {
        "id": "XSInLPB73cvw",
        "colab": {
          "base_uri": "https://localhost:8080/"
        },
        "outputId": "767c1969-480f-4581-8dcd-8a88350110ce"
      },
      "outputs": [
        {
          "output_type": "execute_result",
          "data": {
            "text/plain": [
              "['a', 'v', 'f', 'v', 'l', '1', '3', '4']"
            ]
          },
          "metadata": {},
          "execution_count": 18
        }
      ],
      "source": [
        "txt.split(' ')"
      ]
    },
    {
      "cell_type": "code",
      "execution_count": 19,
      "metadata": {
        "id": "QwVke5nG3cvw",
        "colab": {
          "base_uri": "https://localhost:8080/"
        },
        "outputId": "21528602-520f-48ab-e899-b5ecc0eb74dc"
      },
      "outputs": [
        {
          "output_type": "execute_result",
          "data": {
            "text/plain": [
              "['I', 'love', 'Icecream']"
            ]
          },
          "metadata": {},
          "execution_count": 19
        }
      ],
      "source": [
        "sent=\"I love Icecream\"\n",
        "sent.split()"
      ]
    },
    {
      "cell_type": "code",
      "execution_count": 20,
      "metadata": {
        "id": "FTRBvX9w3cvw",
        "colab": {
          "base_uri": "https://localhost:8080/"
        },
        "outputId": "819c2645-fac4-49df-d7da-78a1b7e98eeb"
      },
      "outputs": [
        {
          "output_type": "execute_result",
          "data": {
            "text/plain": [
              "['I ', ' Icecream']"
            ]
          },
          "metadata": {},
          "execution_count": 20
        }
      ],
      "source": [
        "sent=\"I love Icecream\"\n",
        "sent.split('love')"
      ]
    },
    {
      "cell_type": "code",
      "execution_count": 21,
      "metadata": {
        "id": "ukZqj7gF3cvw",
        "colab": {
          "base_uri": "https://localhost:8080/"
        },
        "outputId": "d025990c-b92f-48f7-c587-a576498bc5a5"
      },
      "outputs": [
        {
          "output_type": "execute_result",
          "data": {
            "text/plain": [
              "['a', 'd b', 'e']"
            ]
          },
          "metadata": {},
          "execution_count": 21
        }
      ],
      "source": [
        "txt='a|d b|e'\n",
        "txt.split('|')"
      ]
    },
    {
      "cell_type": "markdown",
      "metadata": {
        "id": "Mt61w5PD3cvw"
      },
      "source": [
        "### .replace( old , new , count )\n",
        "replaces old values with new . works with strings only "
      ]
    },
    {
      "cell_type": "code",
      "execution_count": 22,
      "metadata": {
        "id": "rHywHAww3cvw",
        "colab": {
          "base_uri": "https://localhost:8080/",
          "height": 36
        },
        "outputId": "04cabf1e-74c4-4417-fe0b-fbf6fbca68bf"
      },
      "outputs": [
        {
          "output_type": "execute_result",
          "data": {
            "text/plain": [
              "'Ac Ac Ac'"
            ],
            "application/vnd.google.colaboratory.intrinsic+json": {
              "type": "string"
            }
          },
          "metadata": {},
          "execution_count": 22
        }
      ],
      "source": [
        "s = 'abc abc abc'\n",
        "s.replace('ab','A')"
      ]
    },
    {
      "cell_type": "code",
      "execution_count": 23,
      "metadata": {
        "id": "8gpbsCrp3cvw",
        "colab": {
          "base_uri": "https://localhost:8080/",
          "height": 36
        },
        "outputId": "37ff032d-e133-48cf-859f-bff7955da389"
      },
      "outputs": [
        {
          "output_type": "execute_result",
          "data": {
            "text/plain": [
              "'abc abc abc'"
            ],
            "application/vnd.google.colaboratory.intrinsic+json": {
              "type": "string"
            }
          },
          "metadata": {},
          "execution_count": 23
        }
      ],
      "source": [
        "s"
      ]
    },
    {
      "cell_type": "code",
      "execution_count": 24,
      "metadata": {
        "id": "UkCVqYn83cvw",
        "colab": {
          "base_uri": "https://localhost:8080/",
          "height": 36
        },
        "outputId": "20a6aefa-5407-4244-9b4b-5e1a6de5603c"
      },
      "outputs": [
        {
          "output_type": "execute_result",
          "data": {
            "text/plain": [
              "'I love Icecream'"
            ],
            "application/vnd.google.colaboratory.intrinsic+json": {
              "type": "string"
            }
          },
          "metadata": {},
          "execution_count": 24
        }
      ],
      "source": [
        "s = 'I like Icecream'\n",
        "s=s.replace('like','love')\n",
        "s"
      ]
    },
    {
      "cell_type": "code",
      "execution_count": 25,
      "metadata": {
        "id": "YVgPeFZi3cvx",
        "colab": {
          "base_uri": "https://localhost:8080/",
          "height": 36
        },
        "outputId": "f471177b-baf2-4a87-dc78-050590fcf5ab"
      },
      "outputs": [
        {
          "output_type": "execute_result",
          "data": {
            "text/plain": [
              "'Ac Ac abc'"
            ],
            "application/vnd.google.colaboratory.intrinsic+json": {
              "type": "string"
            }
          },
          "metadata": {},
          "execution_count": 25
        }
      ],
      "source": [
        "s = 'abc abc abc'\n",
        "s.replace('ab','A',2)"
      ]
    },
    {
      "cell_type": "markdown",
      "metadata": {
        "id": "Z2VmN4oj3cvx"
      },
      "source": [
        "## Converting to Upper & Lower Case"
      ]
    },
    {
      "cell_type": "code",
      "execution_count": 26,
      "metadata": {
        "id": "_JfVNTtX3cvx",
        "colab": {
          "base_uri": "https://localhost:8080/",
          "height": 36
        },
        "outputId": "77851a8f-3ee4-45e6-8fd4-6ed0eb1a8168"
      },
      "outputs": [
        {
          "output_type": "execute_result",
          "data": {
            "text/plain": [
              "'I LIKE ICECREAM'"
            ],
            "application/vnd.google.colaboratory.intrinsic+json": {
              "type": "string"
            }
          },
          "metadata": {},
          "execution_count": 26
        }
      ],
      "source": [
        "s = 'I like Icecream'\n",
        "s.upper()"
      ]
    },
    {
      "cell_type": "code",
      "execution_count": 27,
      "metadata": {
        "id": "4CGZPjGj3cvx",
        "colab": {
          "base_uri": "https://localhost:8080/",
          "height": 36
        },
        "outputId": "ecb51d9a-b1a6-4e81-fece-137ce44217ac"
      },
      "outputs": [
        {
          "output_type": "execute_result",
          "data": {
            "text/plain": [
              "'I like Icecream'"
            ],
            "application/vnd.google.colaboratory.intrinsic+json": {
              "type": "string"
            }
          },
          "metadata": {},
          "execution_count": 27
        }
      ],
      "source": [
        "s"
      ]
    },
    {
      "cell_type": "code",
      "execution_count": 28,
      "metadata": {
        "id": "FFfCmF7G3cvx",
        "colab": {
          "base_uri": "https://localhost:8080/",
          "height": 36
        },
        "outputId": "d651a52e-bb89-4bad-bb84-06fc6c78bce4"
      },
      "outputs": [
        {
          "output_type": "execute_result",
          "data": {
            "text/plain": [
              "'i like icecream'"
            ],
            "application/vnd.google.colaboratory.intrinsic+json": {
              "type": "string"
            }
          },
          "metadata": {},
          "execution_count": 28
        }
      ],
      "source": [
        "s.lower()"
      ]
    },
    {
      "cell_type": "code",
      "source": [
        "s='i like icecream'\n",
        "s.title()"
      ],
      "metadata": {
        "colab": {
          "base_uri": "https://localhost:8080/",
          "height": 36
        },
        "id": "1qnfkZJG_gc2",
        "outputId": "0ae33daa-df88-4fe2-d2f1-5e268549c4ac"
      },
      "execution_count": 35,
      "outputs": [
        {
          "output_type": "execute_result",
          "data": {
            "text/plain": [
              "'I Like Icecream'"
            ],
            "application/vnd.google.colaboratory.intrinsic+json": {
              "type": "string"
            }
          },
          "metadata": {},
          "execution_count": 35
        }
      ]
    },
    {
      "cell_type": "code",
      "source": [
        "s='happy like icecream'\n",
        "s.capitalize()"
      ],
      "metadata": {
        "colab": {
          "base_uri": "https://localhost:8080/",
          "height": 36
        },
        "id": "lIHW7vU-_kxF",
        "outputId": "b161f196-5d9a-45a1-caa2-897eafe3e040"
      },
      "execution_count": 38,
      "outputs": [
        {
          "output_type": "execute_result",
          "data": {
            "text/plain": [
              "'Happy like icecream'"
            ],
            "application/vnd.google.colaboratory.intrinsic+json": {
              "type": "string"
            }
          },
          "metadata": {},
          "execution_count": 38
        }
      ]
    },
    {
      "cell_type": "markdown",
      "metadata": {
        "id": "gUXB81lG3cvx"
      },
      "source": [
        "### Join Method"
      ]
    },
    {
      "cell_type": "code",
      "execution_count": 37,
      "metadata": {
        "id": "APWFjNtG3cvx",
        "colab": {
          "base_uri": "https://localhost:8080/",
          "height": 36
        },
        "outputId": "ef8e7798-928f-439b-c902-321ff8ee0ae6"
      },
      "outputs": [
        {
          "output_type": "execute_result",
          "data": {
            "text/plain": [
              "'a b c d'"
            ],
            "application/vnd.google.colaboratory.intrinsic+json": {
              "type": "string"
            }
          },
          "metadata": {},
          "execution_count": 37
        }
      ],
      "source": [
        "# Join Method is used to Join multiple string object present in an iterator (list, tuple)\n",
        "\n",
        "' '.join(['a','b','c','d'])"
      ]
    },
    {
      "cell_type": "markdown",
      "metadata": {
        "id": "rG5N82w33cvy"
      },
      "source": [
        "## While Loops\n",
        "It repeatedly executes the statement until it is True.\n",
        "\n",
        "**Syntax**\n",
        "      while expression:\n",
        "              statement(s)\n",
        "\n",
        "They can make infinite loops. to break out of a infinite loop use ctrl+c"
      ]
    },
    {
      "cell_type": "code",
      "execution_count": 40,
      "metadata": {
        "id": "9xh4jGN53cvy",
        "colab": {
          "base_uri": "https://localhost:8080/"
        },
        "outputId": "b2ce2c21-80e6-4c4c-f448-46be23270922"
      },
      "outputs": [
        {
          "output_type": "stream",
          "name": "stdout",
          "text": [
            "abc : 1\n",
            "This is a infinite loop\n"
          ]
        }
      ],
      "source": [
        "# infinite loop\n",
        "abc = 1\n",
        "while abc < 5:\n",
        "  print('abc :',abc)\n",
        "  print('This is a infinite loop') \n",
        "  abc=6"
      ]
    },
    {
      "cell_type": "code",
      "execution_count": 45,
      "metadata": {
        "id": "UkzAgwSC3cvy",
        "colab": {
          "base_uri": "https://localhost:8080/"
        },
        "outputId": "68a8b554-dee7-4c13-c9a8-f4ae1f85ac32"
      },
      "outputs": [
        {
          "output_type": "stream",
          "name": "stdout",
          "text": [
            "1\n",
            "2\n",
            "3\n",
            "4\n"
          ]
        }
      ],
      "source": [
        "i = 1\n",
        "\n",
        "while i < 5:\n",
        "  \n",
        "    print(i)\n",
        "    \n",
        "    i+=1 #     i = i + 1\n",
        "    \n",
        "    # print('Value of i increased to',i) "
      ]
    },
    {
      "cell_type": "code",
      "source": [
        "i"
      ],
      "metadata": {
        "colab": {
          "base_uri": "https://localhost:8080/"
        },
        "id": "IvCT-PJ4ENJ1",
        "outputId": "bbf5ae3e-b4de-40c1-80ef-5b8ad9f22659"
      },
      "execution_count": 43,
      "outputs": [
        {
          "output_type": "execute_result",
          "data": {
            "text/plain": [
              "5"
            ]
          },
          "metadata": {},
          "execution_count": 43
        }
      ]
    },
    {
      "cell_type": "code",
      "execution_count": 48,
      "metadata": {
        "id": "Q97k3Tes3cvz",
        "colab": {
          "base_uri": "https://localhost:8080/"
        },
        "outputId": "719c09ed-e162-4649-f33c-697ec1db7fad"
      },
      "outputs": [
        {
          "output_type": "stream",
          "name": "stdout",
          "text": [
            "i value is  6\n",
            "i value is  7\n",
            "loop end\n"
          ]
        }
      ],
      "source": [
        "i = 5\n",
        "\n",
        "while i < 7:\n",
        "    \n",
        "    i+=1                        # Inside the While loop\n",
        "\n",
        "    print(\"i value is \", i)         # Inside the While loop\n",
        "    \n",
        "print('loop end')              # outside the While loop\n",
        "\n",
        "# TAB Key ------TO GIVE/PROVIDE A ONE TAB SPACE\n",
        "# SHIFT+ TAB ---TO REMOVE THE ONE TAB SPACE"
      ]
    },
    {
      "cell_type": "markdown",
      "metadata": {
        "id": "2sXfj0Hl3cv0"
      },
      "source": [
        "## Question\n",
        "\n",
        "using while loop save all the multiple of 7 from 0 till 500 in a list and then print the entire list a single time"
      ]
    },
    {
      "cell_type": "code",
      "execution_count": 49,
      "metadata": {
        "id": "fLbh3UwQ3cv0",
        "outputId": "5db1aa88-8ca9-4559-8fed-373676a69634",
        "colab": {
          "base_uri": "https://localhost:8080/"
        }
      },
      "outputs": [
        {
          "output_type": "stream",
          "name": "stdout",
          "text": [
            "[7, 14, 21, 28, 35, 42, 49, 56, 63, 70, 77, 84, 91, 98, 105, 112, 119, 126, 133, 140, 147, 154, 161, 168, 175, 182, 189, 196, 203, 210, 217, 224, 231, 238, 245, 252, 259, 266, 273, 280, 287, 294, 301, 308, 315, 322, 329, 336, 343, 350, 357, 364, 371, 378, 385, 392, 399, 406, 413, 420, 427, 434, 441, 448, 455, 462, 469, 476, 483, 490, 497]\n"
          ]
        }
      ],
      "source": [
        "i = 7\n",
        "n = 501\n",
        "list1=[]\n",
        "\n",
        "while i < n:\n",
        "#     print(i)\n",
        "    list1.append(i)\n",
        "    i+=7\n",
        "    \n",
        "print(list1)"
      ]
    },
    {
      "cell_type": "code",
      "execution_count": null,
      "metadata": {
        "id": "PYbpqaPj3cv1",
        "outputId": "660203a3-93cb-4d16-a7b9-6c0dafe89be2"
      },
      "outputs": [
        {
          "data": {
            "text/plain": [
              "(True, True, False, False)"
            ]
          },
          "execution_count": 18,
          "metadata": {},
          "output_type": "execute_result"
        }
      ],
      "source": [
        "bool(1), bool('a'),bool(0),bool('')"
      ]
    },
    {
      "cell_type": "code",
      "execution_count": 56,
      "metadata": {
        "id": "E8vepsbP3cv6"
      },
      "outputs": [],
      "source": [
        "while 0:\n",
        "    print(\"hi\")\n",
        "    "
      ]
    },
    {
      "cell_type": "markdown",
      "metadata": {
        "id": "zn2ZADHN3cv6"
      },
      "source": [
        "## For Loops\n",
        "It itereates over a sequence"
      ]
    },
    {
      "cell_type": "code",
      "execution_count": 60,
      "metadata": {
        "id": "8pGypESJ3cv6",
        "outputId": "04735303-6fc1-4d8a-f98b-8ea86a294dd4",
        "colab": {
          "base_uri": "https://localhost:8080/"
        }
      },
      "outputs": [
        {
          "output_type": "stream",
          "name": "stdout",
          "text": [
            "1\n",
            "2\n",
            "3\n",
            "4\n",
            "5\n",
            "7\n",
            "a\n",
            "b\n"
          ]
        }
      ],
      "source": [
        "seq = [1,2,3,4,5,7,'a','b']\n",
        "\n",
        "for i in seq:\n",
        "    print(i)"
      ]
    },
    {
      "cell_type": "code",
      "execution_count": 62,
      "metadata": {
        "id": "aaZAetM93cv7",
        "colab": {
          "base_uri": "https://localhost:8080/"
        },
        "outputId": "3943b0ff-e855-42c6-a57c-ca13a5853f72"
      },
      "outputs": [
        {
          "output_type": "stream",
          "name": "stdout",
          "text": [
            "i : 10\n",
            "i : 12\n",
            "i : 14\n",
            "i : 16\n",
            "i : 18\n"
          ]
        }
      ],
      "source": [
        "for i in range(10,20,2):\n",
        "    print('i :',i)"
      ]
    },
    {
      "cell_type": "code",
      "execution_count": 63,
      "metadata": {
        "id": "mBs040k33cv7",
        "colab": {
          "base_uri": "https://localhost:8080/"
        },
        "outputId": "3421d124-eb8d-4851-d196-e3e9e058457c"
      },
      "outputs": [
        {
          "output_type": "stream",
          "name": "stdout",
          "text": [
            "[1, 2, 3, 4, 5, 6, 7, 8, 9, 10, 11, 12, 13, 14, 15, 16, 17, 18, 19, 20, 21, 22, 23, 24, 25, 26, 27, 28, 29, 30, 31, 32, 33, 34, 35, 36, 37, 38, 39, 40, 41, 42, 43, 44, 45, 46, 47, 48, 49, 50, 51, 52, 53, 54, 55, 56, 57, 58, 59, 60, 61, 62, 63, 64, 65, 66, 67, 68, 69, 70, 71, 72, 73, 74, 75, 76, 77, 78, 79, 80, 81, 82, 83, 84, 85, 86, 87, 88, 89, 90, 91, 92, 93, 94, 95, 96, 97, 98, 99, 100]\n"
          ]
        }
      ],
      "source": [
        "lst=[]\n",
        "for i in range(1,101):\n",
        "    lst.append(i)\n",
        "\n",
        "print(lst)\n"
      ]
    },
    {
      "cell_type": "code",
      "execution_count": 66,
      "metadata": {
        "id": "guNIcdTr3cv7",
        "colab": {
          "base_uri": "https://localhost:8080/"
        },
        "outputId": "f8895c3e-53fc-4ad8-a622-c383af419716"
      },
      "outputs": [
        {
          "output_type": "stream",
          "name": "stdout",
          "text": [
            "i:  1\n",
            "updated i:  4 \n",
            "\n",
            "i:  2\n",
            "updated i:  5 \n",
            "\n",
            "i:  3\n",
            "updated i:  6 \n",
            "\n",
            "i:  4\n",
            "updated i:  7 \n",
            "\n"
          ]
        }
      ],
      "source": [
        "seq = (1,2,3,4)\n",
        "\n",
        "for i in seq:\n",
        "\n",
        "    print('i: ',i)\n",
        "  \n",
        "    i += 3\n",
        "  \n",
        "    print('updated i: ',i,'\\n')"
      ]
    },
    {
      "cell_type": "code",
      "execution_count": 73,
      "metadata": {
        "id": "o3tceZqz3cv7",
        "colab": {
          "base_uri": "https://localhost:8080/"
        },
        "outputId": "f4685fb8-946c-4796-857c-a4a1803c51cd"
      },
      "outputs": [
        {
          "output_type": "stream",
          "name": "stdout",
          "text": [
            "************************\n",
            "\n",
            "parent value of i : 1\n",
            "\n",
            "Child value of j -------: 10\n",
            "i : j =  1 : 10 \n",
            "\n",
            "\n",
            "Child value of j -------: 12\n",
            "i : j =  1 : 12 \n",
            "\n",
            "************************\n",
            "\n",
            "parent value of i : 3\n",
            "\n",
            "Child value of j -------: 10\n",
            "i : j =  3 : 10 \n",
            "\n",
            "\n",
            "Child value of j -------: 12\n",
            "i : j =  3 : 12 \n",
            "\n"
          ]
        }
      ],
      "source": [
        "# THE BOTTOM MOST FOR LOOP COMPLETE FIRST THEN FOLLOWED BY A LEVEL ABOVE IT\n",
        "\n",
        "for i in [1,3]:\n",
        "\n",
        "    print('************************')\n",
        "    print('\\nparent value of i :',i)\n",
        "    \n",
        "    for j in [10,12]:\n",
        "  \n",
        "        print('\\nChild value of j -------:',j)\n",
        "        print(\"i : j = \",i,\":\",j,'\\n')\n"
      ]
    },
    {
      "cell_type": "code",
      "execution_count": 75,
      "metadata": {
        "id": "mMEVLhtr3cv8",
        "colab": {
          "base_uri": "https://localhost:8080/"
        },
        "outputId": "b5379b63-7afa-439c-b31a-620e09d17070"
      },
      "outputs": [
        {
          "output_type": "stream",
          "name": "stdout",
          "text": [
            "\n",
            " 1 15 10\n",
            "\n",
            " 1 15 12\n",
            "\n",
            " 1 17 10\n",
            "\n",
            " 1 17 12\n",
            "\n",
            " 3 15 10\n",
            "\n",
            " 3 15 12\n",
            "\n",
            " 3 17 10\n",
            "\n",
            " 3 17 12\n"
          ]
        }
      ],
      "source": [
        "for i in [1,3]:                            # parent loop \n",
        "  \n",
        "    for j in [15,17]:                      # child loop - level 1\n",
        "  \n",
        "        for k in[10,12]:                   # child loop - level 2\n",
        "  \n",
        "            print('\\n',i,j,k)\n"
      ]
    },
    {
      "cell_type": "markdown",
      "metadata": {
        "id": "30ApVG6i3cv8"
      },
      "source": [
        "## if, else Statements\n",
        "Runs **if** statement and if the statement fails than **else** statement is run.\n",
        "\n",
        "if can be alone but else follows a if or while statement."
      ]
    },
    {
      "cell_type": "code",
      "execution_count": 76,
      "metadata": {
        "id": "CU1uzhgs3cv8",
        "colab": {
          "base_uri": "https://localhost:8080/"
        },
        "outputId": "da2131b9-27e3-4a0a-9e28-b9eabcfdf8c0"
      },
      "outputs": [
        {
          "output_type": "stream",
          "name": "stdout",
          "text": [
            "Yep!\n"
          ]
        }
      ],
      "source": [
        "# IF CONDITION is TRUE then the statement is executed once\n",
        "\n",
        "if 1 < 2:\n",
        "    print('Yep!')"
      ]
    },
    {
      "cell_type": "code",
      "source": [
        "# While CONDITION is TRUE then the statement is executed untill the condition become false\n",
        "\n",
        "while 1 < 2:\n",
        "    print('Yep!')"
      ],
      "metadata": {
        "id": "itwoeew3ak-t"
      },
      "execution_count": null,
      "outputs": []
    },
    {
      "cell_type": "code",
      "execution_count": 78,
      "metadata": {
        "id": "VEqTSv2I3cv8"
      },
      "outputs": [],
      "source": [
        "if 1 > 2:\n",
        "    print('Yep!')"
      ]
    },
    {
      "cell_type": "code",
      "execution_count": 79,
      "metadata": {
        "id": "ycws4qNl3cv9",
        "colab": {
          "base_uri": "https://localhost:8080/"
        },
        "outputId": "114c5328-25cf-4698-d008-8b2afca6d066"
      },
      "outputs": [
        {
          "output_type": "stream",
          "name": "stdout",
          "text": [
            "Give candy\n"
          ]
        }
      ],
      "source": [
        "age=10\n",
        "\n",
        "if age >18:\n",
        "    print('Give Movie ticket')\n",
        "\n",
        "else:\n",
        "    print('Give candy')"
      ]
    },
    {
      "cell_type": "code",
      "execution_count": 80,
      "metadata": {
        "id": "K-hzIxxO3cv9",
        "colab": {
          "base_uri": "https://localhost:8080/"
        },
        "outputId": "cca75e00-c74d-474e-b136-41dc4e9b4e30"
      },
      "outputs": [
        {
          "output_type": "stream",
          "name": "stdout",
          "text": [
            "10\n",
            "Give candy\n",
            "25\n",
            "Give Movie ticket\n",
            "35\n",
            "Give Movie ticket\n",
            "17\n",
            "Give candy\n"
          ]
        }
      ],
      "source": [
        "ages=[10, 25 , 35, 17] \n",
        "\n",
        "for age in ages:\n",
        "    \n",
        "    print(age)\n",
        "    \n",
        "    if age >18:\n",
        "        print('Give Movie ticket') # M\n",
        "\n",
        "    else:\n",
        "        print('Give candy') # C"
      ]
    },
    {
      "cell_type": "code",
      "execution_count": 81,
      "metadata": {
        "id": "Kh1dzPjL3cv9",
        "colab": {
          "base_uri": "https://localhost:8080/"
        },
        "outputId": "3884f2c4-80f4-401a-e4c3-84be4f0e9add"
      },
      "outputs": [
        {
          "output_type": "stream",
          "name": "stdout",
          "text": [
            "last\n"
          ]
        }
      ],
      "source": [
        "if 100 != 100:\n",
        "    print('first')\n",
        "else:\n",
        "    print('last')"
      ]
    },
    {
      "cell_type": "markdown",
      "metadata": {
        "id": "N0xuvjEj3cv-"
      },
      "source": [
        "**In case of multiple if statements are used than all the if statements will run and the else follows the last if statement and there can be only one else statement.**"
      ]
    },
    {
      "cell_type": "code",
      "execution_count": 84,
      "metadata": {
        "id": "7y-DpRLt3cv_",
        "colab": {
          "base_uri": "https://localhost:8080/"
        },
        "outputId": "be179285-f703-4943-ca20-c8f1a4449d63"
      },
      "outputs": [
        {
          "output_type": "stream",
          "name": "stdout",
          "text": [
            "x > 4\n"
          ]
        }
      ],
      "source": [
        "x = 10\n",
        "y = 9\n",
        "\n",
        "# This IF below is working individually and have no else part\n",
        "if x < y:\n",
        "    print('x > y')\n",
        "\n",
        "\n",
        "# This IF below is working along with the else below it and the IF and else are in pair\n",
        "\n",
        "if x > 4:\n",
        "    print('x > 4')\n",
        "else:\n",
        "    print('else ran')"
      ]
    },
    {
      "cell_type": "code",
      "execution_count": 87,
      "metadata": {
        "id": "wYTpedyb3cwA",
        "colab": {
          "base_uri": "https://localhost:8080/"
        },
        "outputId": "9cf0fa90-d735-4baf-dd02-0345bc39c994"
      },
      "outputs": [
        {
          "output_type": "stream",
          "name": "stdout",
          "text": [
            "3\n"
          ]
        }
      ],
      "source": [
        "x = 10\n",
        "y = 9\n",
        "\n",
        "if x < y:\n",
        "    print('1')\n",
        "\n",
        "if x < 4:\n",
        "    print ('2')\n",
        "\n",
        "if y > 3:\n",
        "    print ('3')\n",
        "\n",
        "else:\n",
        "    print('else ran')"
      ]
    },
    {
      "cell_type": "code",
      "execution_count": 89,
      "metadata": {
        "id": "s3svyn8N3cwA",
        "colab": {
          "base_uri": "https://localhost:8080/"
        },
        "outputId": "d352d5f3-dde8-4c51-8847-18d6cf0df638"
      },
      "outputs": [
        {
          "output_type": "stream",
          "name": "stdout",
          "text": [
            "else 2 ran\n"
          ]
        }
      ],
      "source": [
        "x = 5\n",
        "y = 4\n",
        "\n",
        "if x < y:\n",
        "    \n",
        "    print('1')\n",
        "    \n",
        "    if x < 4:\n",
        "        \n",
        "        print('2')\n",
        "    \n",
        "    else:\n",
        "        print('else 1 ran')\n",
        "\n",
        "else:\n",
        "    print('else 2 ran')"
      ]
    },
    {
      "cell_type": "markdown",
      "metadata": {
        "id": "LtfM5WIG3cwB"
      },
      "source": [
        "## Code for Even & ODD Number\n",
        "\n",
        "Save all odd & even numbers till 200 in seprate lists and then print both the list a single time, us for loop with if in one solution and while loop in other."
      ]
    },
    {
      "cell_type": "code",
      "execution_count": null,
      "metadata": {
        "id": "1yu7SLKr3cwB"
      },
      "outputs": [],
      "source": [
        "even_lst=[]\n",
        "odd_lst=[]\n",
        "\n",
        "for i in range(1,201):\n",
        "    if ((i%2)==0):\n",
        "        even_lst.append(i)\n",
        "    else:\n",
        "        odd_lst.append(i)\n",
        "    \n",
        "print('even list',even_lst,'\\n\\n')\n",
        "print('odd list',odd_lst)"
      ]
    },
    {
      "cell_type": "code",
      "execution_count": null,
      "metadata": {
        "id": "Fjxcd7DQ3cwB"
      },
      "outputs": [],
      "source": [
        "even_lst=[]\n",
        "odd_lst=[]\n",
        "\n",
        "for i in range(1,101):\n",
        "    if ((i%2)==0):\n",
        "        even_lst.append(i)\n",
        "    if ((i%2)!=0):\n",
        "        odd_lst.append(i)\n",
        "    \n",
        "print('even list',even_lst,'\\n\\n')\n",
        "print('odd list',odd_lst)"
      ]
    },
    {
      "cell_type": "code",
      "execution_count": null,
      "metadata": {
        "id": "QOeVO-R_3cwB"
      },
      "outputs": [],
      "source": [
        "# USING WHILE LOOP\n",
        "\n",
        "even_lst=[]\n",
        "odd_lst=[]\n",
        "i=1\n",
        "\n",
        "while i<101:\n",
        "    \n",
        "    if ((i%2)==0):\n",
        "        even_lst.append(i)\n",
        "    else:\n",
        "        odd_lst.append(i)\n",
        "        \n",
        "    i+=1\n",
        "        \n",
        "    \n",
        "print('even list',even_lst,'\\n\\n')\n",
        "print('odd list',odd_lst)"
      ]
    },
    {
      "cell_type": "code",
      "execution_count": null,
      "metadata": {
        "id": "I5XutJDm3cwB"
      },
      "outputs": [],
      "source": [
        "# USING WHILE LOOP\n",
        "\n",
        "even_lst=[]\n",
        "odd_lst=[]\n",
        "init=True\n",
        "i=1\n",
        "\n",
        "while init:\n",
        "    \n",
        "    if ((i%2)==0):\n",
        "        even_lst.append(i)\n",
        "    else:\n",
        "        odd_lst.append(i)\n",
        "    \n",
        "    i+=1\n",
        "    \n",
        "    if i>100:\n",
        "        init=False\n",
        "        \n",
        "print('even list',even_lst,'\\n\\n')\n",
        "print('odd list',odd_lst)"
      ]
    },
    {
      "cell_type": "markdown",
      "metadata": {
        "id": "uPR844cW3cwB"
      },
      "source": [
        "## if ,elif and else statements\n",
        "* elif = else if\n",
        "* we use **elif** with **if** statement they can not be used independently.\n",
        "* if there is **if** and **elif** statements in the program then , if and elif statement breaks the code if they are true.\n"
      ]
    },
    {
      "cell_type": "code",
      "execution_count": 94,
      "metadata": {
        "id": "pfyQl5sq3cwB",
        "colab": {
          "base_uri": "https://localhost:8080/"
        },
        "outputId": "2b872d94-1356-4432-9485-2a900ae79b0b"
      },
      "outputs": [
        {
          "output_type": "stream",
          "name": "stdout",
          "text": [
            "1\n",
            "2\n"
          ]
        }
      ],
      "source": [
        "if 1 == 1:\n",
        "    print('1')\n",
        "if 3 == 3:\n",
        "    print('2')\n",
        "else:\n",
        "    print('3')"
      ]
    },
    {
      "cell_type": "code",
      "source": [
        "age=10\n",
        "\n",
        "if age<18:\n",
        "    print('1')\n",
        "\n",
        "if age<40:                     # elif - else if\n",
        "    print('2')\n",
        "\n",
        "if age<60:                     # elif - else if\n",
        "    print('3')\n",
        "\n",
        "else:\n",
        "    print('4')"
      ],
      "metadata": {
        "colab": {
          "base_uri": "https://localhost:8080/"
        },
        "id": "s13A7m0UisIO",
        "outputId": "16db7328-0127-4b48-9417-ab79995ef08e"
      },
      "execution_count": 101,
      "outputs": [
        {
          "output_type": "stream",
          "name": "stdout",
          "text": [
            "1\n",
            "2\n",
            "3\n"
          ]
        }
      ]
    },
    {
      "cell_type": "code",
      "execution_count": 102,
      "metadata": {
        "id": "fNQEgfmn3cwC",
        "colab": {
          "base_uri": "https://localhost:8080/"
        },
        "outputId": "c7fed91f-4cce-4aa2-b10a-1bc90beb2560"
      },
      "outputs": [
        {
          "output_type": "stream",
          "name": "stdout",
          "text": [
            "1\n"
          ]
        }
      ],
      "source": [
        "# elif is used when we have a chain of conditions\n",
        "\n",
        "age=10\n",
        "\n",
        "if age<18:\n",
        "    print('1')\n",
        "\n",
        "elif age<40:                     # elif - else if\n",
        "    print('2')\n",
        "\n",
        "elif age<60:                     # elif - else if\n",
        "    print('3')\n",
        "\n",
        "else:\n",
        "    print('4')"
      ]
    },
    {
      "cell_type": "code",
      "execution_count": 103,
      "metadata": {
        "id": "7AuqoDvT3cwC",
        "colab": {
          "base_uri": "https://localhost:8080/"
        },
        "outputId": "dc736fc9-b7a7-4dc7-c555-5d10c7b2211c"
      },
      "outputs": [
        {
          "output_type": "stream",
          "name": "stdout",
          "text": [
            "middle\n"
          ]
        }
      ],
      "source": [
        "if 1 == 2:\n",
        "    print('first')\n",
        "elif 3 == 3:\n",
        "    print('middle')\n",
        "else:\n",
        "    print('Last')"
      ]
    },
    {
      "cell_type": "code",
      "execution_count": null,
      "metadata": {
        "id": "DoYOjeHh3cwC"
      },
      "outputs": [],
      "source": [
        "x = 10\n",
        "y = 8\n",
        "\n",
        "if x > y:\n",
        "    print('x > y')\n",
        "if x > 5:\n",
        "    print('x > 5')\n",
        "elif x > 8:\n",
        "    print('x > 8')\n",
        "else:\n",
        "    print('else ran')"
      ]
    },
    {
      "cell_type": "code",
      "execution_count": null,
      "metadata": {
        "id": "No6KzOFT3cwC"
      },
      "outputs": [],
      "source": [
        "if 1 == 2:\n",
        "    print('first')\n",
        "elif 3 == 4:\n",
        "    print('middle')\n",
        "elif 3 == 9:\n",
        "    print('third')\n",
        "else:\n",
        "    print('Last')"
      ]
    },
    {
      "cell_type": "code",
      "execution_count": null,
      "metadata": {
        "id": "BtGpEOYV3cwC"
      },
      "outputs": [],
      "source": [
        "# running the code by replacing elif with if\n",
        "x,y = 10,8\n",
        "\n",
        "if x > y:\n",
        "    print('x > y')\n",
        "if x > 5:\n",
        "    print('x > 5')\n",
        "if x < 8:\n",
        "    print('x > 8')\n",
        "else:\n",
        "    print('else ran')"
      ]
    },
    {
      "cell_type": "code",
      "execution_count": null,
      "metadata": {
        "id": "So5RW30e3cwC"
      },
      "outputs": [],
      "source": [
        "# running the code by replacing elif with if\n",
        "x,y = 10,8\n",
        "\n",
        "if x > y:\n",
        "    print('x > y')\n",
        "elif x > 5:\n",
        "    print('x > 5')\n",
        "elif x < 8:\n",
        "    print('x > 8')\n",
        "else:\n",
        "    print('else ran')"
      ]
    },
    {
      "cell_type": "markdown",
      "metadata": {
        "id": "O1ruAlQ13cwD"
      },
      "source": [
        "## Unpacking Iterator using loops"
      ]
    },
    {
      "cell_type": "code",
      "execution_count": 105,
      "metadata": {
        "id": "qN3k8c3G3cwE",
        "colab": {
          "base_uri": "https://localhost:8080/"
        },
        "outputId": "df8a165f-dfb4-49e5-c747-7963a805ea32"
      },
      "outputs": [
        {
          "output_type": "stream",
          "name": "stdout",
          "text": [
            "\n",
            "i : (1, 2)\n",
            "i[0] & i[1] : 1 , 2\n",
            "\n",
            "i : (3, 4)\n",
            "i[0] & i[1] : 3 , 4\n",
            "\n",
            "i : (5, 6)\n",
            "i[0] & i[1] : 5 , 6\n"
          ]
        }
      ],
      "source": [
        "a=[(1,2),(3,4),(5,6)]\n",
        "\n",
        "for i in a:\n",
        "    \n",
        "    print('\\ni :',i)\n",
        "    \n",
        "    print('i[0] & i[1] :',i[0],',',i[1])"
      ]
    },
    {
      "cell_type": "code",
      "execution_count": 106,
      "metadata": {
        "id": "wCR291b73cwE",
        "colab": {
          "base_uri": "https://localhost:8080/"
        },
        "outputId": "4ad0c24c-bd67-4672-9d80-27bbbb240a53"
      },
      "outputs": [
        {
          "output_type": "stream",
          "name": "stdout",
          "text": [
            "\n",
            "i : 1 ,j : 2\n",
            "\n",
            "i : 3 ,j : 4\n",
            "\n",
            "i : 5 ,j : 6\n"
          ]
        }
      ],
      "source": [
        "a=[(1,2),(3,4),(5,6)]\n",
        "\n",
        "for i,j in a:\n",
        "    \n",
        "    print('\\ni :',i,',j :',j)"
      ]
    },
    {
      "cell_type": "code",
      "execution_count": 107,
      "metadata": {
        "id": "UhYNieUO3cwE",
        "colab": {
          "base_uri": "https://localhost:8080/"
        },
        "outputId": "c00f7335-0a18-4d99-e1f6-501a26a8129e"
      },
      "outputs": [
        {
          "output_type": "stream",
          "name": "stdout",
          "text": [
            "\n",
            " i,j,x : 1 2 4\n",
            "\n",
            " i,j,x : 3 4 5\n"
          ]
        }
      ],
      "source": [
        "a=[(1,2,4),(3,4,5)]\n",
        "\n",
        "for i,j,x in a:\n",
        "    \n",
        "    print('\\n i,j,x :',i,j,x)"
      ]
    },
    {
      "cell_type": "markdown",
      "metadata": {
        "id": "yTt2bu3n3cwE"
      },
      "source": [
        "### Python Functions\n",
        "- They are block of codes which run when called upon , they are made to decrease our work for writing the code again and again.\n",
        "\n",
        "- They start with def which stands for define.\n",
        "\n",
        "- They have small paranthesis with them followed by colon (:) which gives indentation to next line.\n",
        "\n",
        "- Indentation is necsaary to make a particular code belong to a function\n",
        "\n",
        "- They are called by using function name with small brackets and with parameters if defined."
      ]
    },
    {
      "cell_type": "code",
      "execution_count": 109,
      "metadata": {
        "id": "bXyWz8Qo3cwE"
      },
      "outputs": [],
      "source": [
        "# Function Declaration\n",
        "\n",
        "# Function without parameters\n",
        "\n",
        "def todayfunc():\n",
        "  print('hi')\n",
        "  print('hello')\n",
        "  print('hello1')\n",
        "  print('hello2')\n",
        "  print('hello3')\n",
        "  print('hello4')\n",
        "  print('hello5')"
      ]
    },
    {
      "cell_type": "code",
      "execution_count": 110,
      "metadata": {
        "id": "A-_Lclo93cwF",
        "colab": {
          "base_uri": "https://localhost:8080/"
        },
        "outputId": "10d508bd-13d4-4525-8c1b-4736d5e38e89"
      },
      "outputs": [
        {
          "output_type": "stream",
          "name": "stdout",
          "text": [
            "hi\n",
            "hello\n",
            "hello1\n",
            "hello2\n",
            "hello3\n",
            "hello4\n",
            "hello5\n"
          ]
        }
      ],
      "source": [
        "# Function Call\n",
        "todayfunc()"
      ]
    },
    {
      "cell_type": "code",
      "execution_count": 112,
      "metadata": {
        "id": "BiK695LH3cwF"
      },
      "outputs": [],
      "source": [
        "def sci():\n",
        "    print(5+7+8+3+1)\n"
      ]
    },
    {
      "cell_type": "code",
      "execution_count": 113,
      "metadata": {
        "id": "C8VL__qi3cwF",
        "colab": {
          "base_uri": "https://localhost:8080/"
        },
        "outputId": "2a72663e-435e-47ba-c8f5-021b98cbdb36"
      },
      "outputs": [
        {
          "output_type": "stream",
          "name": "stdout",
          "text": [
            "24\n"
          ]
        }
      ],
      "source": [
        "sci()"
      ]
    },
    {
      "cell_type": "code",
      "execution_count": 115,
      "metadata": {
        "id": "ocdWDvRZ3cwF"
      },
      "outputs": [],
      "source": [
        "# Function with Parameter / Arguments i.e - a,b\n",
        "\n",
        "def addfunction(a,b):\n",
        "    print('a :',a,'\\n','b :',b)\n",
        "    print('Addition op :',a+b)\n",
        " "
      ]
    },
    {
      "cell_type": "code",
      "execution_count": 122,
      "metadata": {
        "id": "jJC-TE7a3cwG",
        "colab": {
          "base_uri": "https://localhost:8080/"
        },
        "outputId": "beb8719b-2191-4a1c-b83c-cfcb81f5f366"
      },
      "outputs": [
        {
          "output_type": "stream",
          "name": "stdout",
          "text": [
            "a : 3 \n",
            " b : 2\n",
            "Addition op : 5\n"
          ]
        }
      ],
      "source": [
        "addfunction(3,2)"
      ]
    },
    {
      "cell_type": "code",
      "execution_count": 124,
      "metadata": {
        "id": "u5pD6kQy3cwG",
        "colab": {
          "base_uri": "https://localhost:8080/"
        },
        "outputId": "0275fe2b-a7c2-49a8-b732-f9e9ea3077d3"
      },
      "outputs": [
        {
          "output_type": "stream",
          "name": "stdout",
          "text": [
            "a : 3 \n",
            " b : 2\n",
            "Addition op : 5\n",
            "\n",
            "output : None\n"
          ]
        }
      ],
      "source": [
        "output=addfunction(3,2)\n",
        "print('\\noutput :',output)"
      ]
    },
    {
      "cell_type": "code",
      "source": [
        "output"
      ],
      "metadata": {
        "id": "Q9J6gSWnpXqn"
      },
      "execution_count": 125,
      "outputs": []
    },
    {
      "cell_type": "markdown",
      "metadata": {
        "id": "6ln4MF9i3cwG"
      },
      "source": [
        "### return\n",
        "A return statement causes our function to exit and hand back a value to the caller.\n",
        "\n",
        "As soon as return is encountered , function exits without running the code written below return in function."
      ]
    },
    {
      "cell_type": "code",
      "execution_count": null,
      "metadata": {
        "id": "-gxKDBMB3cwG"
      },
      "outputs": [],
      "source": [
        "#  Function with parameters / argurments -- inputs\n",
        "\n",
        "def addfunction(a,b):\n",
        "    \n",
        "    print('a :',a,'\\n','b :',b)\n",
        "    \n",
        "    add=a + b\n",
        "    \n",
        "    print('Addition op :',add)\n",
        "    \n",
        "    return add\n",
        "\n",
        "    print(\"After return call\")\n",
        "        "
      ]
    },
    {
      "cell_type": "code",
      "execution_count": null,
      "metadata": {
        "id": "ub8cN_PM3cwG"
      },
      "outputs": [],
      "source": [
        "func_out=addfunction(10,20)\n",
        "print('\\n\\nfunc_out :',func_out)"
      ]
    },
    {
      "cell_type": "code",
      "execution_count": null,
      "metadata": {
        "id": "0gV4Gm9w3cwG"
      },
      "outputs": [],
      "source": [
        "final_ans=addfunction(func_out,50)\n",
        "final_ans"
      ]
    },
    {
      "cell_type": "markdown",
      "metadata": {
        "id": "KAn9b_O73cwG"
      },
      "source": [
        "## Question\n",
        "\n",
        "a = [(1,2),(3,4),(4,5)]\n",
        "\n",
        "using function perform addition of the above list sequence i.e output of (1,2) will be added with addition of (3,4)and so on -- do it using function call in the loop. The output of the solution should be a single number that addition of all the sequence values i.e **19**\n",
        "\n"
      ]
    },
    {
      "cell_type": "code",
      "execution_count": null,
      "metadata": {
        "id": "rz2QOg3h3cwH"
      },
      "outputs": [],
      "source": [
        "def addfunction(a,b):\n",
        "    return (a+b)\n",
        "\n",
        "a=[(1,2),(3,4),(4,5)]\n",
        "\n",
        "result=0\n",
        "\n",
        "for i,j in a:\n",
        "#     print(i,j)\n",
        "    result+=addfunction(i,j)\n",
        "#     print(ans)\n",
        "\n",
        "print(\"Output of Addition is:\",result) \n"
      ]
    },
    {
      "cell_type": "code",
      "execution_count": null,
      "metadata": {
        "id": "VmpPoNbs3cwH"
      },
      "outputs": [],
      "source": [
        "\n",
        "def add(a,b):\n",
        "    return a+b\n",
        "    \n",
        "def sub(a,b):\n",
        "    return a-b\n",
        "    \n",
        "def mul(a,b):\n",
        "    return a*b\n",
        "    \n",
        "def div(a,b):\n",
        "    return a/b\n",
        "    \n",
        "def collect(c,d):\n",
        "    va1=add(c,d)\n",
        "    va2=sub(va1,d)\n",
        "    va3=mul(va2,d)\n",
        "    va4=div(va3,d)\n",
        "    \n",
        "#     return [va1,va2,va3,va4]\n",
        "    return locals()\n",
        "    \n"
      ]
    },
    {
      "cell_type": "code",
      "execution_count": null,
      "metadata": {
        "id": "gUZ22Pj03cwH"
      },
      "outputs": [],
      "source": [
        "output=collect(2,4)\n",
        "print(output)"
      ]
    },
    {
      "cell_type": "code",
      "execution_count": null,
      "metadata": {
        "id": "HbJVvK3Q3cwH"
      },
      "outputs": [],
      "source": [
        "va4=output['va4']\n",
        "print(va4)"
      ]
    },
    {
      "cell_type": "code",
      "execution_count": null,
      "metadata": {
        "id": "xEQlGFVV3cwH"
      },
      "outputs": [],
      "source": [
        "# Function description\n",
        "\n",
        "\n",
        "def subtraction_function(a,b):\n",
        "    '''\n",
        "    function perfroming subtraction \n",
        "    \n",
        "    a: first no\n",
        "    \n",
        "    b: second no\n",
        "    \n",
        "    '''\n",
        "    print(a-b)\n",
        "    \n",
        "    return a-b\n",
        "    \n",
        "        "
      ]
    },
    {
      "cell_type": "code",
      "execution_count": null,
      "metadata": {
        "id": "38J_gNET3cwH"
      },
      "outputs": [],
      "source": [
        "help(subtraction_function)"
      ]
    },
    {
      "cell_type": "code",
      "execution_count": null,
      "metadata": {
        "id": "H0PNokM43cwH"
      },
      "outputs": [],
      "source": [
        "# Function Call  -- press shift+tab to see the description of function\n",
        "subtraction_function()"
      ]
    },
    {
      "cell_type": "code",
      "execution_count": null,
      "metadata": {
        "id": "OarPLMm-3cwI"
      },
      "outputs": [],
      "source": [
        "# specifying the parameter default value.\n",
        "\n",
        "def add(a,b,c=7):\n",
        "    print('a,b,c :',a,b,c)\n",
        "    print(a+b+c)\n",
        "\n",
        "\n",
        "add(5,10)"
      ]
    },
    {
      "cell_type": "code",
      "execution_count": null,
      "metadata": {
        "id": "b80PD3893cwI"
      },
      "outputs": [],
      "source": [
        "add(5,10,25)"
      ]
    },
    {
      "cell_type": "code",
      "execution_count": null,
      "metadata": {
        "id": "An1Dhng43cwI"
      },
      "outputs": [],
      "source": [
        "# specifying the parameter default value.\n",
        "\n",
        "def add(a,b,c=7):\n",
        "    print('a,b,c :',a,b,c)\n",
        "    print(a+b+c)\n",
        "\n",
        "\n",
        "add(b=5,c=10,a=20)"
      ]
    },
    {
      "cell_type": "code",
      "execution_count": null,
      "metadata": {
        "id": "OBO-sJle3cwJ"
      },
      "outputs": [],
      "source": [
        "# area of circle = pi*(r**2)\n",
        "def area_calc(radius,pi=3.141):\n",
        "    print('radius :',radius,'pi:',pi)\n",
        "    print(pi*(radius**2))\n",
        "\n",
        "area_calc(2)"
      ]
    },
    {
      "cell_type": "code",
      "execution_count": null,
      "metadata": {
        "id": "8NtdxRCR3cwJ"
      },
      "outputs": [],
      "source": [
        "# specifying the parameter default value.\n",
        "def add(a=50,b):\n",
        "    print(a,b)\n",
        "    print(a+b)\n",
        "\n",
        "add(30)"
      ]
    },
    {
      "cell_type": "markdown",
      "metadata": {
        "id": "dnUNaVNT3cwJ"
      },
      "source": [
        "## * Args"
      ]
    },
    {
      "cell_type": "code",
      "execution_count": null,
      "metadata": {
        "id": "FRC2rW893cwJ"
      },
      "outputs": [],
      "source": [
        "def add(*sales):\n",
        "    print('a :',sales)\n",
        "    \n",
        "#     for i in sales:\n",
        "#         print(i)\n",
        "    \n",
        "    print('sum :',sum(sales))\n",
        "    return sum(sales)\n",
        "    \n",
        "    \n",
        "add(1,2,3,4,9,7)"
      ]
    },
    {
      "cell_type": "code",
      "execution_count": null,
      "metadata": {
        "id": "VKgWiP0E3cwK"
      },
      "outputs": [],
      "source": [
        "#  return can be used like = - return 1+1  , return a,b , return n > 1(will return boolean value)"
      ]
    },
    {
      "cell_type": "markdown",
      "metadata": {
        "id": "uPD007Em3cwK"
      },
      "source": [
        "## User Input"
      ]
    },
    {
      "cell_type": "code",
      "execution_count": null,
      "metadata": {
        "id": "jiEC1uFw3cwK"
      },
      "outputs": [],
      "source": [
        "name=input(\"what is your name :\")\n",
        "print(\" Hello \",name)"
      ]
    },
    {
      "cell_type": "code",
      "execution_count": null,
      "metadata": {
        "id": "8I6PcZ5k3cwK"
      },
      "outputs": [],
      "source": [
        "no=(input(\"Square of which number  :\"))\n",
        "print(type(no))\n",
        "\n",
        "no=int(no)\n",
        "print(type(no))\n",
        "\n",
        "print(\" Square \",no**2)"
      ]
    },
    {
      "cell_type": "markdown",
      "metadata": {
        "id": "FQkMF_HM3cwL"
      },
      "source": [
        "### Question:\n",
        "Create a single python function which can perform all calculator operations. You need to take user input for both the number and operation the user want to perform"
      ]
    },
    {
      "cell_type": "markdown",
      "metadata": {
        "id": "YeXLksok3cwL"
      },
      "source": [
        "### break\n",
        "It breaks the loop and comes out of the loop."
      ]
    },
    {
      "cell_type": "code",
      "execution_count": null,
      "metadata": {
        "id": "ROp4E-QH3cwL",
        "outputId": "05e64694-0110-4b07-8384-4c7d8c215506"
      },
      "outputs": [
        {
          "name": "stdout",
          "output_type": "stream",
          "text": [
            "10\n"
          ]
        }
      ],
      "source": [
        "for i in [10,2,3,4,5,6]:\n",
        "    print(i)\n",
        "    break"
      ]
    },
    {
      "cell_type": "code",
      "execution_count": null,
      "metadata": {
        "id": "CZ8D4lqf3cwL",
        "outputId": "fa27fb9c-42fe-4923-93b5-c5a45314c2ea"
      },
      "outputs": [
        {
          "name": "stdout",
          "output_type": "stream",
          "text": [
            "hi\n"
          ]
        }
      ],
      "source": [
        "while True:\n",
        "    print('hi')\n",
        "    break"
      ]
    },
    {
      "cell_type": "code",
      "execution_count": null,
      "metadata": {
        "id": "JiP5tRzf3cwM",
        "outputId": "a99060d3-e8e3-466d-a166-dd60646692f0"
      },
      "outputs": [
        {
          "name": "stdout",
          "output_type": "stream",
          "text": [
            "10\n",
            "2\n"
          ]
        }
      ],
      "source": [
        "for i in [10,2,3,4,5,6]:\n",
        "    if i == 3:\n",
        "        break\n",
        "        print(i)\n",
        "        \n",
        "    else:\n",
        "        print(i)"
      ]
    },
    {
      "cell_type": "code",
      "execution_count": null,
      "metadata": {
        "id": "ngr0vyl03cwM",
        "outputId": "c5b47a4b-f1ce-43ad-c25b-a1a35638dd90"
      },
      "outputs": [
        {
          "name": "stdout",
          "output_type": "stream",
          "text": [
            "10 5\n",
            "2 5\n"
          ]
        }
      ],
      "source": [
        "for i in [10,2]:\n",
        "    for j in [5,7,2,1,9]:\n",
        "        if j ==7:\n",
        "            break\n",
        "        else:\n",
        "            print(i,j)\n",
        "        "
      ]
    },
    {
      "cell_type": "code",
      "execution_count": null,
      "metadata": {
        "id": "X8BEDKrQ3cwN",
        "outputId": "e4734b8e-e284-4740-f124-69b1a3961365"
      },
      "outputs": [
        {
          "name": "stdout",
          "output_type": "stream",
          "text": [
            "10 5\n",
            "10 7\n",
            "10 2\n",
            "10 1\n",
            "10 9\n"
          ]
        }
      ],
      "source": [
        "for i in [10,2]:\n",
        "    for j in [5,7,2,1,9]:\n",
        "        print(i,j)\n",
        "    break"
      ]
    },
    {
      "cell_type": "code",
      "execution_count": null,
      "metadata": {
        "id": "JTzhBBHs3cwN",
        "outputId": "d4d35ca7-014d-46a8-e6c7-a4af42461d0a"
      },
      "outputs": [
        {
          "name": "stdout",
          "output_type": "stream",
          "text": [
            "10 5\n"
          ]
        }
      ],
      "source": [
        "for i in [10,2]:\n",
        "    for j in [5,7,2,1,9]:\n",
        "        if j ==7:\n",
        "            break\n",
        "        else:\n",
        "            print(i,j)\n",
        "    break"
      ]
    },
    {
      "cell_type": "markdown",
      "metadata": {
        "id": "RRIAXAIE3cwN"
      },
      "source": [
        "### continue\n",
        "The continue is preceeded by a condition . if the condition is True than continue will not run the code below and will move back starting step of the loop for processing next step."
      ]
    },
    {
      "cell_type": "code",
      "execution_count": null,
      "metadata": {
        "id": "OIP6s7Up3cwO",
        "outputId": "0dddd9a3-1934-4cba-a531-b4ea336f5a99"
      },
      "outputs": [
        {
          "name": "stdout",
          "output_type": "stream",
          "text": [
            "10\n",
            "2\n",
            "before break\n"
          ]
        }
      ],
      "source": [
        "for letter in [10,2,3,4,5,6]:\n",
        "    \n",
        "    if letter == 3:\n",
        "        \n",
        "        print('before break')\n",
        "        \n",
        "        break\n",
        "        \n",
        "        print('after break')\n",
        "        \n",
        "    else:\n",
        "        print(letter)  "
      ]
    },
    {
      "cell_type": "code",
      "execution_count": null,
      "metadata": {
        "id": "PYtqC4MV3cwO",
        "outputId": "fe2fa11d-5fd4-4a4e-de0c-de70d8e77663"
      },
      "outputs": [
        {
          "name": "stdout",
          "output_type": "stream",
          "text": [
            "10\n",
            "4\n",
            "6\n"
          ]
        }
      ],
      "source": [
        "for letter in [10,3,4,3,6]:\n",
        "    \n",
        "    if letter == 3:\n",
        "        \n",
        "        print('before')\n",
        "        \n",
        "        continue         # similar to skip the code below and move to next value\n",
        "        \n",
        "        print(letter)\n",
        "        \n",
        "        print('after')\n",
        "        \n",
        "    else:\n",
        "        print(letter)  "
      ]
    },
    {
      "cell_type": "markdown",
      "metadata": {
        "id": "TEe8p4NZ3cwO"
      },
      "source": [
        "### pass \n",
        "If nothing is supoosed to happen in a code block , a pass is needed for such a block to not produce error."
      ]
    },
    {
      "cell_type": "code",
      "execution_count": null,
      "metadata": {
        "id": "YzB2Ask13cwP",
        "outputId": "19849ef5-f279-4166-e903-1a4c2fea1700"
      },
      "outputs": [
        {
          "name": "stdout",
          "output_type": "stream",
          "text": [
            "10\n",
            "2\n",
            "before pass\n",
            "after pass\n",
            "4\n",
            "5\n",
            "6\n"
          ]
        }
      ],
      "source": [
        "for letter in [10,2,3,4,5,6]:\n",
        "    \n",
        "    if letter == 3:\n",
        "        \n",
        "        print('before pass')\n",
        "        \n",
        "        pass         # Do nothing\n",
        "\n",
        "        print('after pass')\n",
        "        \n",
        "    else:\n",
        "        print(letter) "
      ]
    },
    {
      "cell_type": "code",
      "execution_count": null,
      "metadata": {
        "id": "Co6nKy-n3cwP"
      },
      "outputs": [],
      "source": [
        "age=2\n",
        "\n",
        "if age>18:\n",
        "    print('Give tickets')\n",
        "\n",
        "if age<18:\n",
        "    pass\n",
        "       "
      ]
    },
    {
      "cell_type": "markdown",
      "metadata": {
        "id": "jTICLK_23cwP"
      },
      "source": [
        "### Exception Handling  \n",
        "#### try ,except\n",
        "\n",
        "The python program terminates as soon as it encounters error.In python it can be syntax error or n exception. syntax error occurs when there is incorrect syntax like incomplete brackets , extra brackets ,wrong spelling\n",
        "\n",
        "It saves you from semantic error and not syntactic error\n",
        "\n",
        "**try :**\n",
        "\n",
        "       run this code\n",
        "       \n",
        "      \n",
        "**except:**\n",
        "\n",
        "       execute this code when there is a exception "
      ]
    },
    {
      "cell_type": "code",
      "execution_count": null,
      "metadata": {
        "id": "awHVE-X23cwQ",
        "outputId": "ac29d054-50de-4e3d-955e-0c2cde41d405"
      },
      "outputs": [
        {
          "ename": "ZeroDivisionError",
          "evalue": "division by zero",
          "output_type": "error",
          "traceback": [
            "\u001b[1;31m---------------------------------------------------------------------------\u001b[0m",
            "\u001b[1;31mZeroDivisionError\u001b[0m                         Traceback (most recent call last)",
            "\u001b[1;32m<ipython-input-9-2a0504e39ca6>\u001b[0m in \u001b[0;36m<module>\u001b[1;34m\u001b[0m\n\u001b[0;32m      1\u001b[0m \u001b[1;31m# print('p'/2)\u001b[0m\u001b[1;33m\u001b[0m\u001b[1;33m\u001b[0m\u001b[1;33m\u001b[0m\u001b[0m\n\u001b[1;32m----> 2\u001b[1;33m \u001b[0mprint\u001b[0m\u001b[1;33m(\u001b[0m\u001b[1;36m5\u001b[0m\u001b[1;33m/\u001b[0m\u001b[1;36m0\u001b[0m\u001b[1;33m)\u001b[0m\u001b[1;33m\u001b[0m\u001b[1;33m\u001b[0m\u001b[0m\n\u001b[0m\u001b[0;32m      3\u001b[0m \u001b[1;33m\u001b[0m\u001b[0m\n\u001b[0;32m      4\u001b[0m \u001b[1;33m\u001b[0m\u001b[0m\n\u001b[0;32m      5\u001b[0m \u001b[1;31m# 2 error types\u001b[0m\u001b[1;33m\u001b[0m\u001b[1;33m\u001b[0m\u001b[1;33m\u001b[0m\u001b[0m\n",
            "\u001b[1;31mZeroDivisionError\u001b[0m: division by zero"
          ]
        }
      ],
      "source": [
        "# print('p'/2)       \n",
        "print(5/0)\n",
        "\n",
        "\n",
        "# 2 error types\n",
        "# 1) Syntax - prog lang rules not followed\n",
        "# 2) Semantic - prog lang rules followed but logic is wrong"
      ]
    },
    {
      "cell_type": "code",
      "execution_count": null,
      "metadata": {
        "id": "Kc-Agf1V3cwQ",
        "outputId": "8e3c2b45-79ce-44b1-99e1-800066a2086a"
      },
      "outputs": [
        {
          "name": "stdout",
          "output_type": "stream",
          "text": [
            "Except part running\n",
            "after try except\n"
          ]
        }
      ],
      "source": [
        "try:\n",
        "#     print(5/0)\n",
        "    print('p'/2)\n",
        "    \n",
        "except:\n",
        "    print(\"Except part running\")\n",
        "    \n",
        "print('after try except')"
      ]
    },
    {
      "cell_type": "code",
      "execution_count": null,
      "metadata": {
        "id": "PM6pqruL3cwQ",
        "outputId": "1f9a25fc-d2d6-49ce-fdb5-ad388df24e83"
      },
      "outputs": [
        {
          "name": "stdout",
          "output_type": "stream",
          "text": [
            "type(e) : <class 'TypeError'>\n",
            "Exception : unsupported operand type(s) for /: 'str' and 'int'\n",
            "\n",
            "after try except outside program running\n"
          ]
        }
      ],
      "source": [
        "try:\n",
        "    print('p'/2)\n",
        "    \n",
        "except Exception as e:\n",
        "    \n",
        "    print('type(e) :',type(e))\n",
        "    \n",
        "    print('Exception :',e)\n",
        "\n",
        "\n",
        "print('\\nafter try except outside program running')"
      ]
    },
    {
      "cell_type": "code",
      "execution_count": null,
      "metadata": {
        "id": "_wg_fNHG3cwR",
        "outputId": "a44ac329-774a-4653-9562-eadbf3546a40"
      },
      "outputs": [
        {
          "name": "stdout",
          "output_type": "stream",
          "text": [
            "1.0\n"
          ]
        }
      ],
      "source": [
        "try:\n",
        "    print(5/5)\n",
        "except:\n",
        "    print('hi')"
      ]
    },
    {
      "cell_type": "code",
      "execution_count": null,
      "metadata": {
        "id": "nBnP8hO53cwR",
        "outputId": "d3bca7e2-63cd-468f-f967-898b399ceba0"
      },
      "outputs": [
        {
          "name": "stdout",
          "output_type": "stream",
          "text": [
            "hi\n"
          ]
        }
      ],
      "source": [
        "try:\n",
        "    print(5/0)\n",
        "except:\n",
        "    print('hi')\n",
        "    \n",
        "# if  5>0:\n",
        "#     print(5/0)\n",
        "# else:\n",
        "#     print('hi')   "
      ]
    },
    {
      "cell_type": "code",
      "execution_count": null,
      "metadata": {
        "id": "kjHlfZex3cwR",
        "outputId": "5dcf4d5d-e316-47c8-fc92-b4c75e0cc25b"
      },
      "outputs": [
        {
          "name": "stdout",
          "output_type": "stream",
          "text": [
            "hi\n",
            "finally running\n"
          ]
        }
      ],
      "source": [
        "# Out of TRY & EXCEPT one will run and the Finally will always run\n",
        "\n",
        "try:\n",
        "    print(5/0)\n",
        "    \n",
        "except:\n",
        "    print('hi')\n",
        "    \n",
        "finally:\n",
        "    print('finally running')"
      ]
    },
    {
      "cell_type": "code",
      "execution_count": null,
      "metadata": {
        "id": "cSeXs-_l3cwS",
        "outputId": "e856bde2-979c-46b6-868e-f473095bbeb5"
      },
      "outputs": [
        {
          "name": "stdout",
          "output_type": "stream",
          "text": [
            "10\n",
            "in finally\n"
          ]
        }
      ],
      "source": [
        "try:\n",
        "    print(5+5)\n",
        "    \n",
        "    try:\n",
        "        print('p'/2)\n",
        "    except:\n",
        "        pass\n",
        "    \n",
        "except:\n",
        "    print('hi')\n",
        "    \n",
        "finally:\n",
        "    print('in finally')"
      ]
    },
    {
      "cell_type": "markdown",
      "metadata": {
        "id": "P4JqkixB3cwS"
      },
      "source": [
        "## Installing modules \n",
        "\n",
        "In standard distribution .\n",
        "* In command prompt tye **pip install package**\n",
        "\n",
        "In anaconda distribution \n",
        "* In conda prompttype **conda install package**"
      ]
    },
    {
      "cell_type": "markdown",
      "metadata": {
        "id": "YUOemoiO3cwT"
      },
      "source": [
        "## Difference between conda and pip installer\n",
        "pip installs the python package and dependencies required whether or not those conflict with other package previously installed .eg tensor flow can stop working when pip install a different version of numpy package\n",
        "\n",
        "But conda does not let this happen , it figures out how t oinstall compatible dependencies."
      ]
    },
    {
      "cell_type": "markdown",
      "metadata": {
        "id": "A6kfNs7L3cwT"
      },
      "source": [
        "## AND & OR Functionality"
      ]
    },
    {
      "cell_type": "code",
      "execution_count": null,
      "metadata": {
        "id": "hVg5SVT23cwW"
      },
      "outputs": [],
      "source": [
        "if (5>0) and (5<2):\n",
        "    print('Condition ran')"
      ]
    },
    {
      "cell_type": "code",
      "execution_count": null,
      "metadata": {
        "id": "_Q46kpdr3cwX",
        "outputId": "df599f2e-890a-4e41-8ff8-0f0ef24b178c"
      },
      "outputs": [
        {
          "name": "stdout",
          "output_type": "stream",
          "text": [
            "(5>0) and (5>2)\n"
          ]
        }
      ],
      "source": [
        "if (5>0) and (5>2):\n",
        "    print('(5>0) and (5>2)')"
      ]
    },
    {
      "cell_type": "code",
      "execution_count": null,
      "metadata": {
        "id": "CsA3i8Vq3cwX",
        "outputId": "8c127682-ec91-4649-f55a-259a59320ab0"
      },
      "outputs": [
        {
          "name": "stdout",
          "output_type": "stream",
          "text": [
            "(5>0) or (5<2)\n"
          ]
        }
      ],
      "source": [
        "if (5>0) or (5<2):\n",
        "    print('(5>0) or (5<2)')"
      ]
    },
    {
      "cell_type": "code",
      "execution_count": null,
      "metadata": {
        "id": "CZbwvd0V3cwX"
      },
      "outputs": [],
      "source": [
        "if (5<0) or (5<2):\n",
        "    print('(5<0) or (5<2)')"
      ]
    },
    {
      "cell_type": "code",
      "execution_count": null,
      "metadata": {
        "id": "9REOcbYD3cwX",
        "outputId": "5377f953-5b63-4691-b996-7d1007946ec0"
      },
      "outputs": [
        {
          "name": "stdout",
          "output_type": "stream",
          "text": [
            "statement ran\n"
          ]
        }
      ],
      "source": [
        "if ((5>0) or (5<2)) and (5!=15):\n",
        "    print('statement ran')"
      ]
    },
    {
      "cell_type": "markdown",
      "metadata": {
        "id": "Cv361kR-3cwY"
      },
      "source": [
        "## Class"
      ]
    },
    {
      "cell_type": "code",
      "execution_count": null,
      "metadata": {
        "id": "ksUY82eT3cwY"
      },
      "outputs": [],
      "source": [
        "# A class consist of Multiple function declaration in it\n",
        "# A function consist on Multiple statements such if else and all and won't consist of any other function declaration\n",
        "\n",
        "class calculator():\n",
        "    def add(a,b):\n",
        "        print(a+b)\n",
        "    def sub(a,b):\n",
        "        print(a-b)\n",
        "    def mul(a,b):\n",
        "        print(a*b)"
      ]
    },
    {
      "cell_type": "code",
      "execution_count": null,
      "metadata": {
        "id": "FwDvgToD3cwY",
        "outputId": "05e9157f-1a79-4220-de7f-a5971fff8a0d"
      },
      "outputs": [
        {
          "name": "stdout",
          "output_type": "stream",
          "text": [
            "12\n"
          ]
        }
      ],
      "source": [
        "calculator.mul(3,4)"
      ]
    },
    {
      "cell_type": "markdown",
      "metadata": {
        "id": "h2fHVq-S3cwZ"
      },
      "source": [
        "# PYTHON INTRODUCTION AND BASIS SESSION ENDS"
      ]
    }
  ],
  "metadata": {
    "kernelspec": {
      "display_name": "Python 3",
      "language": "python",
      "name": "python3"
    },
    "language_info": {
      "codemirror_mode": {
        "name": "ipython",
        "version": 3
      },
      "file_extension": ".py",
      "mimetype": "text/x-python",
      "name": "python",
      "nbconvert_exporter": "python",
      "pygments_lexer": "ipython3",
      "version": "3.8.8"
    },
    "varInspector": {
      "cols": {
        "lenName": 16,
        "lenType": 16,
        "lenVar": 40
      },
      "kernels_config": {
        "python": {
          "delete_cmd_postfix": "",
          "delete_cmd_prefix": "del ",
          "library": "var_list.py",
          "varRefreshCmd": "print(var_dic_list())"
        },
        "r": {
          "delete_cmd_postfix": ") ",
          "delete_cmd_prefix": "rm(",
          "library": "var_list.r",
          "varRefreshCmd": "cat(var_dic_list()) "
        }
      },
      "types_to_exclude": [
        "module",
        "function",
        "builtin_function_or_method",
        "instance",
        "_Feature"
      ],
      "window_display": false
    },
    "colab": {
      "name": "Python basics.ipynb",
      "provenance": [],
      "collapsed_sections": [
        "3qQpW3Jy3cul",
        "A0H3pfh-3cul",
        "Ht2Kkg2K3cum",
        "JG98JuAU3cun",
        "PuJG2-Mz3cun",
        "av7n7cWh3cup",
        "foUtT3uV3cuq",
        "96wL2wEY3cuv",
        "l8V06GmY3cuw",
        "abdAcjUI3cuy",
        "0hnElIe93cuy",
        "VC3Ds8Z63cu3",
        "P7bSKu7u3cu5",
        "Z8t4cOfm3cu6",
        "4VP0ffA83cu8",
        "D3B1Jfho3cvB",
        "PshJujqy3cvC",
        "aqhtS8nI3cvD",
        "oS4e-t0X3cvF",
        "n1H0Ha9_3cvI",
        "Bhxj93uy3cvM",
        "TBhe1BLK3cvM",
        "sPO2m-mD3cvO",
        "WoftsbEJ3cvP",
        "9LLqlA_-3cvo",
        "P6GfHT763cvo",
        "ZqJqzuWa3cvp",
        "I1dcfRW83cvr",
        "37HZG80K3cvr",
        "NP49S_bK3cvs",
        "xfQXVK3a3cvs",
        "OiwUZ0QN3cvt",
        "Q1R9FTVT3cvu",
        "U1Y7FMr73cvu",
        "r0xXKH3p3cvu",
        "xRJJCWKw3cvv",
        "pN3yTDlE3cvv",
        "NF4YXtsn3cvv",
        "Mt61w5PD3cvw",
        "Z2VmN4oj3cvx",
        "gUXB81lG3cvx",
        "6-9rBJTy3cvx",
        "rG5N82w33cvy",
        "2sXfj0Hl3cv0",
        "zn2ZADHN3cv6",
        "30ApVG6i3cv8",
        "LtfM5WIG3cwB",
        "uPR844cW3cwB",
        "O1ruAlQ13cwD",
        "yTt2bu3n3cwE",
        "6ln4MF9i3cwG",
        "KAn9b_O73cwG",
        "dnUNaVNT3cwJ",
        "uPD007Em3cwK",
        "FQkMF_HM3cwL",
        "YeXLksok3cwL",
        "RRIAXAIE3cwN",
        "TEe8p4NZ3cwO",
        "jTICLK_23cwP",
        "P4JqkixB3cwS",
        "YUOemoiO3cwT",
        "A6kfNs7L3cwT",
        "Cv361kR-3cwY",
        "h2fHVq-S3cwZ"
      ]
    }
  },
  "nbformat": 4,
  "nbformat_minor": 0
}